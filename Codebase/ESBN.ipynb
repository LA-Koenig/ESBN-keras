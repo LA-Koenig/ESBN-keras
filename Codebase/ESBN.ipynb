{
 "cells": [
  {
   "cell_type": "code",
   "execution_count": 29,
   "id": "4636998e-861c-4f42-9bfe-d937613a6bf8",
   "metadata": {},
   "outputs": [],
   "source": [
    "import argparse\n",
    "import os\n",
    "import sys\n",
    "import time\n",
    "import numpy as np\n",
    "from PIL import Image\n",
    "\n",
    "import tensorflow as tf\n",
    "import tensorflow.keras as keras\n",
    "import matplotlib.pyplot as plt\n",
    "import urllib\n",
    "import time\n",
    "\n",
    "from einops import repeat, rearrange"
   ]
  },
  {
   "cell_type": "markdown",
   "id": "33eb4c4c-a3c6-492e-bfdd-72e63d6db718",
   "metadata": {},
   "source": [
    "This is following the model from LucidRains with some advisement from the original code\n",
    "\n",
    "https://github.com/lucidrains/ESBN-pytorch"
   ]
  },
  {
   "cell_type": "markdown",
   "id": "3e65ffde-5065-4082-8678-b029e04c2514",
   "metadata": {
    "tags": []
   },
   "source": [
    "# helper functions"
   ]
  },
  {
   "cell_type": "code",
   "execution_count": 2,
   "id": "de49f2c8-54ab-4771-ae9e-8b7f70339371",
   "metadata": {},
   "outputs": [],
   "source": [
    "def exists(val):\n",
    "    return val is not None"
   ]
  },
  {
   "cell_type": "code",
   "execution_count": 3,
   "id": "3282cc68-2d34-4a86-b38b-09f9c64c7f6b",
   "metadata": {},
   "outputs": [],
   "source": [
    "def safe_cat(t, el, dim =0):\n",
    "    if not exists(t):\n",
    "        return el\n",
    "    return tf.concat((t, el), axis = dim)"
   ]
  },
  {
   "cell_type": "code",
   "execution_count": 4,
   "id": "b1654469-6e43-46f8-8a6b-d556302d3e51",
   "metadata": {},
   "outputs": [],
   "source": [
    "def map_fn(fn, *args, **kwargs):\n",
    "    def inner(*arr):\n",
    "        return map(lambda t: fn(t, *args, **kwargs), arr)\n",
    "    return inner"
   ]
  },
  {
   "cell_type": "markdown",
   "id": "bc3cccdb-fc02-49c9-aa09-9e5fea9de15b",
   "metadata": {
    "tags": []
   },
   "source": [
    "# the Class"
   ]
  },
  {
   "cell_type": "code",
   "execution_count": 81,
   "id": "c1f5311f-3fff-4339-9d23-75dac39fd432",
   "metadata": {},
   "outputs": [],
   "source": [
    "class ESBN(keras.layers.Layer):\n",
    "    def __init__(\n",
    "        self,\n",
    "        *,\n",
    "        value_dim = 64,\n",
    "        key_dim = 64, #256?\n",
    "        hidden_dim = 512,\n",
    "        output_dim = 4,\n",
    "        encoder = None\n",
    "    ):\n",
    "        super().__init__()\n",
    "        self.output_dim = output_dim\n",
    "        self.h0 = tf.zeros(hidden_dim)\n",
    "        self.c0 = tf.zeros(hidden_dim)\n",
    "        self.k0 = tf.zeros(key_dim + 1)\n",
    "        \n",
    "        # self.h0 = tf.random.uniform([hidden_dim])\n",
    "        # self.c0 = tf.random.uniform([hidden_dim])\n",
    "        # self.k0 = tf.random.uniform([key_dim + 1])\n",
    "        \n",
    "        self.lstm = tf.keras.layers.LSTMCell(hidden_dim)  #What is the difference between this and just LSTM\n",
    "        self.to_gate = tf.keras.layers.Dense(1, activation=tf.keras.activations.sigmoid) #?\n",
    "        self.to_key = tf.keras.layers.Dense(key_dim)\n",
    "        self.to_output = tf.keras.layers.Dense(output_dim)\n",
    "        \n",
    "        self.encoder = tf.keras.Sequential()\n",
    "        self.encoder.add(tf.keras.layers.Reshape((32, 32, 1))) #to deal with shape issue\n",
    "        self.encoder.add(tf.keras.layers.Conv2D(32, kernel_size=4, strides=2, \n",
    "                                                activation=tf.keras.activations.relu))\n",
    "        self.encoder.add(tf.keras.layers.Conv2D(64, kernel_size=4, strides=2,\n",
    "                                                activation=tf.keras.activations.relu))\n",
    "        self.encoder.add(tf.keras.layers.Conv2D(64, kernel_size=4, strides=2,\n",
    "                                                activation=tf.keras.activations.relu))\n",
    "        self.encoder.add(tf.keras.layers.Flatten())\n",
    "        self.encoder.add(tf.keras.layers.Dense(value_dim))\n",
    "                         # if not exists(encoder) else encoder What does???\n",
    "            \n",
    "        self.to_confidence = tf.keras.layers.Dense(1, activation=tf.keras.activations.sigmoid)\n",
    "        self.to_something = tf.keras.layers.Dense(65)\n",
    "        \n",
    "    def call(self, images):\n",
    "        #return images\n",
    "        print('images shape: ', images.shape)\n",
    "        b = images.shape[1] #what exactly is this\n",
    "        print('b shape ', b)\n",
    "        # Mk = tf.zeros((tf.shape(images)[0], 0, 64)) #keys\n",
    "        # Mv = tf.zeros((tf.shape(images)[0], 0, 64)) #values\n",
    "        Mk = tf.zeros((tf.shape(images)[0], 64)) #keys\n",
    "        Mv = tf.zeros((tf.shape(images)[0], 64)) #values\n",
    "        # Mk = tf.random.uniform((tf.shape(images)[0], 0, 64))\n",
    "        # Mv = tf.random.uniform((tf.shape(images)[0], 0, 64))\n",
    "        \n",
    "        \n",
    "        #hx, cx, kx, k0 = map_fn(repeat, 'd -> b d', b = b)(self.h0, self.c0, self.k0, self.k0)\n",
    "        # hx = tf.zeros((tf.shape(images)[0], 1, self.h0.shape[-1])) #hidden states\n",
    "        # cx = tf.zeros((tf.shape(images)[0], 1, self.c0.shape[-1])) #confidence intervals?\n",
    "        # kx = tf.zeros((tf.shape(images)[0], 1, self.k0.shape[-1])) #next input\n",
    "        # k0 = tf.zeros((tf.shape(images)[0], 1, self.k0.shape[-1])) #redundent???\n",
    "        hx = tf.zeros((tf.shape(images)[0], self.h0.shape[-1])) #hidden states\n",
    "        cx = tf.zeros((tf.shape(images)[0], self.c0.shape[-1])) #confidence intervals?\n",
    "        kx = tf.zeros((tf.shape(images)[0], self.k0.shape[-1])) #next input\n",
    "        k0 = tf.zeros((tf.shape(images)[0], self.k0.shape[-1])) #redundent???\n",
    "     \n",
    "        out = tf.TensorArray(dtype=tf.float32,\n",
    "                             size=tf.shape(images)[1],\n",
    "                             dynamic_size=True)\n",
    "\n",
    "        print(\"out size after creation: \", out.size())\n",
    "        #ind = tf.Variable(0, trainable=False, dtype=tf.int32)\n",
    "        ind = tf.constant(0)\n",
    "        i = 0\n",
    "\n",
    "        #for ind, image in enumerate(images):\n",
    "        def body(ind, out):\n",
    "            nonlocal Mk, Mv, hx, cx, kx, k0, b, i\n",
    "            #nonlocal images\n",
    "            \n",
    "            image = images[:,ind,:,:]\n",
    "            print('in loop single shape:',image.shape)\n",
    "            #is_first = ind == 0\n",
    "            is_first = i == 0\n",
    "            z = self.encoder(image) #image encodings/\n",
    "            print('z : ', z.shape)\n",
    "            print('kx ', kx)\n",
    "            print('hx : ', hx.shape)\n",
    "            print('cx : ', cx)\n",
    "            hx, cx = self.lstm(kx, (hx, cx)) #are we sure this is returning the right things?\n",
    "            \n",
    "            y, g, kw = self.to_output(hx), self.to_gate(hx), self.to_key(hx)\n",
    "            \n",
    "            # if is_first: #redundent?\n",
    "            #     kx = k0\n",
    "            # else:\n",
    "            if not is_first:\n",
    "                # attention\n",
    "                #sim = tf.einsum('b n d, b d -> b n', Mv, z)\n",
    "                # wk = tf.keras.layers.Activation(activation=tf.keras.activations.softmax)(sim)\n",
    "                #wk = tf.nn.softmax(sim) #weights\n",
    "                print(\"Mv shape: \", Mv.shape)\n",
    "                dot = tf.tensordot(Mv, z, axes=1)\n",
    "                test = self.to_something(dot)\n",
    "                wk = tf.nn.softmax(test)\n",
    "                print(\"test : \", test.shape)\n",
    "                print(\"dot : \", dot.shape)\n",
    "                print(\"wk : \", wk.shape)\n",
    "                # calculate confidence\n",
    "                #sim, wk = map_fn(rearrange, 'b n -> b n ()')(sim, wk) #consider\n",
    "                #ck = self.to_confidence(sim)\n",
    "                #ck = a logistic sigmoid with trainable paremeters gamma and beta???\n",
    "                ck = self.to_confidence(dot)\n",
    "                print(\"ck : \", ck.shape)\n",
    "                #kx = g.sigmoid() * (wk * torch.cat((Mk, ck), dim = -1)).sum(dim = 1)\n",
    "                cc = tf.keras.layers.concatenate([Mk, ck], axis=-1) #verified to work the same\n",
    "                print(\"cc : \", cc.shape)\n",
    "                cc = tf.math.reduce_sum(wk * cc, axis = 1) #same as torch.sum\n",
    "                print(\"cc : \", cc.shape)\n",
    "                kx = g * cc\n",
    "                \n",
    "            #kw, z = map_fn(rearrange, 'b d -> b () d')(kw, z)\n",
    "            print(\"=======\")\n",
    "            print(\"Mk : \", Mk.shape)\n",
    "            print(\"kw : \", kw.shape)\n",
    "            print(\"Mv : \", Mv.shape)\n",
    "            print(\"z : \", z.shape)\n",
    "            Mk = safe_cat(Mk, kw, dim = 1)\n",
    "            Mv = safe_cat(Mv, z, dim = 1) \n",
    "\n",
    "            #out.write(ind, y)\n",
    "            out = out.write(i, y)\n",
    "            print(\"i : \", i)\n",
    "            i += 1\n",
    "            print(\"then i : \", i)\n",
    "            print(\"y : \", y.shape)\n",
    "            print(\"?? out : \", out.read(i))\n",
    "            return [ind + 1, out]\n",
    "                \n",
    "        \n",
    "        \n",
    "        # tf.while_loop(\n",
    "        #     lambda i,ind: i < tf.shape(images)[1] + 1,\n",
    "        #     body, \n",
    "        #     [ind, out])\n",
    "        ind, out = tf.while_loop(\n",
    "            lambda i,ind: i < tf.shape(images)[1] + 1,\n",
    "            body, \n",
    "            [ind, out])\n",
    "        \n",
    "        out = out.read(images.shape[1]-1)\n",
    "        print(\"out : \", out)\n",
    "        #return out.stack() \n",
    "        return out\n",
    "                "
   ]
  },
  {
   "cell_type": "markdown",
   "id": "e70066a3-cb25-4719-8859-656b3956b9ce",
   "metadata": {
    "jp-MarkdownHeadingCollapsed": true,
    "tags": []
   },
   "source": [
    "# Same-Difference"
   ]
  },
  {
   "cell_type": "code",
   "execution_count": 6,
   "id": "455fac36-4651-4157-85c4-f59b22e0c1f8",
   "metadata": {},
   "outputs": [],
   "source": [
    "#This is all part of the args mess in their code\n",
    "#initially setting this to be theri defaults\n",
    "\n",
    "#Model Settings\n",
    "model_name = 'ESBN'\n",
    "norm_type = 'contextnorm'\n",
    "encoder = 'conv'\n",
    "#Task settings\n",
    "task = 'same_diff'\n",
    "train_gen_mathod = 'full_space'\n",
    "n_shapes = 100 #total num of shapes available for training/testing\n",
    "m_holdout = 0 #number of objects (out of n) withheld during training\n",
    "#Training Settings\n",
    "train_batch_size = 32\n",
    "train_set_size = 10000\n",
    "train_proportion = 0.95\n",
    "lr = 5e-4\n",
    "epochs = 50\n",
    "log_interval = 10\n",
    "#Test settings\n",
    "test_batch_size = 100\n",
    "test_set_size = 10000\n",
    "#Device Settings\n",
    "no_cuda = False #Actions??? 'store_true'\n",
    "device = 0 \n",
    "#run number\n",
    "run = 1"
   ]
  },
  {
   "cell_type": "code",
   "execution_count": 7,
   "id": "77089001-151a-4d8e-9fc0-4d3c0346c97f",
   "metadata": {},
   "outputs": [
    {
     "data": {
      "text/plain": [
       "(100,)"
      ]
     },
     "execution_count": 7,
     "metadata": {},
     "output_type": "execute_result"
    }
   ],
   "source": [
    "all_shapes = np.arange(n_shapes)\n",
    "np.random.shuffle(all_shapes)\n",
    "all_shapes.shape"
   ]
  },
  {
   "cell_type": "code",
   "execution_count": 8,
   "id": "c044b016-27b4-4551-b9cf-2a4151330cdd",
   "metadata": {},
   "outputs": [
    {
     "data": {
      "text/plain": [
       "(100,)"
      ]
     },
     "execution_count": 8,
     "metadata": {},
     "output_type": "execute_result"
    }
   ],
   "source": [
    "if(m_holdout > 0):\n",
    "    train_shapes = all_shapes[m_holdout:]\n",
    "    test_shapes = all_shapes[:m_holdout]\n",
    "else:\n",
    "    train_shapes = all_shapes\n",
    "    test_shapes = all_shapes\n",
    "    \n",
    "train_shapes.shape"
   ]
  },
  {
   "cell_type": "code",
   "execution_count": 9,
   "id": "1a337030-5dca-41bf-a589-1a39d774eed7",
   "metadata": {},
   "outputs": [],
   "source": [
    "#now we're in their function\n",
    "import sys\n",
    "import random\n",
    "import numpy as np\n",
    "\n",
    "# Prevent python from saving out .pyc files\n",
    "sys.dont_write_bytecode = True\n",
    "\n",
    "y_dim = 2\n",
    "seq_len = 2"
   ]
  },
  {
   "cell_type": "code",
   "execution_count": 10,
   "id": "942ff480-5d9f-4fde-9f26-8626a91d1a34",
   "metadata": {},
   "outputs": [
    {
     "data": {
      "text/plain": [
       "18810"
      ]
     },
     "execution_count": 10,
     "metadata": {},
     "output_type": "execute_result"
    }
   ],
   "source": [
    "# If m = 0, training and test sets are drawn from same set of shapes\n",
    "if(m_holdout == 0):\n",
    "    # Total number of possible trials\n",
    "    shapes_avail = n_shapes\n",
    "    total_trials = (shapes_avail * (shapes_avail - 1)) * 2\n",
    "    \n",
    "    # Proportion of training set size vs test set size\n",
    "    test_proportion = 1 - train_proportion\n",
    "    \n",
    "    # Create training/test set sizes\n",
    "    train_set_size = np.round(train_proportion * total_trials).astype(np.int32)\n",
    "    test_set_size = np.round(test_proportion * total_trials).astype(np.int32)\n",
    "    \n",
    "else: \n",
    "    # Ensure that there are enough potential trials for desired training set size \n",
    "    # (or change train set size)\n",
    "    shapes_avail = n_shapes - m_holdout\n",
    "    total_trials = (shapes_avail * (shapes_avail - 1)) * 2\n",
    "    \n",
    "    if(train_set_size > total_trials):\n",
    "        train_set_size = total_trials\n",
    "    \n",
    "    # Ensure that there are enough potential trials for desired test set size \n",
    "    # (or change test set size)\n",
    "    shapes_avail = n_shapes - (n_shapes - m_holdout)\n",
    "    total_trials = (shapes_avail * (shapes_avail - 1)) * 2\n",
    "    \n",
    "    if(test_set_size > total_trials):\n",
    "        test_set_size = total_trials\n",
    "\n",
    "train_set_size"
   ]
  },
  {
   "cell_type": "code",
   "execution_count": 11,
   "id": "911c61a0-4b07-43bc-bc19-3164d7394f55",
   "metadata": {},
   "outputs": [],
   "source": [
    "# If m = 0, training and test sets are drawn from same set of shapes\n",
    "if m_holdout == 0:\n",
    "    # Create all possible trials\n",
    "    same_trials = []\n",
    "    diff_trials = []\n",
    "    for shape1 in train_shapes:\n",
    "        for shape2 in train_shapes:\n",
    "            if shape1 == shape2:\n",
    "                same_trials.append([shape1, shape2])\n",
    "            else:\n",
    "                diff_trials.append([shape1, shape2])\n",
    "    # Shuffle\n",
    "    random.shuffle(same_trials)\n",
    "    random.shuffle(diff_trials)\n",
    "    # Split trials for train and test sets\n",
    "    same_trials_train = same_trials[:np.round(train_proportion * len(same_trials)).astype(np.int32)]\n",
    "    same_trials_test = same_trials[np.round(train_proportion * len(same_trials)).astype(np.int32):]\n",
    "    diff_trials_train = diff_trials[:np.round(train_proportion * len(diff_trials)).astype(np.int32)]\n",
    "    diff_trials_test = diff_trials[np.round(train_proportion * len(diff_trials)).astype(np.int32):]\n",
    "# Otherwise, training and test sets are completely disjoint (in terms of the shapes that are used), and can be generated separately\n",
    "else:\n",
    "    # Create all possible training trials\n",
    "    same_trials_train = []\n",
    "    diff_trials_train = []\n",
    "    for shape1 in train_shapes:\n",
    "        for shape2 in train_shapes:\n",
    "            if shape1 == shape2:\n",
    "                same_trials_train.append([shape1, shape2])\n",
    "            else:\n",
    "                diff_trials_train.append([shape1, shape2])\n",
    "    # Shuffle\n",
    "    random.shuffle(same_trials_train)\n",
    "    random.shuffle(diff_trials_train)\n",
    "    # Create all possible test trials\n",
    "    same_trials_test = []\n",
    "    diff_trials_test = []\n",
    "    for shape1 in test_shapes:\n",
    "        for shape2 in test_shapes:\n",
    "            if shape1 == shape2:\n",
    "                same_trials_test.append([shape1, shape2])\n",
    "            else:\n",
    "                diff_trials_test.append([shape1, shape2])\n",
    "    # Shuffle\n",
    "    random.shuffle(same_trials_test)\n",
    "    random.shuffle(diff_trials_test)"
   ]
  },
  {
   "cell_type": "code",
   "execution_count": 12,
   "id": "3511877e-acc2-4a90-a630-7249ff16b044",
   "metadata": {},
   "outputs": [],
   "source": [
    "# Duplicate 'same' trials to match number of 'different' trials\n",
    "same_trials_train_balanced = []\n",
    "for t in range(len(diff_trials_train)):\n",
    "    same_trials_train_balanced.append(same_trials_train[np.floor(np.random.rand()*len(same_trials_train)).astype(np.int32)])\n",
    "same_trials_test_balanced = []\n",
    "for t in range(len(diff_trials_test)):\n",
    "    same_trials_test_balanced.append(same_trials_test[np.floor(np.random.rand()*len(same_trials_test)).astype(np.int32)])\n",
    "# Combine all same and different trials for training set\n",
    "all_train_seq = []\n",
    "all_train_targ = []\n",
    "for t in range(len(same_trials_train_balanced)):\n",
    "    all_train_seq.append(same_trials_train_balanced[t])\n",
    "    all_train_targ.append(0)\n",
    "for t in range(len(diff_trials_train)):\n",
    "    all_train_seq.append(diff_trials_train[t])\n",
    "    all_train_targ.append(1)\n",
    "# Combine all same and different trials for test set\n",
    "all_test_seq = []\n",
    "all_test_targ = []\n",
    "for t in range(len(same_trials_test_balanced)):\n",
    "    all_test_seq.append(same_trials_test_balanced[t])\n",
    "    all_test_targ.append(0)\n",
    "for t in range(len(diff_trials_test)):\n",
    "    all_test_seq.append(diff_trials_test[t])\n",
    "    all_test_targ.append(1)\n",
    "# Shuffle trials in training set\n",
    "train_ind = np.arange(len(all_train_seq))\n",
    "np.random.shuffle(train_ind)\n",
    "all_train_seq = np.array(all_train_seq)[train_ind]\n",
    "all_train_targ = np.array(all_train_targ)[train_ind]\n",
    "# Shuffle trials in test set\n",
    "test_ind = np.arange(len(all_test_seq))\n",
    "np.random.shuffle(test_ind)\n",
    "all_test_seq = np.array(all_test_seq)[test_ind]\n",
    "all_test_targ = np.array(all_test_targ)[test_ind]\n",
    "# Select subset if desired dataset size is smaller than number of all possible trials\n",
    "if (train_set_size + test_set_size) < total_trials:\n",
    "    all_train_seq = all_train_seq[:train_set_size, :]\n",
    "    all_train_targ = all_train_targ[:train_set_size]\n",
    "    all_test_seq = all_test_seq[:test_set_size, :]\n",
    "    all_test_targ = all_test_targ[:test_set_size]\n"
   ]
  },
  {
   "cell_type": "code",
   "execution_count": 13,
   "id": "ca113dbb-26b3-4ea7-8b1d-7e1b9534c9f1",
   "metadata": {},
   "outputs": [],
   "source": [
    "# Create training and test sets\n",
    "train_set = {'seq_ind': all_train_seq, 'y': all_train_targ}\n",
    "test_set = {'seq_ind': all_test_seq, 'y': all_test_targ}"
   ]
  },
  {
   "cell_type": "code",
   "execution_count": 14,
   "id": "0809985e-26d9-4bb1-89c4-e0066644a110",
   "metadata": {},
   "outputs": [
    {
     "data": {
      "text/plain": [
       "array([ 0,  1,  2,  3,  4,  5,  6,  7,  8,  9, 10, 11, 12, 13, 14, 15, 16,\n",
       "       17, 18, 19, 20, 21, 22, 23, 24, 25, 26, 27, 28, 29, 30, 31, 32, 33,\n",
       "       34, 35, 36, 37, 38, 39, 40, 41, 42, 43, 44, 45, 46, 47, 48, 49, 50,\n",
       "       51, 52, 53, 54, 55, 56, 57, 58, 59, 60, 61, 62, 63, 64, 65, 66, 67,\n",
       "       68, 69, 70, 71, 72, 73, 74, 75, 76, 77, 78, 79, 80, 81, 82, 83, 84,\n",
       "       85, 86, 87, 88, 89, 90, 91, 92, 93, 94, 95, 96, 97, 98, 99])"
      ]
     },
     "execution_count": 14,
     "metadata": {},
     "output_type": "execute_result"
    }
   ],
   "source": [
    "np.unique(train_set['seq_ind'])"
   ]
  },
  {
   "cell_type": "code",
   "execution_count": 15,
   "id": "6d7e0c85-bf9f-4fd4-9813-283eebcf9759",
   "metadata": {},
   "outputs": [
    {
     "data": {
      "text/plain": [
       "array([ 0,  1,  2,  3,  4,  5,  6,  7,  8,  9, 10, 11, 12, 13, 14, 15, 16,\n",
       "       17, 18, 19, 20, 21, 22, 23, 24, 25, 26, 27, 28, 29, 30, 31, 32, 33,\n",
       "       34, 35, 36, 37, 38, 39, 40, 41, 42, 43, 44, 45, 46, 47, 48, 49, 50,\n",
       "       51, 52, 53, 54, 55, 56, 57, 58, 59, 60, 61, 62, 63, 64, 65, 66, 67,\n",
       "       68, 69, 70, 71, 72, 73, 74, 75, 76, 77, 78, 79, 80, 81, 82, 83, 84,\n",
       "       85, 86, 87, 88, 89, 90, 91, 92, 93, 94, 95, 96, 97, 98, 99])"
      ]
     },
     "execution_count": 15,
     "metadata": {},
     "output_type": "execute_result"
    }
   ],
   "source": [
    "np.unique(test_set['seq_ind'])"
   ]
  },
  {
   "cell_type": "code",
   "execution_count": 16,
   "id": "45bea5d9-7397-4f69-a907-ec6da1b64fa0",
   "metadata": {},
   "outputs": [],
   "source": [
    "#back to train and eval at line 197\n"
   ]
  },
  {
   "cell_type": "code",
   "execution_count": 17,
   "id": "58a1a3c0-9b6f-400f-bb86-6044bb82e146",
   "metadata": {},
   "outputs": [
    {
     "name": "stderr",
     "output_type": "stream",
     "text": [
      "2022-12-01 01:09:30.176152: W tensorflow/stream_executor/platform/default/dso_loader.cc:64] Could not load dynamic library 'libcuda.so.1'; dlerror: libcuda.so.1: cannot open shared object file: No such file or directory\n",
      "2022-12-01 01:09:30.176203: W tensorflow/stream_executor/cuda/cuda_driver.cc:269] failed call to cuInit: UNKNOWN ERROR (303)\n",
      "2022-12-01 01:09:30.176251: I tensorflow/stream_executor/cuda/cuda_diagnostics.cc:156] kernel driver does not appear to be running on this host (jupyter-la-2dkoenig): /proc/driver/nvidia/version does not exist\n",
      "2022-12-01 01:09:30.176850: I tensorflow/core/platform/cpu_feature_guard.cc:151] This TensorFlow binary is optimized with oneAPI Deep Neural Network Library (oneDNN) to use the following CPU instructions in performance-critical operations:  SSE4.1 SSE4.2 AVX FMA\n",
      "To enable them in other operations, rebuild TensorFlow with the appropriate compiler flags.\n"
     ]
    },
    {
     "data": {
      "text/plain": [
       "TensorShape([100, 32, 32])"
      ]
     },
     "execution_count": 17,
     "metadata": {},
     "output_type": "execute_result"
    }
   ],
   "source": [
    "#Load images \n",
    "all_imgs = []\n",
    "for i in range(n_shapes):\n",
    "    img_fname='../imgs/' + str(i) + '.png'\n",
    "    img = tf.convert_to_tensor(np.array(Image.open(img_fname)) / 255.)\n",
    "    all_imgs.append(img)\n",
    "all_imgs = tf.stack(all_imgs)\n",
    "all_imgs.shape"
   ]
  },
  {
   "cell_type": "code",
   "execution_count": 18,
   "id": "276bb5c8-ca20-4c34-b5ee-2dd559a53bb5",
   "metadata": {},
   "outputs": [
    {
     "data": {
      "image/png": "[encoded data removed]",
      "text/plain": [
       "<Figure size 432x288 with 1 Axes>"
      ]
     },
     "metadata": {
      "needs_background": "light"
     },
     "output_type": "display_data"
    }
   ],
   "source": [
    "plt.imshow(all_imgs[0])\n",
    "plt.show()"
   ]
  },
  {
   "cell_type": "code",
   "execution_count": 19,
   "id": "7163e327-6b7f-4594-9851-7f43c5e5357a",
   "metadata": {},
   "outputs": [
    {
     "data": {
      "text/plain": [
       "18810"
      ]
     },
     "execution_count": 19,
     "metadata": {},
     "output_type": "execute_result"
    }
   ],
   "source": [
    "#train_set['seq_ind'][0]\n",
    "train_set['seq_ind'].shape + all_imgs.shape[1:]\n",
    "\n",
    "train_set['seq_ind'].shape[0]"
   ]
  },
  {
   "cell_type": "code",
   "execution_count": 20,
   "id": "b592ccd5-7254-42c6-915a-feffab8d64e4",
   "metadata": {},
   "outputs": [],
   "source": [
    "x_train = np.empty(shape=train_set['seq_ind'].shape + all_imgs.shape[1:],\n",
    "                   dtype=float)\n",
    "\n",
    "for i in range(train_set['seq_ind'].shape[0]):\n",
    "    x_train[i][0] = all_imgs[train_set['seq_ind'][i][0]]\n",
    "    x_train[i][1] = all_imgs[train_set['seq_ind'][i][1]]"
   ]
  },
  {
   "cell_type": "code",
   "execution_count": 21,
   "id": "a072c33e-1c33-4e66-8e35-f57fc795adb4",
   "metadata": {},
   "outputs": [
    {
     "data": {
      "text/plain": [
       "(990, 2, 32, 32)"
      ]
     },
     "execution_count": 21,
     "metadata": {},
     "output_type": "execute_result"
    }
   ],
   "source": [
    "x_test = np.empty(shape=test_set['seq_ind'].shape + all_imgs.shape[1:],\n",
    "                   dtype=float)\n",
    "\n",
    "for i in range(test_set['seq_ind'].shape[0]):\n",
    "    x_test[i][0] = all_imgs[test_set['seq_ind'][i][0]]\n",
    "    x_test[i][1] = all_imgs[test_set['seq_ind'][i][1]]\n",
    "    \n",
    "x_test.shape"
   ]
  },
  {
   "cell_type": "code",
   "execution_count": 22,
   "id": "26d449e2-6b01-4c7e-8b3e-ad874d2fd83f",
   "metadata": {},
   "outputs": [
    {
     "data": {
      "text/plain": [
       "(18810, 2, 32, 32)"
      ]
     },
     "execution_count": 22,
     "metadata": {},
     "output_type": "execute_result"
    }
   ],
   "source": [
    "x_train.shape"
   ]
  },
  {
   "cell_type": "code",
   "execution_count": 23,
   "id": "200884cd-132b-430f-8c57-0170f611658d",
   "metadata": {},
   "outputs": [
    {
     "name": "stdout",
     "output_type": "stream",
     "text": [
      "differnt?  False\n"
     ]
    },
    {
     "data": {
      "text/plain": [
       "<Figure size 432x288 with 0 Axes>"
      ]
     },
     "metadata": {},
     "output_type": "display_data"
    },
    {
     "data": {
      "image/png": "[encoded data removed]",
      "text/plain": [
       "<Figure size 432x288 with 2 Axes>"
      ]
     },
     "metadata": {
      "needs_background": "light"
     },
     "output_type": "display_data"
    }
   ],
   "source": [
    "testi = 0\n",
    "plt.figure()\n",
    "\n",
    "#subplot(r,c) provide the no. of rows and columns\n",
    "f, axarr = plt.subplots(1,2) \n",
    "\n",
    "# use the created array to output your multiple images. In this case I have stacked 4 images vertically\n",
    "axarr[0].imshow(x_train[testi][0])\n",
    "axarr[1].imshow(x_train[testi][1])\n",
    "\n",
    "print(\"differnt? \", bool(train_set['y'][testi]))"
   ]
  },
  {
   "cell_type": "code",
   "execution_count": 24,
   "id": "e4ee8f14-d6c9-498c-a047-ff6548b04631",
   "metadata": {},
   "outputs": [
    {
     "name": "stdout",
     "output_type": "stream",
     "text": [
      "differnt?  True\n"
     ]
    },
    {
     "data": {
      "text/plain": [
       "<Figure size 432x288 with 0 Axes>"
      ]
     },
     "metadata": {},
     "output_type": "display_data"
    },
    {
     "data": {
      "image/png": "[encoded data removed]",
      "text/plain": [
       "<Figure size 432x288 with 2 Axes>"
      ]
     },
     "metadata": {
      "needs_background": "light"
     },
     "output_type": "display_data"
    }
   ],
   "source": [
    "testi = 1\n",
    "plt.figure()\n",
    "\n",
    "#subplot(r,c) provide the no. of rows and columns\n",
    "f, axarr = plt.subplots(1,2) \n",
    "\n",
    "# use the created array to output your multiple images. In this case I have stacked 4 images vertically\n",
    "axarr[0].imshow(x_train[testi][0])\n",
    "axarr[1].imshow(x_train[testi][1])\n",
    "\n",
    "print(\"differnt? \", bool(train_set['y'][testi]))"
   ]
  },
  {
   "cell_type": "markdown",
   "id": "105f733a-915d-4d9e-bf81-ce77e66b27de",
   "metadata": {},
   "source": [
    "# Model"
   ]
  },
  {
   "cell_type": "code",
   "execution_count": 107,
   "id": "dfa701c2-5275-45c7-824f-6f0adf6633c8",
   "metadata": {},
   "outputs": [
    {
     "name": "stdout",
     "output_type": "stream",
     "text": [
      "images shape:  (None, 2, 32, 32)\n",
      "b shape  2\n",
      "out size after creation:  Tensor(\"esbn_18/TensorListLength:0\", shape=(), dtype=int32)\n",
      "in loop single shape: (None, 32, 32)\n",
      "z :  (None, 64)\n",
      "kx  Tensor(\"esbn_18/zeros_4:0\", shape=(None, 65), dtype=float32)\n",
      "hx :  (None, 512)\n",
      "cx :  Tensor(\"esbn_18/zeros_3:0\", shape=(None, 512), dtype=float32)\n",
      "=======\n",
      "Mk :  (None, 64)\n",
      "kw :  (None, 64)\n",
      "Mv :  (None, 64)\n",
      "z :  (None, 64)\n",
      "i :  0\n",
      "then i :  1\n",
      "y :  (None, 2)\n",
      "?? out :  Tensor(\"esbn_18/while/TensorArrayV2Read/TensorListGetItem:0\", shape=(None, 2), dtype=float32)\n",
      "out :  Tensor(\"esbn_18/TensorArrayV2Read/TensorListGetItem:0\", shape=(None, 2), dtype=float32)\n",
      "After ESBN shapes :  (None, 2)\n"
     ]
    }
   ],
   "source": [
    "x = keras.layers.Input(x_train.shape[1:])\n",
    "#y =x\n",
    "y = ESBN(output_dim=2)(x)\n",
    "print(\"After ESBN shapes : \", y.shape)\n",
    "#y = keras.layers.Flatten()(y)\n",
    "#y = tf.keras.layers.Softmax()(y)\n",
    "#y = keras.layers.Dense(1, activation=keras.activations.sigmoid)(y)\n",
    "#y = keras.layers.Flatten()(y)\n",
    "y = keras.layers.Dense(1, activation=keras.activations.softmax)(y)\n",
    "#Class tokens\n",
    "\n",
    "model = keras.Model(x, y)"
   ]
  },
  {
   "cell_type": "code",
   "execution_count": 108,
   "id": "be5e09b9-f467-4007-89b0-8f19d6ab933b",
   "metadata": {},
   "outputs": [
    {
     "data": {
      "image/png": "[encoded data removed]",
      "text/plain": [
       "<IPython.core.display.Image object>"
      ]
     },
     "execution_count": 108,
     "metadata": {},
     "output_type": "execute_result"
    }
   ],
   "source": [
    "keras.utils.plot_model(model, expand_nested=True, show_shapes=True)"
   ]
  },
  {
   "cell_type": "code",
   "execution_count": 136,
   "id": "d3d3993d-d4dc-4701-9c0c-4ab9aa8da4ca",
   "metadata": {},
   "outputs": [
    {
     "name": "stdout",
     "output_type": "stream",
     "text": [
      "Model: \"model_15\"\n",
      "_________________________________________________________________\n",
      " Layer (type)                Output Shape              Param #   \n",
      "=================================================================\n",
      " input_19 (InputLayer)       [(None, 2, 32, 32)]       0         \n",
      "                                                                 \n",
      " esbn_18 (ESBN)              (None, 2)                 1333539   \n",
      "                                                                 \n",
      " dense_129 (Dense)           (None, 1)                 3         \n",
      "                                                                 \n",
      "=================================================================\n",
      "Total params: 1,333,542\n",
      "Trainable params: 1,333,542\n",
      "Non-trainable params: 0\n",
      "_________________________________________________________________\n"
     ]
    }
   ],
   "source": [
    "model.summary()"
   ]
  },
  {
   "cell_type": "code",
   "execution_count": 128,
   "id": "5ca34d22-908d-4000-b295-edfc52785551",
   "metadata": {},
   "outputs": [],
   "source": [
    "lr = 0.000001\n",
    "# model.compile(loss=keras.losses.SparseCategoricalCrossentropy(from_logits=True),\n",
    "#               optimizer=keras.optimizers.Adam(lr),\n",
    "#               metrics=keras.metrics.SparseCategoricalAccuracy())\n",
    "\n",
    "model.compile(loss=keras.losses.BinaryCrossentropy(),\n",
    "              optimizer=keras.optimizers.Adam(lr),\n",
    "              metrics=keras.metrics.BinaryAccuracy())"
   ]
  },
  {
   "cell_type": "code",
   "execution_count": 129,
   "id": "3e3a5126-f03f-4e69-a3f5-f08922530203",
   "metadata": {},
   "outputs": [
    {
     "name": "stdout",
     "output_type": "stream",
     "text": [
      "images shape:  (None, 2, 32, 32)\n",
      "b shape  2\n",
      "out size after creation:  Tensor(\"model_15/esbn_18/TensorListLength:0\", shape=(), dtype=int32)\n",
      "in loop single shape: (None, 32, 32)\n",
      "z :  (None, 64)\n",
      "kx  Tensor(\"model_15/esbn_18/zeros_4:0\", shape=(None, 65), dtype=float32)\n",
      "hx :  (None, 512)\n",
      "cx :  Tensor(\"model_15/esbn_18/zeros_3:0\", shape=(None, 512), dtype=float32)\n",
      "=======\n",
      "Mk :  (None, 64)\n",
      "kw :  (None, 64)\n",
      "Mv :  (None, 64)\n",
      "z :  (None, 64)\n",
      "i :  0\n",
      "then i :  1\n",
      "y :  (None, 2)\n",
      "?? out :  Tensor(\"model_15/esbn_18/while/TensorArrayV2Read/TensorListGetItem:0\", shape=(None, 2), dtype=float32)\n",
      "out :  Tensor(\"model_15/esbn_18/TensorArrayV2Read/TensorListGetItem:0\", shape=(None, 2), dtype=float32)\n"
     ]
    },
    {
     "data": {
      "text/plain": [
       "array([[1.],\n",
       "       [1.],\n",
       "       [1.],\n",
       "       [1.]], dtype=float32)"
      ]
     },
     "execution_count": 129,
     "metadata": {},
     "output_type": "execute_result"
    }
   ],
   "source": [
    "testi = 0\n",
    "prediction = model.predict(x_train[testi:testi+4])\n",
    "prediction"
   ]
  },
  {
   "cell_type": "code",
   "execution_count": 130,
   "id": "7103dc07-c59a-4822-99b5-133fcf0d9ae3",
   "metadata": {},
   "outputs": [
    {
     "data": {
      "text/plain": [
       "array([0, 1, 1, 1])"
      ]
     },
     "execution_count": 130,
     "metadata": {},
     "output_type": "execute_result"
    }
   ],
   "source": [
    "train_set['y'][testi:testi+4]"
   ]
  },
  {
   "cell_type": "code",
   "execution_count": 131,
   "id": "10e43300-d3c8-4654-b6b8-64a2e3fda295",
   "metadata": {},
   "outputs": [
    {
     "data": {
      "text/plain": [
       "<tf.Tensor: shape=(), dtype=float32, numpy=0.75>"
      ]
     },
     "execution_count": 131,
     "metadata": {},
     "output_type": "execute_result"
    }
   ],
   "source": [
    "keras.metrics.BinaryAccuracy()(train_set['y'][testi:testi+4],prediction)"
   ]
  },
  {
   "cell_type": "code",
   "execution_count": 132,
   "id": "a7f8cf3d-0cd4-471f-a6d6-560a0d21e66e",
   "metadata": {
    "scrolled": true,
    "tags": []
   },
   "outputs": [
    {
     "name": "stdout",
     "output_type": "stream",
     "text": [
      "Epoch 1/20\n",
      "images shape:  (None, 2, 32, 32)\n",
      "b shape  2\n",
      "out size after creation:  Tensor(\"model_15/esbn_18/TensorListLength:0\", shape=(), dtype=int32)\n",
      "in loop single shape: (None, 32, 32)\n",
      "z :  (None, 64)\n",
      "kx  Tensor(\"model_15/esbn_18/zeros_4:0\", shape=(None, 65), dtype=float32)\n",
      "hx :  (None, 512)\n",
      "cx :  Tensor(\"model_15/esbn_18/zeros_3:0\", shape=(None, 512), dtype=float32)\n",
      "=======\n",
      "Mk :  (None, 64)\n",
      "kw :  (None, 64)\n",
      "Mv :  (None, 64)\n",
      "z :  (None, 64)\n",
      "i :  0\n",
      "then i :  1\n",
      "y :  (None, 2)\n",
      "?? out :  Tensor(\"model_15/esbn_18/while/TensorArrayV2Read/TensorListGetItem:0\", shape=(None, 2), dtype=float32)\n",
      "out :  Tensor(\"model_15/esbn_18/TensorArrayV2Read/TensorListGetItem:0\", shape=(None, 2), dtype=float32)\n",
      "images shape:  (None, 2, 32, 32)\n",
      "b shape  2\n",
      "out size after creation:  Tensor(\"model_15/esbn_18/TensorListLength:0\", shape=(), dtype=int32)\n",
      "in loop single shape: (None, 32, 32)\n",
      "z :  (None, 64)\n",
      "kx  Tensor(\"model_15/esbn_18/zeros_4:0\", shape=(None, 65), dtype=float32)\n",
      "hx :  (None, 512)\n",
      "cx :  Tensor(\"model_15/esbn_18/zeros_3:0\", shape=(None, 512), dtype=float32)\n",
      "=======\n",
      "Mk :  (None, 64)\n",
      "kw :  (None, 64)\n",
      "Mv :  (None, 64)\n",
      "z :  (None, 64)\n",
      "i :  0\n",
      "then i :  1\n",
      "y :  (None, 2)\n",
      "?? out :  Tensor(\"model_15/esbn_18/while/TensorArrayV2Read/TensorListGetItem:0\", shape=(None, 2), dtype=float32)\n",
      "out :  Tensor(\"model_15/esbn_18/TensorArrayV2Read/TensorListGetItem:0\", shape=(None, 2), dtype=float32)\n",
      "470/471 [============================>.] - ETA: 0s - loss: 0.6931 - binary_accuracy: 0.5004images shape:  (None, 2, 32, 32)\n",
      "b shape  2\n",
      "out size after creation:  Tensor(\"model_15/esbn_18/TensorListLength:0\", shape=(), dtype=int32)\n",
      "in loop single shape: (None, 32, 32)\n",
      "z :  (None, 64)\n",
      "kx  Tensor(\"model_15/esbn_18/zeros_4:0\", shape=(None, 65), dtype=float32)\n",
      "hx :  (None, 512)\n",
      "cx :  Tensor(\"model_15/esbn_18/zeros_3:0\", shape=(None, 512), dtype=float32)\n",
      "=======\n",
      "Mk :  (None, 64)\n",
      "kw :  (None, 64)\n",
      "Mv :  (None, 64)\n",
      "z :  (None, 64)\n",
      "i :  0\n",
      "then i :  1\n",
      "y :  (None, 2)\n",
      "?? out :  Tensor(\"model_15/esbn_18/while/TensorArrayV2Read/TensorListGetItem:0\", shape=(None, 2), dtype=float32)\n",
      "out :  Tensor(\"model_15/esbn_18/TensorArrayV2Read/TensorListGetItem:0\", shape=(None, 2), dtype=float32)\n",
      "471/471 [==============================] - 11s 18ms/step - loss: 0.6931 - binary_accuracy: 0.5003 - val_loss: 0.6932 - val_binary_accuracy: 0.4987\n",
      "Epoch 2/20\n",
      "471/471 [==============================] - 8s 17ms/step - loss: 0.6931 - binary_accuracy: 0.5003 - val_loss: 0.6932 - val_binary_accuracy: 0.4987\n",
      "Epoch 3/20\n",
      "471/471 [==============================] - 8s 17ms/step - loss: 0.6931 - binary_accuracy: 0.5003 - val_loss: 0.6932 - val_binary_accuracy: 0.4987\n",
      "Epoch 4/20\n",
      "471/471 [==============================] - 8s 17ms/step - loss: 0.6931 - binary_accuracy: 0.5003 - val_loss: 0.6932 - val_binary_accuracy: 0.4987\n",
      "Epoch 5/20\n",
      "471/471 [==============================] - 8s 17ms/step - loss: 0.6931 - binary_accuracy: 0.5003 - val_loss: 0.6932 - val_binary_accuracy: 0.4987\n",
      "Epoch 6/20\n",
      "471/471 [==============================] - 8s 17ms/step - loss: 0.6931 - binary_accuracy: 0.5003 - val_loss: 0.6932 - val_binary_accuracy: 0.4987\n",
      "Epoch 7/20\n",
      "471/471 [==============================] - 8s 17ms/step - loss: 0.6931 - binary_accuracy: 0.5003 - val_loss: 0.6932 - val_binary_accuracy: 0.4987\n",
      "Epoch 8/20\n",
      "471/471 [==============================] - 8s 17ms/step - loss: 0.6931 - binary_accuracy: 0.5003 - val_loss: 0.6932 - val_binary_accuracy: 0.4987\n",
      "Epoch 9/20\n",
      "471/471 [==============================] - 8s 17ms/step - loss: 0.6931 - binary_accuracy: 0.5003 - val_loss: 0.6932 - val_binary_accuracy: 0.4987\n",
      "Epoch 10/20\n",
      "471/471 [==============================] - 8s 17ms/step - loss: 0.6931 - binary_accuracy: 0.5003 - val_loss: 0.6932 - val_binary_accuracy: 0.4987\n",
      "Epoch 11/20\n",
      "471/471 [==============================] - 8s 17ms/step - loss: 0.6931 - binary_accuracy: 0.5003 - val_loss: 0.6932 - val_binary_accuracy: 0.4987\n",
      "Epoch 12/20\n",
      "471/471 [==============================] - 8s 17ms/step - loss: 0.6931 - binary_accuracy: 0.5003 - val_loss: 0.6932 - val_binary_accuracy: 0.4987\n",
      "Epoch 13/20\n",
      "471/471 [==============================] - 8s 17ms/step - loss: 0.6931 - binary_accuracy: 0.5003 - val_loss: 0.6932 - val_binary_accuracy: 0.4987\n",
      "Epoch 14/20\n",
      "471/471 [==============================] - 8s 17ms/step - loss: 0.6931 - binary_accuracy: 0.5003 - val_loss: 0.6932 - val_binary_accuracy: 0.4987\n",
      "Epoch 15/20\n",
      "471/471 [==============================] - 8s 17ms/step - loss: 0.6931 - binary_accuracy: 0.5003 - val_loss: 0.6932 - val_binary_accuracy: 0.4987\n",
      "Epoch 16/20\n",
      "471/471 [==============================] - 8s 17ms/step - loss: 0.6931 - binary_accuracy: 0.5003 - val_loss: 0.6932 - val_binary_accuracy: 0.4987\n",
      "Epoch 17/20\n",
      "471/471 [==============================] - 8s 17ms/step - loss: 0.6931 - binary_accuracy: 0.5003 - val_loss: 0.6932 - val_binary_accuracy: 0.4987\n",
      "Epoch 18/20\n",
      "471/471 [==============================] - 8s 17ms/step - loss: 0.6931 - binary_accuracy: 0.5003 - val_loss: 0.6932 - val_binary_accuracy: 0.4987\n",
      "Epoch 19/20\n",
      "471/471 [==============================] - 8s 17ms/step - loss: 0.6931 - binary_accuracy: 0.5003 - val_loss: 0.6932 - val_binary_accuracy: 0.4987\n",
      "Epoch 20/20\n",
      "471/471 [==============================] - 8s 17ms/step - loss: 0.6931 - binary_accuracy: 0.5003 - val_loss: 0.6932 - val_binary_accuracy: 0.4987\n"
     ]
    }
   ],
   "source": [
    "epochs = 20\n",
    "history = model.fit(x_train, train_set['y'],\n",
    "                    batch_size=train_batch_size,\n",
    "                    epochs=epochs,\n",
    "                    validation_split=0.2,#1-train_proportion,\n",
    "                    verbose=1)"
   ]
  },
  {
   "cell_type": "code",
   "execution_count": 133,
   "id": "73034722-c76c-465f-9576-a6579e270b7d",
   "metadata": {},
   "outputs": [
    {
     "data": {
      "text/plain": [
       "dict_keys(['loss', 'binary_accuracy', 'val_loss', 'val_binary_accuracy'])"
      ]
     },
     "execution_count": 133,
     "metadata": {},
     "output_type": "execute_result"
    }
   ],
   "source": [
    "history.history.keys()"
   ]
  },
  {
   "cell_type": "code",
   "execution_count": 134,
   "id": "580dd6aa-f58c-4148-a671-9ec8564d2736",
   "metadata": {},
   "outputs": [
    {
     "data": {
      "image/png": "[encoded data removed]",
      "text/plain": [
       "<Figure size 432x288 with 1 Axes>"
      ]
     },
     "metadata": {
      "needs_background": "light"
     },
     "output_type": "display_data"
    }
   ],
   "source": [
    "plt.plot(history.history['loss'], label='training')\n",
    "plt.plot(history.history['val_loss'],label='validation')\n",
    "plt.legend()\n",
    "plt.xlabel('Epoch')\n",
    "plt.ylabel('Loss')\n",
    "\n",
    "plt.show()"
   ]
  },
  {
   "cell_type": "code",
   "execution_count": 135,
   "id": "1c9688d1-bc76-4fae-a175-7a56bac2755f",
   "metadata": {},
   "outputs": [
    {
     "data": {
      "image/png": "[encoded data removed]",
      "text/plain": [
       "<Figure size 432x288 with 1 Axes>"
      ]
     },
     "metadata": {
      "needs_background": "light"
     },
     "output_type": "display_data"
    }
   ],
   "source": [
    "plt.plot(history.history['binary_accuracy'], label='training')\n",
    "plt.plot(history.history['val_binary_accuracy'], label='validation')\n",
    "plt.legend()\n",
    "plt.xlabel('Epoch')\n",
    "plt.ylabel('Accuracy (P)')\n",
    "plt.show()"
   ]
  },
  {
   "cell_type": "markdown",
   "id": "3e4f8291-4da1-427f-80c7-8990ffe0ede7",
   "metadata": {},
   "source": [
    "# Test"
   ]
  },
  {
   "cell_type": "code",
   "execution_count": null,
   "id": "c0efa94d-2a88-4a89-b411-acd3eec33cbb",
   "metadata": {},
   "outputs": [],
   "source": []
  }
 ],
 "metadata": {
  "kernelspec": {
   "display_name": "Python 3 (ipykernel)",
   "language": "python",
   "name": "python3"
  },
  "language_info": {
   "codemirror_mode": {
    "name": "ipython",
    "version": 3
   },
   "file_extension": ".py",
   "mimetype": "text/x-python",
   "name": "python",
   "nbconvert_exporter": "python",
   "pygments_lexer": "ipython3",
   "version": "3.10.5"
  }
 },
 "nbformat": 4,
 "nbformat_minor": 5
}
