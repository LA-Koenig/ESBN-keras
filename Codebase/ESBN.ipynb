{
 "cells": [
  {
   "cell_type": "code",
   "execution_count": 285,
   "id": "4636998e-861c-4f42-9bfe-d937613a6bf8",
   "metadata": {},
   "outputs": [],
   "source": [
    "import argparse\n",
    "import os\n",
    "import sys\n",
    "import time\n",
    "import numpy as np\n",
    "from PIL import Image\n",
    "\n",
    "import tensorflow as tf\n",
    "import tensorflow.keras as keras\n",
    "import matplotlib.pyplot as plt\n",
    "import urllib\n",
    "import time\n",
    "\n",
    "from einops import repeat, rearrange"
   ]
  },
  {
   "cell_type": "markdown",
   "id": "33eb4c4c-a3c6-492e-bfdd-72e63d6db718",
   "metadata": {},
   "source": [
    "This is following the model from LucidRains with some advisement from the original code\n",
    "\n",
    "https://github.com/lucidrains/ESBN-pytorch"
   ]
  },
  {
   "cell_type": "markdown",
   "id": "3e65ffde-5065-4082-8678-b029e04c2514",
   "metadata": {
    "tags": []
   },
   "source": [
    "# helper functions"
   ]
  },
  {
   "cell_type": "code",
   "execution_count": 3,
   "id": "de49f2c8-54ab-4771-ae9e-8b7f70339371",
   "metadata": {},
   "outputs": [],
   "source": [
    "def exists(val):\n",
    "    return val is not None"
   ]
  },
  {
   "cell_type": "code",
   "execution_count": 4,
   "id": "3282cc68-2d34-4a86-b38b-09f9c64c7f6b",
   "metadata": {},
   "outputs": [],
   "source": [
    "def safe_cat(t, el, dim =0):\n",
    "    if not exists(t):\n",
    "        return el\n",
    "    return tf.concat((t, el), axis = dim)"
   ]
  },
  {
   "cell_type": "code",
   "execution_count": 5,
   "id": "b1654469-6e43-46f8-8a6b-d556302d3e51",
   "metadata": {},
   "outputs": [],
   "source": [
    "def map_fn(fn, *args, **kwargs):\n",
    "    def inner(*arr):\n",
    "        return map(lambda t: fn(t, *args, **kwargs), arr)\n",
    "    return inner"
   ]
  },
  {
   "cell_type": "markdown",
   "id": "bc3cccdb-fc02-49c9-aa09-9e5fea9de15b",
   "metadata": {
    "tags": []
   },
   "source": [
    "# the Class"
   ]
  },
  {
   "cell_type": "code",
   "execution_count": 437,
   "id": "c1f5311f-3fff-4339-9d23-75dac39fd432",
   "metadata": {},
   "outputs": [],
   "source": [
    "class ESBN(keras.layers.Layer):\n",
    "    def __init__(\n",
    "        self,\n",
    "        *,\n",
    "        value_dim = 64,\n",
    "        key_dim = 64,\n",
    "        hidden_dim = 512,\n",
    "        output_dim = 4,\n",
    "        encoder = None\n",
    "    ):\n",
    "        super().__init__()\n",
    "        self.output_dim = output_dim\n",
    "        self.h0 = tf.zeros(hidden_dim)\n",
    "        self.c0 = tf.zeros(hidden_dim)\n",
    "        self.k0 = tf.zeros(key_dim + 1)\n",
    "        \n",
    "        # self.h0 = tf.random.uniform([hidden_dim])\n",
    "        # self.c0 = tf.random.uniform([hidden_dim])\n",
    "        # self.k0 = tf.random.uniform([key_dim + 1])\n",
    "        \n",
    "        self.rnn = tf.keras.layers.LSTMCell(hidden_dim)  #What is the difference between this and just LSTM\n",
    "        self.to_gate = tf.keras.layers.Dense(1, activation=tf.keras.activations.sigmoid) #?\n",
    "        self.to_key = tf.keras.layers.Dense(key_dim)\n",
    "        self.to_output = tf.keras.layers.Dense(output_dim)\n",
    "        \n",
    "        self.encoder = tf.keras.Sequential()\n",
    "        self.encoder.add(tf.keras.layers.Reshape((32, 32, 1))) #to deal with shape issue\n",
    "        self.encoder.add(tf.keras.layers.Conv2D(32, kernel_size=4, strides=2, \n",
    "                                                activation=tf.keras.activations.relu))\n",
    "        self.encoder.add(tf.keras.layers.Conv2D(64, kernel_size=4, strides=2,\n",
    "                                                activation=tf.keras.activations.relu))\n",
    "        self.encoder.add(tf.keras.layers.Conv2D(64, kernel_size=4, strides=2,\n",
    "                                                activation=tf.keras.activations.relu))\n",
    "        self.encoder.add(tf.keras.layers.Flatten())\n",
    "        self.encoder.add(tf.keras.layers.Dense(value_dim))\n",
    "                         # if not exists(encoder) else encoder What does???\n",
    "            \n",
    "        self.to_confidence = tf.keras.layers.Dense(1, activation=tf.keras.activations.sigmoid)\n",
    "        \n",
    "    def call(self, images):\n",
    "        #return images\n",
    "        print('images shape: ', images.shape)\n",
    "        b = images.shape[1] #what exactly is this\n",
    "        print('b shape ', b)\n",
    "        Mk = tf.zeros((tf.shape(images)[0], 0, 64))\n",
    "        Mv = tf.zeros((tf.shape(images)[0], 0, 64))\n",
    "        # Mk = tf.random.uniform((tf.shape(images)[0], 0, 64))\n",
    "        # Mv = tf.random.uniform((tf.shape(images)[0], 0, 64))\n",
    "        \n",
    "        \n",
    "        #hx, cx, kx, k0 = map_fn(repeat, 'd -> b d', b = b)(self.h0, self.c0, self.k0, self.k0)\n",
    "        hx = tf.zeros((tf.shape(images)[0], 1, self.h0.shape[-1]))\n",
    "        cx = tf.zeros((tf.shape(images)[0], 1, self.c0.shape[-1]))\n",
    "        kx = tf.zeros((tf.shape(images)[0], 1, self.k0.shape[-1]))\n",
    "        k0 = tf.zeros((tf.shape(images)[0], 1, self.k0.shape[-1]))\n",
    "        out = tf.TensorArray(dtype=tf.float32,\n",
    "                             size=tf.shape(images)[0],\n",
    "                             dynamic_size=True)\n",
    "        \n",
    "        #ind = tf.Variable(0, trainable=False, dtype=tf.int32)\n",
    "        ind = tf.constant(0)\n",
    "\n",
    "        #for ind, image in enumerate(images):\n",
    "        def body(ind, out):\n",
    "            nonlocal Mk, Mv, hx, cx, kx, k0, b\n",
    "            #nonlocal images\n",
    "            \n",
    "            image = images[:,ind,:,:]\n",
    "            print('in loop single shape:',image.shape)\n",
    "            is_first = ind == 0\n",
    "            z = self.encoder(image)\n",
    "            print('z : ', z.shape)\n",
    "            print('kx ', kx)\n",
    "            print('hx : ', hx.shape)\n",
    "            print('cx : ', cx)\n",
    "            hx, cx = self.rnn(kx, (hx, cx)) #return state?\n",
    "            \n",
    "            y, g, kw = self.to_output(hx), self.to_gate(hx), self.to_key(hx)\n",
    "            \n",
    "            # if is_first: #redundent?\n",
    "            #     kx = k0\n",
    "            # else:\n",
    "            if not is_first:\n",
    "                # attention\n",
    "                sim = tf.einsum('b n d, b d -> b n', Mv, z)\n",
    "                # wk = tf.keras.layers.Activation(activation=tf.keras.activations.softmax)(sim)\n",
    "                wk = tf.nn.softmax(sim)\n",
    "                \n",
    "                # calculate confidence\n",
    "                sim, wk = map_fn(rearrange, 'b n -> b n ()')(sim, wk) #consider\n",
    "                ck = self.to_confidence(sim)\n",
    "                \n",
    "                #kx = g.sigmoid() * (wk * torch.cat((Mk, ck), dim = -1)).sum(dim = 1)\n",
    "                cc = tf.keras.layers.concatenate([Mk, ck], axis=-1) #verified to work the same\n",
    "                cc = tf.math.reduce_sum(wk * cc, axis = 1) #same as torch.sum\n",
    "                kx = g * cc\n",
    "                \n",
    "            kw, z = map_fn(rearrange, 'b d -> b () d')(kw, z)\n",
    "            Mk = safe_cat(Mk, kw, dim = 1)\n",
    "            Mv = safe_cat(Mv, z, dim = 1)\n",
    "\n",
    "            out.write(ind, y)\n",
    "                \n",
    "            #ind.assign_add(1) #incriment i\n",
    "            return [ind + 1, out]\n",
    "                \n",
    "        \n",
    "        \n",
    "        tf.while_loop(\n",
    "            lambda i,ind: i < tf.shape(images)[1] + 1,\n",
    "            body, \n",
    "            [ind, out])\n",
    "\n",
    "        return out.stack() \n",
    "                "
   ]
  },
  {
   "cell_type": "markdown",
   "id": "e70066a3-cb25-4719-8859-656b3956b9ce",
   "metadata": {
    "tags": []
   },
   "source": [
    "# Same-Difference"
   ]
  },
  {
   "cell_type": "code",
   "execution_count": 497,
   "id": "455fac36-4651-4157-85c4-f59b22e0c1f8",
   "metadata": {},
   "outputs": [],
   "source": [
    "#This is all part of the args mess in their code\n",
    "#initially setting this to be theri defaults\n",
    "\n",
    "#Model Settings\n",
    "model_name = 'ESBN'\n",
    "norm_type = 'contextnorm'\n",
    "encoder = 'conv'\n",
    "#Task settings\n",
    "task = 'same_diff'\n",
    "train_gen_mathod = 'full_space'\n",
    "n_shapes = 100 #total num of shapes available for training/testing\n",
    "m_holdout = 0 #number of objects (out of n) withheld during training\n",
    "#Training Settings\n",
    "train_batch_size = 32\n",
    "train_set_size = 10000\n",
    "train_proportion = 0.95\n",
    "lr = 5e-4\n",
    "epochs = 50\n",
    "log_interval = 10\n",
    "#Test settings\n",
    "test_batch_size = 100\n",
    "test_set_size = 10000\n",
    "#Device Settings\n",
    "no_cuda = False #Actions??? 'store_true'\n",
    "device = 0 \n",
    "#run number\n",
    "run = 1"
   ]
  },
  {
   "cell_type": "code",
   "execution_count": 498,
   "id": "77089001-151a-4d8e-9fc0-4d3c0346c97f",
   "metadata": {},
   "outputs": [
    {
     "data": {
      "text/plain": [
       "(100,)"
      ]
     },
     "execution_count": 498,
     "metadata": {},
     "output_type": "execute_result"
    }
   ],
   "source": [
    "all_shapes = np.arange(n_shapes)\n",
    "np.random.shuffle(all_shapes)\n",
    "all_shapes.shape"
   ]
  },
  {
   "cell_type": "code",
   "execution_count": 499,
   "id": "c044b016-27b4-4551-b9cf-2a4151330cdd",
   "metadata": {},
   "outputs": [
    {
     "data": {
      "text/plain": [
       "(100,)"
      ]
     },
     "execution_count": 499,
     "metadata": {},
     "output_type": "execute_result"
    }
   ],
   "source": [
    "if(m_holdout > 0):\n",
    "    train_shapes = all_shapes[m_holdout:]\n",
    "    test_shapes = all_shapes[:m_holdout]\n",
    "else:\n",
    "    train_shapes = all_shapes\n",
    "    test_shapes = all_shapes\n",
    "    \n",
    "train_shapes.shape"
   ]
  },
  {
   "cell_type": "code",
   "execution_count": 500,
   "id": "1a337030-5dca-41bf-a589-1a39d774eed7",
   "metadata": {},
   "outputs": [],
   "source": [
    "#now we're in their function\n",
    "import sys\n",
    "import random\n",
    "import numpy as np\n",
    "\n",
    "# Prevent python from saving out .pyc files\n",
    "sys.dont_write_bytecode = True\n",
    "\n",
    "y_dim = 2\n",
    "seq_len = 2"
   ]
  },
  {
   "cell_type": "code",
   "execution_count": 501,
   "id": "942ff480-5d9f-4fde-9f26-8626a91d1a34",
   "metadata": {},
   "outputs": [
    {
     "data": {
      "text/plain": [
       "18810"
      ]
     },
     "execution_count": 501,
     "metadata": {},
     "output_type": "execute_result"
    }
   ],
   "source": [
    "# If m = 0, training and test sets are drawn from same set of shapes\n",
    "if(m_holdout == 0):\n",
    "    # Total number of possible trials\n",
    "    shapes_avail = n_shapes\n",
    "    total_trials = (shapes_avail * (shapes_avail - 1)) * 2\n",
    "    \n",
    "    # Proportion of training set size vs test set size\n",
    "    test_proportion = 1 - train_proportion\n",
    "    \n",
    "    # Create training/test set sizes\n",
    "    train_set_size = np.round(train_proportion * total_trials).astype(np.int32)\n",
    "    test_set_size = np.round(test_proportion * total_trials).astype(np.int32)\n",
    "    \n",
    "else: \n",
    "    # Ensure that there are enough potential trials for desired training set size \n",
    "    # (or change train set size)\n",
    "    shapes_avail = n_shapes - m_holdout\n",
    "    total_trials = (shapes_avail * (shapes_avail - 1)) * 2\n",
    "    \n",
    "    if(train_set_size > total_trials):\n",
    "        train_set_size = total_trials\n",
    "    \n",
    "    # Ensure that there are enough potential trials for desired test set size \n",
    "    # (or change test set size)\n",
    "    shapes_avail = n_shapes - (n_shapes - m_holdout)\n",
    "    total_trials = (shapes_avail * (shapes_avail - 1)) * 2\n",
    "    \n",
    "    if(test_set_size > total_trials):\n",
    "        test_set_size = total_trials\n",
    "\n",
    "train_set_size"
   ]
  },
  {
   "cell_type": "code",
   "execution_count": 502,
   "id": "911c61a0-4b07-43bc-bc19-3164d7394f55",
   "metadata": {},
   "outputs": [],
   "source": [
    "# If m = 0, training and test sets are drawn from same set of shapes\n",
    "if m_holdout == 0:\n",
    "    # Create all possible trials\n",
    "    same_trials = []\n",
    "    diff_trials = []\n",
    "    for shape1 in train_shapes:\n",
    "        for shape2 in train_shapes:\n",
    "            if shape1 == shape2:\n",
    "                same_trials.append([shape1, shape2])\n",
    "            else:\n",
    "                diff_trials.append([shape1, shape2])\n",
    "    # Shuffle\n",
    "    random.shuffle(same_trials)\n",
    "    random.shuffle(diff_trials)\n",
    "    # Split trials for train and test sets\n",
    "    same_trials_train = same_trials[:np.round(train_proportion * len(same_trials)).astype(np.int32)]\n",
    "    same_trials_test = same_trials[np.round(train_proportion * len(same_trials)).astype(np.int32):]\n",
    "    diff_trials_train = diff_trials[:np.round(train_proportion * len(diff_trials)).astype(np.int32)]\n",
    "    diff_trials_test = diff_trials[np.round(train_proportion * len(diff_trials)).astype(np.int32):]\n",
    "# Otherwise, training and test sets are completely disjoint (in terms of the shapes that are used), and can be generated separately\n",
    "else:\n",
    "    # Create all possible training trials\n",
    "    same_trials_train = []\n",
    "    diff_trials_train = []\n",
    "    for shape1 in train_shapes:\n",
    "        for shape2 in train_shapes:\n",
    "            if shape1 == shape2:\n",
    "                same_trials_train.append([shape1, shape2])\n",
    "            else:\n",
    "                diff_trials_train.append([shape1, shape2])\n",
    "    # Shuffle\n",
    "    random.shuffle(same_trials_train)\n",
    "    random.shuffle(diff_trials_train)\n",
    "    # Create all possible test trials\n",
    "    same_trials_test = []\n",
    "    diff_trials_test = []\n",
    "    for shape1 in test_shapes:\n",
    "        for shape2 in test_shapes:\n",
    "            if shape1 == shape2:\n",
    "                same_trials_test.append([shape1, shape2])\n",
    "            else:\n",
    "                diff_trials_test.append([shape1, shape2])\n",
    "    # Shuffle\n",
    "    random.shuffle(same_trials_test)\n",
    "    random.shuffle(diff_trials_test)"
   ]
  },
  {
   "cell_type": "code",
   "execution_count": 503,
   "id": "3511877e-acc2-4a90-a630-7249ff16b044",
   "metadata": {},
   "outputs": [],
   "source": [
    "# Duplicate 'same' trials to match number of 'different' trials\n",
    "same_trials_train_balanced = []\n",
    "for t in range(len(diff_trials_train)):\n",
    "    same_trials_train_balanced.append(same_trials_train[np.floor(np.random.rand()*len(same_trials_train)).astype(np.int32)])\n",
    "same_trials_test_balanced = []\n",
    "for t in range(len(diff_trials_test)):\n",
    "    same_trials_test_balanced.append(same_trials_test[np.floor(np.random.rand()*len(same_trials_test)).astype(np.int32)])\n",
    "# Combine all same and different trials for training set\n",
    "all_train_seq = []\n",
    "all_train_targ = []\n",
    "for t in range(len(same_trials_train_balanced)):\n",
    "    all_train_seq.append(same_trials_train_balanced[t])\n",
    "    all_train_targ.append(0)\n",
    "for t in range(len(diff_trials_train)):\n",
    "    all_train_seq.append(diff_trials_train[t])\n",
    "    all_train_targ.append(1)\n",
    "# Combine all same and different trials for test set\n",
    "all_test_seq = []\n",
    "all_test_targ = []\n",
    "for t in range(len(same_trials_test_balanced)):\n",
    "    all_test_seq.append(same_trials_test_balanced[t])\n",
    "    all_test_targ.append(0)\n",
    "for t in range(len(diff_trials_test)):\n",
    "    all_test_seq.append(diff_trials_test[t])\n",
    "    all_test_targ.append(1)\n",
    "# Shuffle trials in training set\n",
    "train_ind = np.arange(len(all_train_seq))\n",
    "np.random.shuffle(train_ind)\n",
    "all_train_seq = np.array(all_train_seq)[train_ind]\n",
    "all_train_targ = np.array(all_train_targ)[train_ind]\n",
    "# Shuffle trials in test set\n",
    "test_ind = np.arange(len(all_test_seq))\n",
    "np.random.shuffle(test_ind)\n",
    "all_test_seq = np.array(all_test_seq)[test_ind]\n",
    "all_test_targ = np.array(all_test_targ)[test_ind]\n",
    "# Select subset if desired dataset size is smaller than number of all possible trials\n",
    "if (train_set_size + test_set_size) < total_trials:\n",
    "    all_train_seq = all_train_seq[:train_set_size, :]\n",
    "    all_train_targ = all_train_targ[:train_set_size]\n",
    "    all_test_seq = all_test_seq[:test_set_size, :]\n",
    "    all_test_targ = all_test_targ[:test_set_size]\n"
   ]
  },
  {
   "cell_type": "code",
   "execution_count": 504,
   "id": "ca113dbb-26b3-4ea7-8b1d-7e1b9534c9f1",
   "metadata": {},
   "outputs": [],
   "source": [
    "# Create training and test sets\n",
    "train_set = {'seq_ind': all_train_seq, 'y': all_train_targ}\n",
    "test_set = {'seq_ind': all_test_seq, 'y': all_test_targ}"
   ]
  },
  {
   "cell_type": "code",
   "execution_count": 505,
   "id": "0809985e-26d9-4bb1-89c4-e0066644a110",
   "metadata": {},
   "outputs": [
    {
     "data": {
      "text/plain": [
       "array([ 0,  1,  2,  3,  4,  5,  6,  7,  8,  9, 10, 11, 12, 13, 14, 15, 16,\n",
       "       17, 18, 19, 20, 21, 22, 23, 24, 25, 26, 27, 28, 29, 30, 31, 32, 33,\n",
       "       34, 35, 36, 37, 38, 39, 40, 41, 42, 43, 44, 45, 46, 47, 48, 49, 50,\n",
       "       51, 52, 53, 54, 55, 56, 57, 58, 59, 60, 61, 62, 63, 64, 65, 66, 67,\n",
       "       68, 69, 70, 71, 72, 73, 74, 75, 76, 77, 78, 79, 80, 81, 82, 83, 84,\n",
       "       85, 86, 87, 88, 89, 90, 91, 92, 93, 94, 95, 96, 97, 98, 99])"
      ]
     },
     "execution_count": 505,
     "metadata": {},
     "output_type": "execute_result"
    }
   ],
   "source": [
    "np.unique(train_set['seq_ind'])"
   ]
  },
  {
   "cell_type": "code",
   "execution_count": 506,
   "id": "6d7e0c85-bf9f-4fd4-9813-283eebcf9759",
   "metadata": {},
   "outputs": [
    {
     "data": {
      "text/plain": [
       "array([ 0,  1,  2,  3,  4,  5,  6,  7,  8,  9, 10, 11, 12, 13, 14, 15, 16,\n",
       "       17, 18, 19, 20, 21, 22, 23, 24, 25, 26, 27, 28, 29, 30, 31, 32, 33,\n",
       "       34, 35, 36, 37, 38, 39, 40, 41, 42, 43, 44, 45, 46, 47, 48, 49, 50,\n",
       "       51, 52, 53, 54, 55, 56, 57, 58, 59, 60, 61, 62, 63, 64, 65, 66, 67,\n",
       "       68, 69, 70, 71, 72, 73, 74, 75, 76, 77, 78, 79, 80, 81, 82, 83, 84,\n",
       "       85, 86, 87, 88, 89, 90, 91, 92, 93, 94, 95, 96, 97, 98, 99])"
      ]
     },
     "execution_count": 506,
     "metadata": {},
     "output_type": "execute_result"
    }
   ],
   "source": [
    "np.unique(test_set['seq_ind'])"
   ]
  },
  {
   "cell_type": "code",
   "execution_count": 507,
   "id": "45bea5d9-7397-4f69-a907-ec6da1b64fa0",
   "metadata": {},
   "outputs": [],
   "source": [
    "#back to train and eval at line 197\n"
   ]
  },
  {
   "cell_type": "code",
   "execution_count": 508,
   "id": "58a1a3c0-9b6f-400f-bb86-6044bb82e146",
   "metadata": {},
   "outputs": [
    {
     "data": {
      "text/plain": [
       "TensorShape([100, 32, 32])"
      ]
     },
     "execution_count": 508,
     "metadata": {},
     "output_type": "execute_result"
    }
   ],
   "source": [
    "#Load images \n",
    "all_imgs = []\n",
    "for i in range(n_shapes):\n",
    "    img_fname='../imgs/' + str(i) + '.png'\n",
    "    img = tf.convert_to_tensor(np.array(Image.open(img_fname)) / 255.)\n",
    "    all_imgs.append(img)\n",
    "all_imgs = tf.stack(all_imgs)\n",
    "all_imgs.shape"
   ]
  },
  {
   "cell_type": "code",
   "execution_count": 509,
   "id": "276bb5c8-ca20-4c34-b5ee-2dd559a53bb5",
   "metadata": {},
   "outputs": [
    {
     "data": {
      "image/png": "[encoded data removed]",
      "text/plain": [
       "<Figure size 432x288 with 1 Axes>"
      ]
     },
     "metadata": {
      "needs_background": "light"
     },
     "output_type": "display_data"
    }
   ],
   "source": [
    "plt.imshow(all_imgs[0])\n",
    "plt.show()"
   ]
  },
  {
   "cell_type": "code",
   "execution_count": 510,
   "id": "7163e327-6b7f-4594-9851-7f43c5e5357a",
   "metadata": {},
   "outputs": [
    {
     "data": {
      "text/plain": [
       "18810"
      ]
     },
     "execution_count": 510,
     "metadata": {},
     "output_type": "execute_result"
    }
   ],
   "source": [
    "#train_set['seq_ind'][0]\n",
    "train_set['seq_ind'].shape + all_imgs.shape[1:]\n",
    "\n",
    "train_set['seq_ind'].shape[0]"
   ]
  },
  {
   "cell_type": "code",
   "execution_count": 511,
   "id": "b592ccd5-7254-42c6-915a-feffab8d64e4",
   "metadata": {},
   "outputs": [],
   "source": [
    "x_train = np.empty(shape=train_set['seq_ind'].shape + all_imgs.shape[1:],\n",
    "                   dtype=float)\n",
    "\n",
    "for i in range(train_set['seq_ind'].shape[0]):\n",
    "    x_train[i][0] = all_imgs[train_set['seq_ind'][i][0]]\n",
    "    x_train[i][1] = all_imgs[train_set['seq_ind'][i][1]]"
   ]
  },
  {
   "cell_type": "code",
   "execution_count": 512,
   "id": "a072c33e-1c33-4e66-8e35-f57fc795adb4",
   "metadata": {},
   "outputs": [
    {
     "data": {
      "text/plain": [
       "(990, 2, 32, 32)"
      ]
     },
     "execution_count": 512,
     "metadata": {},
     "output_type": "execute_result"
    }
   ],
   "source": [
    "x_test = np.empty(shape=test_set['seq_ind'].shape + all_imgs.shape[1:],\n",
    "                   dtype=float)\n",
    "\n",
    "for i in range(test_set['seq_ind'].shape[0]):\n",
    "    x_test[i][0] = all_imgs[test_set['seq_ind'][i][0]]\n",
    "    x_test[i][1] = all_imgs[test_set['seq_ind'][i][1]]\n",
    "    \n",
    "x_test.shape"
   ]
  },
  {
   "cell_type": "code",
   "execution_count": 513,
   "id": "26d449e2-6b01-4c7e-8b3e-ad874d2fd83f",
   "metadata": {},
   "outputs": [
    {
     "data": {
      "text/plain": [
       "(18810, 2, 32, 32)"
      ]
     },
     "execution_count": 513,
     "metadata": {},
     "output_type": "execute_result"
    }
   ],
   "source": [
    "x_train.shape"
   ]
  },
  {
   "cell_type": "code",
   "execution_count": 514,
   "id": "200884cd-132b-430f-8c57-0170f611658d",
   "metadata": {},
   "outputs": [
    {
     "name": "stdout",
     "output_type": "stream",
     "text": [
      "differnt?  False\n"
     ]
    },
    {
     "data": {
      "text/plain": [
       "<Figure size 432x288 with 0 Axes>"
      ]
     },
     "metadata": {},
     "output_type": "display_data"
    },
    {
     "data": {
      "image/png": "[encoded data removed]",
      "text/plain": [
       "<Figure size 432x288 with 2 Axes>"
      ]
     },
     "metadata": {
      "needs_background": "light"
     },
     "output_type": "display_data"
    }
   ],
   "source": [
    "testi = 0\n",
    "plt.figure()\n",
    "\n",
    "#subplot(r,c) provide the no. of rows and columns\n",
    "f, axarr = plt.subplots(1,2) \n",
    "\n",
    "# use the created array to output your multiple images. In this case I have stacked 4 images vertically\n",
    "axarr[0].imshow(x_train[testi][0])\n",
    "axarr[1].imshow(x_train[testi][1])\n",
    "\n",
    "print(\"differnt? \", bool(train_set['y'][testi]))"
   ]
  },
  {
   "cell_type": "code",
   "execution_count": 515,
   "id": "e4ee8f14-d6c9-498c-a047-ff6548b04631",
   "metadata": {},
   "outputs": [
    {
     "name": "stdout",
     "output_type": "stream",
     "text": [
      "differnt?  False\n"
     ]
    },
    {
     "data": {
      "text/plain": [
       "<Figure size 432x288 with 0 Axes>"
      ]
     },
     "metadata": {},
     "output_type": "display_data"
    },
    {
     "data": {
      "image/png": "[encoded data removed]",
      "text/plain": [
       "<Figure size 432x288 with 2 Axes>"
      ]
     },
     "metadata": {
      "needs_background": "light"
     },
     "output_type": "display_data"
    }
   ],
   "source": [
    "testi = 5\n",
    "plt.figure()\n",
    "\n",
    "#subplot(r,c) provide the no. of rows and columns\n",
    "f, axarr = plt.subplots(1,2) \n",
    "\n",
    "# use the created array to output your multiple images. In this case I have stacked 4 images vertically\n",
    "axarr[0].imshow(x_train[testi][0])\n",
    "axarr[1].imshow(x_train[testi][1])\n",
    "\n",
    "print(\"differnt? \", bool(train_set['y'][testi]))"
   ]
  },
  {
   "cell_type": "markdown",
   "id": "105f733a-915d-4d9e-bf81-ce77e66b27de",
   "metadata": {},
   "source": [
    "# Model"
   ]
  },
  {
   "cell_type": "code",
   "execution_count": 438,
   "id": "dfa701c2-5275-45c7-824f-6f0adf6633c8",
   "metadata": {},
   "outputs": [
    {
     "name": "stdout",
     "output_type": "stream",
     "text": [
      "images shape:  (None, 2, 32, 32)\n",
      "b shape  2\n",
      "in loop single shape: (None, 32, 32)\n",
      "z :  (None, 64)\n",
      "kx  Tensor(\"esbn_56/zeros_4:0\", shape=(None, 1, 65), dtype=float32)\n",
      "hx :  (None, 1, 512)\n",
      "cx :  Tensor(\"esbn_56/zeros_3:0\", shape=(None, 1, 512), dtype=float32)\n"
     ]
    },
    {
     "ename": "ValueError",
     "evalue": "Exception encountered when calling layer \"esbn_56\" (type ESBN).\n\nin user code:\n\n    File \"/tmp/ipykernel_836/882238296.py\", line 76, in body  *\n        hx, cx = self.rnn(kx, (hx, cx)) #return state?\n    File \"/opt/conda/lib/python3.10/site-packages/keras/utils/traceback_utils.py\", line 67, in error_handler  **\n        raise e.with_traceback(filtered_tb) from None\n\n    ValueError: Exception encountered when calling layer \"lstm_cell_53\" (type LSTMCell).\n    \n    Dimension size must be evenly divisible by 4 but is 1\n    \tNumber of ways to split should evenly divide the split dimension for '{{node esbn_56/while/lstm_cell_53/split}} = Split[T=DT_FLOAT, num_split=4](esbn_56/while/lstm_cell_53/split/split_dim, esbn_56/while/lstm_cell_53/BiasAdd)' with input shapes: [], [?,1,2048] and with computed input tensors: input[0] = <1>.\n    \n    Call arguments received:\n      • inputs=tf.Tensor(shape=(None, 1, 65), dtype=float32)\n      • states=('tf.Tensor(shape=(None, 1, 512), dtype=float32)', 'tf.Tensor(shape=(None, 1, 512), dtype=float32)')\n      • training=None\n\n\nCall arguments received:\n  • images=tf.Tensor(shape=(None, 2, 32, 32), dtype=float32)",
     "output_type": "error",
     "traceback": [
      "\u001b[0;31m---------------------------------------------------------------------------\u001b[0m",
      "\u001b[0;31mValueError\u001b[0m                                Traceback (most recent call last)",
      "Input \u001b[0;32mIn [438]\u001b[0m, in \u001b[0;36m<cell line: 3>\u001b[0;34m()\u001b[0m\n\u001b[1;32m      1\u001b[0m x \u001b[38;5;241m=\u001b[39m keras\u001b[38;5;241m.\u001b[39mlayers\u001b[38;5;241m.\u001b[39mInput(x_train\u001b[38;5;241m.\u001b[39mshape[\u001b[38;5;241m1\u001b[39m:])\n\u001b[1;32m      2\u001b[0m \u001b[38;5;66;03m#y =x\u001b[39;00m\n\u001b[0;32m----> 3\u001b[0m y \u001b[38;5;241m=\u001b[39m \u001b[43mESBN\u001b[49m\u001b[43m(\u001b[49m\u001b[43moutput_dim\u001b[49m\u001b[38;5;241;43m=\u001b[39;49m\u001b[38;5;241;43m2\u001b[39;49m\u001b[43m)\u001b[49m\u001b[43m(\u001b[49m\u001b[43mx\u001b[49m\u001b[43m)\u001b[49m\n\u001b[1;32m      5\u001b[0m \u001b[38;5;66;03m#y = keras.layers.Flatten()(y)\u001b[39;00m\n\u001b[1;32m      6\u001b[0m \u001b[38;5;66;03m#y = tf.keras.layers.Softmax()(y)\u001b[39;00m\n\u001b[1;32m      7\u001b[0m y \u001b[38;5;241m=\u001b[39m keras\u001b[38;5;241m.\u001b[39mlayers\u001b[38;5;241m.\u001b[39mDense(\u001b[38;5;241m1\u001b[39m, activation\u001b[38;5;241m=\u001b[39mkeras\u001b[38;5;241m.\u001b[39mactivations\u001b[38;5;241m.\u001b[39msigmoid)(y)\n",
      "File \u001b[0;32m/opt/conda/lib/python3.10/site-packages/keras/utils/traceback_utils.py:67\u001b[0m, in \u001b[0;36mfilter_traceback.<locals>.error_handler\u001b[0;34m(*args, **kwargs)\u001b[0m\n\u001b[1;32m     65\u001b[0m \u001b[38;5;28;01mexcept\u001b[39;00m \u001b[38;5;167;01mException\u001b[39;00m \u001b[38;5;28;01mas\u001b[39;00m e:  \u001b[38;5;66;03m# pylint: disable=broad-except\u001b[39;00m\n\u001b[1;32m     66\u001b[0m   filtered_tb \u001b[38;5;241m=\u001b[39m _process_traceback_frames(e\u001b[38;5;241m.\u001b[39m__traceback__)\n\u001b[0;32m---> 67\u001b[0m   \u001b[38;5;28;01mraise\u001b[39;00m e\u001b[38;5;241m.\u001b[39mwith_traceback(filtered_tb) \u001b[38;5;28;01mfrom\u001b[39;00m \u001b[38;5;28mNone\u001b[39m\n\u001b[1;32m     68\u001b[0m \u001b[38;5;28;01mfinally\u001b[39;00m:\n\u001b[1;32m     69\u001b[0m   \u001b[38;5;28;01mdel\u001b[39;00m filtered_tb\n",
      "File \u001b[0;32m/opt/conda/lib/python3.10/site-packages/tensorflow/python/autograph/impl/api.py:692\u001b[0m, in \u001b[0;36mconvert.<locals>.decorator.<locals>.wrapper\u001b[0;34m(*args, **kwargs)\u001b[0m\n\u001b[1;32m    690\u001b[0m \u001b[38;5;28;01mexcept\u001b[39;00m \u001b[38;5;167;01mException\u001b[39;00m \u001b[38;5;28;01mas\u001b[39;00m e:  \u001b[38;5;66;03m# pylint:disable=broad-except\u001b[39;00m\n\u001b[1;32m    691\u001b[0m   \u001b[38;5;28;01mif\u001b[39;00m \u001b[38;5;28mhasattr\u001b[39m(e, \u001b[38;5;124m'\u001b[39m\u001b[38;5;124mag_error_metadata\u001b[39m\u001b[38;5;124m'\u001b[39m):\n\u001b[0;32m--> 692\u001b[0m     \u001b[38;5;28;01mraise\u001b[39;00m e\u001b[38;5;241m.\u001b[39mag_error_metadata\u001b[38;5;241m.\u001b[39mto_exception(e)\n\u001b[1;32m    693\u001b[0m   \u001b[38;5;28;01melse\u001b[39;00m:\n\u001b[1;32m    694\u001b[0m     \u001b[38;5;28;01mraise\u001b[39;00m\n",
      "\u001b[0;31mValueError\u001b[0m: Exception encountered when calling layer \"esbn_56\" (type ESBN).\n\nin user code:\n\n    File \"/tmp/ipykernel_836/882238296.py\", line 76, in body  *\n        hx, cx = self.rnn(kx, (hx, cx)) #return state?\n    File \"/opt/conda/lib/python3.10/site-packages/keras/utils/traceback_utils.py\", line 67, in error_handler  **\n        raise e.with_traceback(filtered_tb) from None\n\n    ValueError: Exception encountered when calling layer \"lstm_cell_53\" (type LSTMCell).\n    \n    Dimension size must be evenly divisible by 4 but is 1\n    \tNumber of ways to split should evenly divide the split dimension for '{{node esbn_56/while/lstm_cell_53/split}} = Split[T=DT_FLOAT, num_split=4](esbn_56/while/lstm_cell_53/split/split_dim, esbn_56/while/lstm_cell_53/BiasAdd)' with input shapes: [], [?,1,2048] and with computed input tensors: input[0] = <1>.\n    \n    Call arguments received:\n      • inputs=tf.Tensor(shape=(None, 1, 65), dtype=float32)\n      • states=('tf.Tensor(shape=(None, 1, 512), dtype=float32)', 'tf.Tensor(shape=(None, 1, 512), dtype=float32)')\n      • training=None\n\n\nCall arguments received:\n  • images=tf.Tensor(shape=(None, 2, 32, 32), dtype=float32)"
     ]
    }
   ],
   "source": [
    "x = keras.layers.Input(x_train.shape[1:])\n",
    "#y =x\n",
    "y = ESBN(output_dim=2)(x)\n",
    "\n",
    "#y = keras.layers.Flatten()(y)\n",
    "#y = tf.keras.layers.Softmax()(y)\n",
    "y = keras.layers.Dense(1, activation=keras.activations.sigmoid)(y)\n",
    "y = keras.layers.Flatten()(y)\n",
    "#y = keras.layers.Dense(1, activation=keras.activations.softmax)(y)\n",
    "#Class tokens\n",
    "\n",
    "model = keras.Model(x, y)"
   ]
  },
  {
   "cell_type": "code",
   "execution_count": 425,
   "id": "be5e09b9-f467-4007-89b0-8f19d6ab933b",
   "metadata": {},
   "outputs": [
    {
     "data": {
      "image/png": "[encoded data removed]",
      "text/plain": [
       "<IPython.core.display.Image object>"
      ]
     },
     "execution_count": 425,
     "metadata": {},
     "output_type": "execute_result"
    }
   ],
   "source": [
    "keras.utils.plot_model(model, expand_nested=True, show_shapes=True)"
   ]
  },
  {
   "cell_type": "code",
   "execution_count": 426,
   "id": "5ca34d22-908d-4000-b295-edfc52785551",
   "metadata": {},
   "outputs": [],
   "source": [
    "#lr = 0.01\n",
    "model.compile(loss=keras.losses.SparseCategoricalCrossentropy(from_logits=True),\n",
    "              optimizer=keras.optimizers.Adam(lr),\n",
    "              metrics=keras.metrics.SparseCategoricalAccuracy())"
   ]
  },
  {
   "cell_type": "code",
   "execution_count": 427,
   "id": "3e3a5126-f03f-4e69-a3f5-f08922530203",
   "metadata": {},
   "outputs": [
    {
     "name": "stdout",
     "output_type": "stream",
     "text": [
      "images shape:  (None, 2, 32, 32)\n",
      "b shape  2\n",
      "in loop single shape: (None, 32, 32)\n",
      "z :  (2, 512)\n",
      "hx :  (2, 512)\n"
     ]
    },
    {
     "data": {
      "text/plain": [
       "array([[0.5, 0.5],\n",
       "       [0.5, 0.5],\n",
       "       [0.5, 0.5],\n",
       "       [0.5, 0.5]], dtype=float32)"
      ]
     },
     "execution_count": 427,
     "metadata": {},
     "output_type": "execute_result"
    }
   ],
   "source": [
    "testi = 0\n",
    "prediction = model.predict(x_train[testi:testi+4])\n",
    "prediction"
   ]
  },
  {
   "cell_type": "code",
   "execution_count": 428,
   "id": "7103dc07-c59a-4822-99b5-133fcf0d9ae3",
   "metadata": {},
   "outputs": [
    {
     "data": {
      "text/plain": [
       "array([1, 1, 1, 0])"
      ]
     },
     "execution_count": 428,
     "metadata": {},
     "output_type": "execute_result"
    }
   ],
   "source": [
    "train_set['y'][testi:testi+4]"
   ]
  },
  {
   "cell_type": "code",
   "execution_count": 429,
   "id": "10e43300-d3c8-4654-b6b8-64a2e3fda295",
   "metadata": {},
   "outputs": [
    {
     "ename": "InvalidArgumentError",
     "evalue": "Incompatible shapes: [4] vs. [4,2] [Op:Equal]",
     "output_type": "error",
     "traceback": [
      "\u001b[0;31m---------------------------------------------------------------------------\u001b[0m",
      "\u001b[0;31mInvalidArgumentError\u001b[0m                      Traceback (most recent call last)",
      "Input \u001b[0;32mIn [429]\u001b[0m, in \u001b[0;36m<cell line: 1>\u001b[0;34m()\u001b[0m\n\u001b[0;32m----> 1\u001b[0m \u001b[43mkeras\u001b[49m\u001b[38;5;241;43m.\u001b[39;49m\u001b[43mmetrics\u001b[49m\u001b[38;5;241;43m.\u001b[39;49m\u001b[43mBinaryAccuracy\u001b[49m\u001b[43m(\u001b[49m\u001b[43m)\u001b[49m\u001b[43m(\u001b[49m\u001b[43mtrain_set\u001b[49m\u001b[43m[\u001b[49m\u001b[38;5;124;43m'\u001b[39;49m\u001b[38;5;124;43my\u001b[39;49m\u001b[38;5;124;43m'\u001b[39;49m\u001b[43m]\u001b[49m\u001b[43m[\u001b[49m\u001b[43mtesti\u001b[49m\u001b[43m:\u001b[49m\u001b[43mtesti\u001b[49m\u001b[38;5;241;43m+\u001b[39;49m\u001b[38;5;241;43m4\u001b[39;49m\u001b[43m]\u001b[49m\u001b[43m,\u001b[49m\u001b[43mprediction\u001b[49m\u001b[43m)\u001b[49m\n",
      "File \u001b[0;32m/opt/conda/lib/python3.10/site-packages/keras/metrics.py:237\u001b[0m, in \u001b[0;36mMetric.__call__\u001b[0;34m(self, *args, **kwargs)\u001b[0m\n\u001b[1;32m    234\u001b[0m     \u001b[38;5;28;01mreturn\u001b[39;00m result_t\n\u001b[1;32m    236\u001b[0m \u001b[38;5;28;01mfrom\u001b[39;00m \u001b[38;5;21;01mkeras\u001b[39;00m\u001b[38;5;21;01m.\u001b[39;00m\u001b[38;5;21;01mdistribute\u001b[39;00m \u001b[38;5;28;01mimport\u001b[39;00m distributed_training_utils  \u001b[38;5;66;03m# pylint:disable=g-import-not-at-top\u001b[39;00m\n\u001b[0;32m--> 237\u001b[0m \u001b[38;5;28;01mreturn\u001b[39;00m \u001b[43mdistributed_training_utils\u001b[49m\u001b[38;5;241;43m.\u001b[39;49m\u001b[43mcall_replica_local_fn\u001b[49m\u001b[43m(\u001b[49m\n\u001b[1;32m    238\u001b[0m \u001b[43m    \u001b[49m\u001b[43mreplica_local_fn\u001b[49m\u001b[43m,\u001b[49m\u001b[43m \u001b[49m\u001b[38;5;241;43m*\u001b[39;49m\u001b[43margs\u001b[49m\u001b[43m,\u001b[49m\u001b[43m \u001b[49m\u001b[38;5;241;43m*\u001b[39;49m\u001b[38;5;241;43m*\u001b[39;49m\u001b[43mkwargs\u001b[49m\u001b[43m)\u001b[49m\n",
      "File \u001b[0;32m/opt/conda/lib/python3.10/site-packages/keras/distribute/distributed_training_utils.py:60\u001b[0m, in \u001b[0;36mcall_replica_local_fn\u001b[0;34m(fn, *args, **kwargs)\u001b[0m\n\u001b[1;32m     58\u001b[0m   \u001b[38;5;28;01mwith\u001b[39;00m strategy\u001b[38;5;241m.\u001b[39mscope():\n\u001b[1;32m     59\u001b[0m     \u001b[38;5;28;01mreturn\u001b[39;00m strategy\u001b[38;5;241m.\u001b[39mextended\u001b[38;5;241m.\u001b[39mcall_for_each_replica(fn, args, kwargs)\n\u001b[0;32m---> 60\u001b[0m \u001b[38;5;28;01mreturn\u001b[39;00m \u001b[43mfn\u001b[49m\u001b[43m(\u001b[49m\u001b[38;5;241;43m*\u001b[39;49m\u001b[43margs\u001b[49m\u001b[43m,\u001b[49m\u001b[43m \u001b[49m\u001b[38;5;241;43m*\u001b[39;49m\u001b[38;5;241;43m*\u001b[39;49m\u001b[43mkwargs\u001b[49m\u001b[43m)\u001b[49m\n",
      "File \u001b[0;32m/opt/conda/lib/python3.10/site-packages/keras/metrics.py:218\u001b[0m, in \u001b[0;36mMetric.__call__.<locals>.replica_local_fn\u001b[0;34m(*args, **kwargs)\u001b[0m\n\u001b[1;32m    216\u001b[0m   update_op \u001b[38;5;241m=\u001b[39m \u001b[38;5;28;01mNone\u001b[39;00m\n\u001b[1;32m    217\u001b[0m \u001b[38;5;28;01melse\u001b[39;00m:\n\u001b[0;32m--> 218\u001b[0m   update_op \u001b[38;5;241m=\u001b[39m \u001b[38;5;28;43mself\u001b[39;49m\u001b[38;5;241;43m.\u001b[39;49m\u001b[43mupdate_state\u001b[49m\u001b[43m(\u001b[49m\u001b[38;5;241;43m*\u001b[39;49m\u001b[43margs\u001b[49m\u001b[43m,\u001b[49m\u001b[43m \u001b[49m\u001b[38;5;241;43m*\u001b[39;49m\u001b[38;5;241;43m*\u001b[39;49m\u001b[43mkwargs\u001b[49m\u001b[43m)\u001b[49m  \u001b[38;5;66;03m# pylint: disable=not-callable\u001b[39;00m\n\u001b[1;32m    219\u001b[0m update_ops \u001b[38;5;241m=\u001b[39m []\n\u001b[1;32m    220\u001b[0m \u001b[38;5;28;01mif\u001b[39;00m update_op \u001b[38;5;129;01mis\u001b[39;00m \u001b[38;5;129;01mnot\u001b[39;00m \u001b[38;5;28;01mNone\u001b[39;00m:\n",
      "File \u001b[0;32m/opt/conda/lib/python3.10/site-packages/keras/utils/metrics_utils.py:70\u001b[0m, in \u001b[0;36mupdate_state_wrapper.<locals>.decorated\u001b[0;34m(metric_obj, *args, **kwargs)\u001b[0m\n\u001b[1;32m     64\u001b[0m     \u001b[38;5;28;01mraise\u001b[39;00m \u001b[38;5;167;01mValueError\u001b[39;00m(\n\u001b[1;32m     65\u001b[0m         \u001b[38;5;124m'\u001b[39m\u001b[38;5;124mTrying to run metric.update_state in replica context when \u001b[39m\u001b[38;5;124m'\u001b[39m\n\u001b[1;32m     66\u001b[0m         \u001b[38;5;124m'\u001b[39m\u001b[38;5;124mthe metric was not created in TPUStrategy scope. \u001b[39m\u001b[38;5;124m'\u001b[39m\n\u001b[1;32m     67\u001b[0m         \u001b[38;5;124m'\u001b[39m\u001b[38;5;124mMake sure the keras Metric is created in TPUstrategy scope. \u001b[39m\u001b[38;5;124m'\u001b[39m)\n\u001b[1;32m     69\u001b[0m \u001b[38;5;28;01mwith\u001b[39;00m tf_utils\u001b[38;5;241m.\u001b[39mgraph_context_for_symbolic_tensors(\u001b[38;5;241m*\u001b[39margs, \u001b[38;5;241m*\u001b[39m\u001b[38;5;241m*\u001b[39mkwargs):\n\u001b[0;32m---> 70\u001b[0m   update_op \u001b[38;5;241m=\u001b[39m \u001b[43mupdate_state_fn\u001b[49m\u001b[43m(\u001b[49m\u001b[38;5;241;43m*\u001b[39;49m\u001b[43margs\u001b[49m\u001b[43m,\u001b[49m\u001b[43m \u001b[49m\u001b[38;5;241;43m*\u001b[39;49m\u001b[38;5;241;43m*\u001b[39;49m\u001b[43mkwargs\u001b[49m\u001b[43m)\u001b[49m\n\u001b[1;32m     71\u001b[0m \u001b[38;5;28;01mif\u001b[39;00m update_op \u001b[38;5;129;01mis\u001b[39;00m \u001b[38;5;129;01mnot\u001b[39;00m \u001b[38;5;28;01mNone\u001b[39;00m:  \u001b[38;5;66;03m# update_op will be None in eager execution.\u001b[39;00m\n\u001b[1;32m     72\u001b[0m   metric_obj\u001b[38;5;241m.\u001b[39madd_update(update_op)\n",
      "File \u001b[0;32m/opt/conda/lib/python3.10/site-packages/keras/metrics.py:178\u001b[0m, in \u001b[0;36mMetric.__new__.<locals>.update_state_fn\u001b[0;34m(*args, **kwargs)\u001b[0m\n\u001b[1;32m    176\u001b[0m control_status \u001b[38;5;241m=\u001b[39m tf\u001b[38;5;241m.\u001b[39m__internal__\u001b[38;5;241m.\u001b[39mautograph\u001b[38;5;241m.\u001b[39mcontrol_status_ctx()\n\u001b[1;32m    177\u001b[0m ag_update_state \u001b[38;5;241m=\u001b[39m tf\u001b[38;5;241m.\u001b[39m__internal__\u001b[38;5;241m.\u001b[39mautograph\u001b[38;5;241m.\u001b[39mtf_convert(obj_update_state, control_status)\n\u001b[0;32m--> 178\u001b[0m \u001b[38;5;28;01mreturn\u001b[39;00m \u001b[43mag_update_state\u001b[49m\u001b[43m(\u001b[49m\u001b[38;5;241;43m*\u001b[39;49m\u001b[43margs\u001b[49m\u001b[43m,\u001b[49m\u001b[43m \u001b[49m\u001b[38;5;241;43m*\u001b[39;49m\u001b[38;5;241;43m*\u001b[39;49m\u001b[43mkwargs\u001b[49m\u001b[43m)\u001b[49m\n",
      "File \u001b[0;32m/opt/conda/lib/python3.10/site-packages/tensorflow/python/autograph/impl/api.py:689\u001b[0m, in \u001b[0;36mconvert.<locals>.decorator.<locals>.wrapper\u001b[0;34m(*args, **kwargs)\u001b[0m\n\u001b[1;32m    687\u001b[0m \u001b[38;5;28;01mtry\u001b[39;00m:\n\u001b[1;32m    688\u001b[0m   \u001b[38;5;28;01mwith\u001b[39;00m conversion_ctx:\n\u001b[0;32m--> 689\u001b[0m     \u001b[38;5;28;01mreturn\u001b[39;00m \u001b[43mconverted_call\u001b[49m\u001b[43m(\u001b[49m\u001b[43mf\u001b[49m\u001b[43m,\u001b[49m\u001b[43m \u001b[49m\u001b[43margs\u001b[49m\u001b[43m,\u001b[49m\u001b[43m \u001b[49m\u001b[43mkwargs\u001b[49m\u001b[43m,\u001b[49m\u001b[43m \u001b[49m\u001b[43moptions\u001b[49m\u001b[38;5;241;43m=\u001b[39;49m\u001b[43moptions\u001b[49m\u001b[43m)\u001b[49m\n\u001b[1;32m    690\u001b[0m \u001b[38;5;28;01mexcept\u001b[39;00m \u001b[38;5;167;01mException\u001b[39;00m \u001b[38;5;28;01mas\u001b[39;00m e:  \u001b[38;5;66;03m# pylint:disable=broad-except\u001b[39;00m\n\u001b[1;32m    691\u001b[0m   \u001b[38;5;28;01mif\u001b[39;00m \u001b[38;5;28mhasattr\u001b[39m(e, \u001b[38;5;124m'\u001b[39m\u001b[38;5;124mag_error_metadata\u001b[39m\u001b[38;5;124m'\u001b[39m):\n",
      "File \u001b[0;32m/opt/conda/lib/python3.10/site-packages/tensorflow/python/autograph/impl/api.py:331\u001b[0m, in \u001b[0;36mconverted_call\u001b[0;34m(f, args, kwargs, caller_fn_scope, options)\u001b[0m\n\u001b[1;32m    329\u001b[0m \u001b[38;5;28;01mif\u001b[39;00m conversion\u001b[38;5;241m.\u001b[39mis_in_allowlist_cache(f, options):\n\u001b[1;32m    330\u001b[0m   logging\u001b[38;5;241m.\u001b[39mlog(\u001b[38;5;241m2\u001b[39m, \u001b[38;5;124m'\u001b[39m\u001b[38;5;124mAllowlisted \u001b[39m\u001b[38;5;132;01m%s\u001b[39;00m\u001b[38;5;124m: from cache\u001b[39m\u001b[38;5;124m'\u001b[39m, f)\n\u001b[0;32m--> 331\u001b[0m   \u001b[38;5;28;01mreturn\u001b[39;00m \u001b[43m_call_unconverted\u001b[49m\u001b[43m(\u001b[49m\u001b[43mf\u001b[49m\u001b[43m,\u001b[49m\u001b[43m \u001b[49m\u001b[43margs\u001b[49m\u001b[43m,\u001b[49m\u001b[43m \u001b[49m\u001b[43mkwargs\u001b[49m\u001b[43m,\u001b[49m\u001b[43m \u001b[49m\u001b[43moptions\u001b[49m\u001b[43m,\u001b[49m\u001b[43m \u001b[49m\u001b[38;5;28;43;01mFalse\u001b[39;49;00m\u001b[43m)\u001b[49m\n\u001b[1;32m    333\u001b[0m \u001b[38;5;28;01mif\u001b[39;00m ag_ctx\u001b[38;5;241m.\u001b[39mcontrol_status_ctx()\u001b[38;5;241m.\u001b[39mstatus \u001b[38;5;241m==\u001b[39m ag_ctx\u001b[38;5;241m.\u001b[39mStatus\u001b[38;5;241m.\u001b[39mDISABLED:\n\u001b[1;32m    334\u001b[0m   logging\u001b[38;5;241m.\u001b[39mlog(\u001b[38;5;241m2\u001b[39m, \u001b[38;5;124m'\u001b[39m\u001b[38;5;124mAllowlisted: \u001b[39m\u001b[38;5;132;01m%s\u001b[39;00m\u001b[38;5;124m: AutoGraph is disabled in context\u001b[39m\u001b[38;5;124m'\u001b[39m, f)\n",
      "File \u001b[0;32m/opt/conda/lib/python3.10/site-packages/tensorflow/python/autograph/impl/api.py:458\u001b[0m, in \u001b[0;36m_call_unconverted\u001b[0;34m(f, args, kwargs, options, update_cache)\u001b[0m\n\u001b[1;32m    455\u001b[0m   \u001b[38;5;28;01mreturn\u001b[39;00m f\u001b[38;5;241m.\u001b[39m\u001b[38;5;18m__self__\u001b[39m\u001b[38;5;241m.\u001b[39mcall(args, kwargs)\n\u001b[1;32m    457\u001b[0m \u001b[38;5;28;01mif\u001b[39;00m kwargs \u001b[38;5;129;01mis\u001b[39;00m \u001b[38;5;129;01mnot\u001b[39;00m \u001b[38;5;28;01mNone\u001b[39;00m:\n\u001b[0;32m--> 458\u001b[0m   \u001b[38;5;28;01mreturn\u001b[39;00m \u001b[43mf\u001b[49m\u001b[43m(\u001b[49m\u001b[38;5;241;43m*\u001b[39;49m\u001b[43margs\u001b[49m\u001b[43m,\u001b[49m\u001b[43m \u001b[49m\u001b[38;5;241;43m*\u001b[39;49m\u001b[38;5;241;43m*\u001b[39;49m\u001b[43mkwargs\u001b[49m\u001b[43m)\u001b[49m\n\u001b[1;32m    459\u001b[0m \u001b[38;5;28;01mreturn\u001b[39;00m f(\u001b[38;5;241m*\u001b[39margs)\n",
      "File \u001b[0;32m/opt/conda/lib/python3.10/site-packages/keras/metrics.py:729\u001b[0m, in \u001b[0;36mMeanMetricWrapper.update_state\u001b[0;34m(self, y_true, y_pred, sample_weight)\u001b[0m\n\u001b[1;32m    725\u001b[0m y_pred, y_true \u001b[38;5;241m=\u001b[39m losses_utils\u001b[38;5;241m.\u001b[39msqueeze_or_expand_dimensions(\n\u001b[1;32m    726\u001b[0m     y_pred, y_true)\n\u001b[1;32m    728\u001b[0m ag_fn \u001b[38;5;241m=\u001b[39m tf\u001b[38;5;241m.\u001b[39m__internal__\u001b[38;5;241m.\u001b[39mautograph\u001b[38;5;241m.\u001b[39mtf_convert(\u001b[38;5;28mself\u001b[39m\u001b[38;5;241m.\u001b[39m_fn, tf\u001b[38;5;241m.\u001b[39m__internal__\u001b[38;5;241m.\u001b[39mautograph\u001b[38;5;241m.\u001b[39mcontrol_status_ctx())\n\u001b[0;32m--> 729\u001b[0m matches \u001b[38;5;241m=\u001b[39m \u001b[43mag_fn\u001b[49m\u001b[43m(\u001b[49m\u001b[43my_true\u001b[49m\u001b[43m,\u001b[49m\u001b[43m \u001b[49m\u001b[43my_pred\u001b[49m\u001b[43m,\u001b[49m\u001b[43m \u001b[49m\u001b[38;5;241;43m*\u001b[39;49m\u001b[38;5;241;43m*\u001b[39;49m\u001b[38;5;28;43mself\u001b[39;49m\u001b[38;5;241;43m.\u001b[39;49m\u001b[43m_fn_kwargs\u001b[49m\u001b[43m)\u001b[49m\n\u001b[1;32m    730\u001b[0m \u001b[38;5;28;01mreturn\u001b[39;00m \u001b[38;5;28msuper\u001b[39m(MeanMetricWrapper, \u001b[38;5;28mself\u001b[39m)\u001b[38;5;241m.\u001b[39mupdate_state(\n\u001b[1;32m    731\u001b[0m     matches, sample_weight\u001b[38;5;241m=\u001b[39msample_weight)\n",
      "File \u001b[0;32m/opt/conda/lib/python3.10/site-packages/tensorflow/python/util/traceback_utils.py:153\u001b[0m, in \u001b[0;36mfilter_traceback.<locals>.error_handler\u001b[0;34m(*args, **kwargs)\u001b[0m\n\u001b[1;32m    151\u001b[0m \u001b[38;5;28;01mexcept\u001b[39;00m \u001b[38;5;167;01mException\u001b[39;00m \u001b[38;5;28;01mas\u001b[39;00m e:\n\u001b[1;32m    152\u001b[0m   filtered_tb \u001b[38;5;241m=\u001b[39m _process_traceback_frames(e\u001b[38;5;241m.\u001b[39m__traceback__)\n\u001b[0;32m--> 153\u001b[0m   \u001b[38;5;28;01mraise\u001b[39;00m e\u001b[38;5;241m.\u001b[39mwith_traceback(filtered_tb) \u001b[38;5;28;01mfrom\u001b[39;00m \u001b[38;5;28mNone\u001b[39m\n\u001b[1;32m    154\u001b[0m \u001b[38;5;28;01mfinally\u001b[39;00m:\n\u001b[1;32m    155\u001b[0m   \u001b[38;5;28;01mdel\u001b[39;00m filtered_tb\n",
      "File \u001b[0;32m/opt/conda/lib/python3.10/site-packages/keras/metrics.py:4016\u001b[0m, in \u001b[0;36mbinary_accuracy\u001b[0;34m(y_true, y_pred, threshold)\u001b[0m\n\u001b[1;32m   4014\u001b[0m threshold \u001b[38;5;241m=\u001b[39m tf\u001b[38;5;241m.\u001b[39mcast(threshold, y_pred\u001b[38;5;241m.\u001b[39mdtype)\n\u001b[1;32m   4015\u001b[0m y_pred \u001b[38;5;241m=\u001b[39m tf\u001b[38;5;241m.\u001b[39mcast(y_pred \u001b[38;5;241m>\u001b[39m threshold, y_pred\u001b[38;5;241m.\u001b[39mdtype)\n\u001b[0;32m-> 4016\u001b[0m \u001b[38;5;28;01mreturn\u001b[39;00m backend\u001b[38;5;241m.\u001b[39mmean(\u001b[43mtf\u001b[49m\u001b[38;5;241;43m.\u001b[39;49m\u001b[43mequal\u001b[49m\u001b[43m(\u001b[49m\u001b[43my_true\u001b[49m\u001b[43m,\u001b[49m\u001b[43m \u001b[49m\u001b[43my_pred\u001b[49m\u001b[43m)\u001b[49m, axis\u001b[38;5;241m=\u001b[39m\u001b[38;5;241m-\u001b[39m\u001b[38;5;241m1\u001b[39m)\n",
      "\u001b[0;31mInvalidArgumentError\u001b[0m: Incompatible shapes: [4] vs. [4,2] [Op:Equal]"
     ]
    }
   ],
   "source": [
    "keras.metrics.BinaryAccuracy()(train_set['y'][testi:testi+4],prediction)"
   ]
  },
  {
   "cell_type": "code",
   "execution_count": 430,
   "id": "a7f8cf3d-0cd4-471f-a6d6-560a0d21e66e",
   "metadata": {
    "scrolled": true,
    "tags": []
   },
   "outputs": [
    {
     "name": "stdout",
     "output_type": "stream",
     "text": [
      "Epoch 1/20\n",
      "images shape:  (None, 2, 32, 32)\n",
      "b shape  2\n",
      "in loop single shape: (None, 32, 32)\n",
      "z :  (2, 512)\n",
      "hx :  (2, 512)\n",
      "WARNING:tensorflow:Gradients do not exist for variables ['esbn_52/while/lstm_cell_49/kernel:0', 'esbn_52/while/lstm_cell_49/recurrent_kernel:0', 'esbn_52/while/lstm_cell_49/bias:0', 'esbn_52/while/dense_278/kernel:0', 'esbn_52/while/dense_278/bias:0', 'esbn_52/while/dense_279/kernel:0', 'esbn_52/while/dense_279/bias:0', 'esbn_52/while/dense_280/kernel:0', 'esbn_52/while/dense_280/bias:0', 'conv2d_147/kernel:0', 'conv2d_147/bias:0', 'conv2d_148/kernel:0', 'conv2d_148/bias:0', 'conv2d_149/kernel:0', 'conv2d_149/bias:0', 'dense_281/kernel:0', 'dense_281/bias:0', 'esbn_52/while/cond/dense_282/kernel:0', 'esbn_52/while/cond/dense_282/bias:0'] when minimizing the loss. If you're using `model.compile()`, did you forget to provide a `loss`argument?\n",
      "images shape:  (None, 2, 32, 32)\n",
      "b shape  2\n",
      "in loop single shape: (None, 32, 32)\n",
      "z :  (2, 512)\n",
      "hx :  (2, 512)\n",
      "WARNING:tensorflow:Gradients do not exist for variables ['esbn_52/while/lstm_cell_49/kernel:0', 'esbn_52/while/lstm_cell_49/recurrent_kernel:0', 'esbn_52/while/lstm_cell_49/bias:0', 'esbn_52/while/dense_278/kernel:0', 'esbn_52/while/dense_278/bias:0', 'esbn_52/while/dense_279/kernel:0', 'esbn_52/while/dense_279/bias:0', 'esbn_52/while/dense_280/kernel:0', 'esbn_52/while/dense_280/bias:0', 'conv2d_147/kernel:0', 'conv2d_147/bias:0', 'conv2d_148/kernel:0', 'conv2d_148/bias:0', 'conv2d_149/kernel:0', 'conv2d_149/bias:0', 'dense_281/kernel:0', 'dense_281/bias:0', 'esbn_52/while/cond/dense_282/kernel:0', 'esbn_52/while/cond/dense_282/bias:0'] when minimizing the loss. If you're using `model.compile()`, did you forget to provide a `loss`argument?\n",
      "471/471 [==============================] - ETA: 0s - loss: 0.6931 - sparse_categorical_accuracy: 0.5030images shape:  (None, 2, 32, 32)\n",
      "b shape  2\n",
      "in loop single shape: (None, 32, 32)\n",
      "z :  (2, 512)\n",
      "hx :  (2, 512)\n",
      "471/471 [==============================] - 3s 4ms/step - loss: 0.6931 - sparse_categorical_accuracy: 0.5030 - val_loss: 0.6931 - val_sparse_categorical_accuracy: 0.4880\n",
      "Epoch 2/20\n",
      "471/471 [==============================] - 1s 2ms/step - loss: 0.6931 - sparse_categorical_accuracy: 0.5030 - val_loss: 0.6931 - val_sparse_categorical_accuracy: 0.4880\n",
      "Epoch 3/20\n",
      "471/471 [==============================] - 1s 2ms/step - loss: 0.6931 - sparse_categorical_accuracy: 0.5030 - val_loss: 0.6931 - val_sparse_categorical_accuracy: 0.4880\n",
      "Epoch 4/20\n",
      "471/471 [==============================] - 1s 2ms/step - loss: 0.6931 - sparse_categorical_accuracy: 0.5030 - val_loss: 0.6931 - val_sparse_categorical_accuracy: 0.4880\n",
      "Epoch 5/20\n",
      "471/471 [==============================] - 1s 2ms/step - loss: 0.6931 - sparse_categorical_accuracy: 0.5030 - val_loss: 0.6931 - val_sparse_categorical_accuracy: 0.4880\n",
      "Epoch 6/20\n",
      "471/471 [==============================] - 1s 2ms/step - loss: 0.6931 - sparse_categorical_accuracy: 0.5030 - val_loss: 0.6931 - val_sparse_categorical_accuracy: 0.4880\n",
      "Epoch 7/20\n",
      "471/471 [==============================] - 1s 2ms/step - loss: 0.6931 - sparse_categorical_accuracy: 0.5030 - val_loss: 0.6931 - val_sparse_categorical_accuracy: 0.4880\n",
      "Epoch 8/20\n",
      "471/471 [==============================] - 1s 2ms/step - loss: 0.6931 - sparse_categorical_accuracy: 0.5030 - val_loss: 0.6931 - val_sparse_categorical_accuracy: 0.4880\n",
      "Epoch 9/20\n",
      "471/471 [==============================] - 1s 2ms/step - loss: 0.6931 - sparse_categorical_accuracy: 0.5030 - val_loss: 0.6931 - val_sparse_categorical_accuracy: 0.4880\n",
      "Epoch 10/20\n",
      "471/471 [==============================] - 1s 2ms/step - loss: 0.6931 - sparse_categorical_accuracy: 0.5030 - val_loss: 0.6931 - val_sparse_categorical_accuracy: 0.4880\n",
      "Epoch 11/20\n",
      "471/471 [==============================] - 1s 2ms/step - loss: 0.6931 - sparse_categorical_accuracy: 0.5030 - val_loss: 0.6931 - val_sparse_categorical_accuracy: 0.4880\n",
      "Epoch 12/20\n",
      "471/471 [==============================] - 1s 2ms/step - loss: 0.6931 - sparse_categorical_accuracy: 0.5030 - val_loss: 0.6931 - val_sparse_categorical_accuracy: 0.4880\n",
      "Epoch 13/20\n",
      "471/471 [==============================] - 1s 2ms/step - loss: 0.6931 - sparse_categorical_accuracy: 0.5030 - val_loss: 0.6931 - val_sparse_categorical_accuracy: 0.4880\n",
      "Epoch 14/20\n",
      "471/471 [==============================] - 1s 2ms/step - loss: 0.6931 - sparse_categorical_accuracy: 0.5030 - val_loss: 0.6931 - val_sparse_categorical_accuracy: 0.4880\n",
      "Epoch 15/20\n",
      "471/471 [==============================] - 1s 2ms/step - loss: 0.6931 - sparse_categorical_accuracy: 0.5030 - val_loss: 0.6931 - val_sparse_categorical_accuracy: 0.4880\n",
      "Epoch 16/20\n",
      "471/471 [==============================] - 1s 2ms/step - loss: 0.6931 - sparse_categorical_accuracy: 0.5030 - val_loss: 0.6931 - val_sparse_categorical_accuracy: 0.4880\n",
      "Epoch 17/20\n",
      "471/471 [==============================] - 1s 2ms/step - loss: 0.6931 - sparse_categorical_accuracy: 0.5030 - val_loss: 0.6931 - val_sparse_categorical_accuracy: 0.4880\n",
      "Epoch 18/20\n",
      "471/471 [==============================] - 1s 2ms/step - loss: 0.6931 - sparse_categorical_accuracy: 0.5030 - val_loss: 0.6931 - val_sparse_categorical_accuracy: 0.4880\n",
      "Epoch 19/20\n",
      "471/471 [==============================] - 1s 2ms/step - loss: 0.6931 - sparse_categorical_accuracy: 0.5030 - val_loss: 0.6931 - val_sparse_categorical_accuracy: 0.4880\n",
      "Epoch 20/20\n",
      "471/471 [==============================] - 1s 2ms/step - loss: 0.6931 - sparse_categorical_accuracy: 0.5030 - val_loss: 0.6931 - val_sparse_categorical_accuracy: 0.4880\n"
     ]
    }
   ],
   "source": [
    "epochs = 20\n",
    "history = model.fit(x_train, train_set['y'],\n",
    "                    batch_size=train_batch_size,\n",
    "                    epochs=epochs,\n",
    "                    validation_split=0.2,#1-train_proportion,\n",
    "                    verbose=1)"
   ]
  },
  {
   "cell_type": "code",
   "execution_count": 389,
   "id": "73034722-c76c-465f-9576-a6579e270b7d",
   "metadata": {},
   "outputs": [
    {
     "data": {
      "text/plain": [
       "dict_keys(['loss', 'binary_accuracy', 'val_loss', 'val_binary_accuracy'])"
      ]
     },
     "execution_count": 389,
     "metadata": {},
     "output_type": "execute_result"
    }
   ],
   "source": [
    "history.history.keys()"
   ]
  },
  {
   "cell_type": "code",
   "execution_count": 390,
   "id": "580dd6aa-f58c-4148-a671-9ec8564d2736",
   "metadata": {},
   "outputs": [
    {
     "data": {
      "image/png": "[encoded data removed]",
      "text/plain": [
       "<Figure size 432x288 with 1 Axes>"
      ]
     },
     "metadata": {
      "needs_background": "light"
     },
     "output_type": "display_data"
    }
   ],
   "source": [
    "plt.plot(history.history['loss'], label='training')\n",
    "plt.plot(history.history['val_loss'],label='validation')\n",
    "plt.legend()\n",
    "plt.xlabel('Epoch')\n",
    "plt.ylabel('Loss')\n",
    "\n",
    "plt.show()"
   ]
  },
  {
   "cell_type": "code",
   "execution_count": 391,
   "id": "1c9688d1-bc76-4fae-a175-7a56bac2755f",
   "metadata": {},
   "outputs": [
    {
     "data": {
      "image/png": "[encoded data removed]",
      "text/plain": [
       "<Figure size 432x288 with 1 Axes>"
      ]
     },
     "metadata": {
      "needs_background": "light"
     },
     "output_type": "display_data"
    }
   ],
   "source": [
    "plt.plot(history.history['binary_accuracy'], label='training')\n",
    "plt.plot(history.history['val_binary_accuracy'], label='validation')\n",
    "plt.legend()\n",
    "plt.xlabel('Epoch')\n",
    "plt.ylabel('Accuracy (P)')\n",
    "plt.show()"
   ]
  },
  {
   "cell_type": "markdown",
   "id": "3e4f8291-4da1-427f-80c7-8990ffe0ede7",
   "metadata": {},
   "source": [
    "# Test"
   ]
  },
  {
   "cell_type": "code",
   "execution_count": null,
   "id": "c0efa94d-2a88-4a89-b411-acd3eec33cbb",
   "metadata": {},
   "outputs": [],
   "source": []
  }
 ],
 "metadata": {
  "kernelspec": {
   "display_name": "Python 3 (ipykernel)",
   "language": "python",
   "name": "python3"
  },
  "language_info": {
   "codemirror_mode": {
    "name": "ipython",
    "version": 3
   },
   "file_extension": ".py",
   "mimetype": "text/x-python",
   "name": "python",
   "nbconvert_exporter": "python",
   "pygments_lexer": "ipython3",
   "version": "3.10.5"
  }
 },
 "nbformat": 4,
 "nbformat_minor": 5
}
