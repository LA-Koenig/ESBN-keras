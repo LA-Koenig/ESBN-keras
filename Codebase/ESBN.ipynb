{
 "cells": [
  {
   "cell_type": "code",
   "execution_count": 1,
   "id": "4636998e-861c-4f42-9bfe-d937613a6bf8",
   "metadata": {},
   "outputs": [],
   "source": [
    "import argparse\n",
    "import os\n",
    "import sys\n",
    "import time\n",
    "import numpy as np\n",
    "from PIL import Image\n",
    "\n",
    "import tensorflow as tf\n",
    "import tensorflow.keras as keras\n",
    "import matplotlib.pyplot as plt\n",
    "import urllib\n",
    "import time"
   ]
  },
  {
   "cell_type": "markdown",
   "id": "33eb4c4c-a3c6-492e-bfdd-72e63d6db718",
   "metadata": {},
   "source": [
    "This is following the model from LucidRains with some advisement from the original code\n",
    "\n",
    "https://github.com/lucidrains/ESBN-pytorch"
   ]
  },
  {
   "cell_type": "markdown",
   "id": "3e65ffde-5065-4082-8678-b029e04c2514",
   "metadata": {},
   "source": [
    "# helper functions"
   ]
  },
  {
   "cell_type": "code",
   "execution_count": 2,
   "id": "de49f2c8-54ab-4771-ae9e-8b7f70339371",
   "metadata": {},
   "outputs": [],
   "source": [
    "def exists(val):\n",
    "    return val is not None"
   ]
  },
  {
   "cell_type": "code",
   "execution_count": 3,
   "id": "3282cc68-2d34-4a86-b38b-09f9c64c7f6b",
   "metadata": {},
   "outputs": [],
   "source": [
    "def safe_cat(t, el, dim =0):\n",
    "    if not exists(t):\n",
    "        return el\n",
    "    return tf.concat((t, el), axis = dim)"
   ]
  },
  {
   "cell_type": "code",
   "execution_count": 4,
   "id": "b1654469-6e43-46f8-8a6b-d556302d3e51",
   "metadata": {},
   "outputs": [],
   "source": [
    "def map_fn(fn, *args, **kwargs):\n",
    "    def inner(*arr):\n",
    "        return map(lambda t: fn(t, *args, **kwargs), arr)\n",
    "    return inner"
   ]
  },
  {
   "cell_type": "markdown",
   "id": "bc3cccdb-fc02-49c9-aa09-9e5fea9de15b",
   "metadata": {
    "jp-MarkdownHeadingCollapsed": true,
    "tags": []
   },
   "source": [
    "# the Class"
   ]
  },
  {
   "cell_type": "code",
   "execution_count": 5,
   "id": "c1f5311f-3fff-4339-9d23-75dac39fd432",
   "metadata": {},
   "outputs": [],
   "source": [
    "class ESBN(keras.layers.Layer):\n",
    "    def __init__(\n",
    "        self,\n",
    "        *,\n",
    "        value_dim = 64,\n",
    "        key_dim = 64,\n",
    "        hidden_dim = 512,\n",
    "        output_dim = 4,\n",
    "        encoder = None\n",
    "    ):\n",
    "        super().__init__()\n",
    "        self.h0 = tf.zeros(hidden_dim)\n",
    "        self.c0 = tf.zeros(hidden_dim)\n",
    "        self.k0 = tf.zeros(key_dim + 1)\n",
    "        \n",
    "        self.rnn = tf.keras.layers.LSTMCell(hidden_dim)  #What is the difference between this and just LSTM\n",
    "        self.to_gate = tf.keras.layers.Dense(1, activation=tf.keras.activations.sigmoid) #?\n",
    "        self.to_key = tf.keras.layers.Dense(key_dim)\n",
    "        self.to_output = tf.keras.layers.Dense(output_dim)\n",
    "        \n",
    "        self.encoder = tf.keras.Sequential()\n",
    "        self.encoder.add(tf.keras.layers.Conv2D(32, kernel_size=4, strides=2, \n",
    "                                                activation=tf.keras.activations.relu))\n",
    "        self.encoder.add(tf.keras.layers.Conv2D(64, kernel_size=4, strides=2,\n",
    "                                                activation=tf.keras.activations.relu))\n",
    "        self.encoder.add(tf.keras.layers.Conv2D(64, kernel_size=4, strides=2,\n",
    "                                                activation=tf.keras.activations.relu))\n",
    "        self.encoder.add(tf.keras.layers.Flatten())\n",
    "        self.encoder.add(tf.keras.layers.Dense(value_dim))\n",
    "                         # if not exists(encoder) else encoder What does???\n",
    "            \n",
    "        self.to_confidence = tf.keras.layers.Dense(1, activation=tf.keras.activations.sigmoid)\n",
    "        \n",
    "    def forward(self, images):\n",
    "        b = images.shape[1]\n",
    "        Mk = None\n",
    "        Mv = None\n",
    "        \n",
    "        hx, cx, kx, k0 = map_fn(repeat, 'd -> b d', b = b)(self.h0, self.c0, self.k0, self.k0)\n",
    "        out =[] #note, there could be issues with lists. aslo consider a better way becaues other languages bla bla\n",
    "        \n",
    "        for ind, image in enumerate(images):\n",
    "            is_first = ind == 0\n",
    "            z = self.encoder(image)\n",
    "            hx, cx = self.rnn(kx, (hx, cx)) #return state?\n",
    "            y, g, kw = self.to_output(hx), self.to_gate(hx), self.to_key(hx)\n",
    "            \n",
    "            # if is_first: #redundent?\n",
    "            #     kx = k0\n",
    "            # else:\n",
    "            if not is_first:\n",
    "                # attention\n",
    "                sim = tf.keras.layers.EinsumDense('b n d, b d -> b n',\n",
    "                                                  activations=tf.keras.activations.linear)([Mv, z])\n",
    "                wk = tf.keras.layers.Activation(activation=tf.keras.activations.softmax)(sim)\n",
    "                # sim = tf.einsum('b n d, b d -> b n', Mv, z)\n",
    "                # wk = sim.tf.softmax(-1) #????\n",
    "                \n",
    "                # calculate confidence\n",
    "                sim, wk = map_fn(rearrange, 'b n -> b n ()')(sim, wk) #consider\n",
    "                ck = self.to_confidence(sim)\n",
    "                \n",
    "                #kx = g.sigmoid() * (wk * torch.cat((Mk, ck), dim = -1)).sum(dim = 1)\n",
    "                #g already has the sigmoid attached\n",
    "                #make a cat layer\n",
    "                #lambda layer to do the sum\n",
    "                #be careful\n",
    "                #another for the \n",
    "                cc = tf.keras.layers.concatenate([Mk, ck], axis=-1) #verified to work the same\n",
    "                cc = tf.math.reduce_sum(wk * cc, axis = 1) #same as torch.sum\n",
    "                kx = g * cc\n",
    "                \n",
    "            kw, z = map_fn(rearrange, 'b d -> b () d')(kw, z)\n",
    "            Mk = safe_cat(Mk, kw, dim = 1)\n",
    "            Mv = safe_cat(Mv, z, dim = 1)\n",
    "            out.append(y)\n",
    "            \n",
    "        return tf.stack(out) #because this is a list of tensors it should work\n",
    "                "
   ]
  },
  {
   "cell_type": "markdown",
   "id": "e70066a3-cb25-4719-8859-656b3956b9ce",
   "metadata": {},
   "source": [
    "# Same-Difference"
   ]
  },
  {
   "cell_type": "code",
   "execution_count": 6,
   "id": "455fac36-4651-4157-85c4-f59b22e0c1f8",
   "metadata": {},
   "outputs": [],
   "source": [
    "#This is all part of the args mess in their code\n",
    "#initially setting this to be theri defaults\n",
    "\n",
    "#Model Settings\n",
    "model_name = 'ESBN'\n",
    "norm_type = 'contextnorm'\n",
    "encoder = 'conv'\n",
    "#Task settings\n",
    "task = 'same_diff'\n",
    "train_gen_mathod = 'full_space'\n",
    "n_shapes = 100 #total num of shapes available for training/testing\n",
    "m_holdout = 0 #number of objects (out of n) withheld during training\n",
    "#Training Settings\n",
    "train_batch_size = 32\n",
    "train_set_size = 10000\n",
    "train_proportion = 0.95\n",
    "lr = 5e-4\n",
    "epochs = 50\n",
    "log_interval = 10\n",
    "#Test settings\n",
    "test_batch_size = 100\n",
    "test_set_size = 10000\n",
    "#Device Settings\n",
    "no_cuda = False #Actions??? 'store_true'\n",
    "device = 0 \n",
    "#run number\n",
    "run = 1"
   ]
  },
  {
   "cell_type": "code",
   "execution_count": 63,
   "id": "77089001-151a-4d8e-9fc0-4d3c0346c97f",
   "metadata": {},
   "outputs": [
    {
     "data": {
      "text/plain": [
       "(100,)"
      ]
     },
     "execution_count": 63,
     "metadata": {},
     "output_type": "execute_result"
    }
   ],
   "source": [
    "all_shapes = np.arange(n_shapes)\n",
    "np.random.shuffle(all_shapes)\n",
    "all_shapes.shape"
   ]
  },
  {
   "cell_type": "code",
   "execution_count": 64,
   "id": "c044b016-27b4-4551-b9cf-2a4151330cdd",
   "metadata": {},
   "outputs": [
    {
     "data": {
      "text/plain": [
       "(100,)"
      ]
     },
     "execution_count": 64,
     "metadata": {},
     "output_type": "execute_result"
    }
   ],
   "source": [
    "if(m_holdout > 0):\n",
    "    train_shapes = all_shapes[m_holdout:]\n",
    "    test_shapes = all_shapes[:m_holdout]\n",
    "else:\n",
    "    train_shapes = all_shapes\n",
    "    test_shapes = all_shapes\n",
    "    \n",
    "train_shapes.shape"
   ]
  },
  {
   "cell_type": "code",
   "execution_count": 17,
   "id": "1a337030-5dca-41bf-a589-1a39d774eed7",
   "metadata": {},
   "outputs": [],
   "source": [
    "#now we're in their function\n",
    "import sys\n",
    "import random\n",
    "import numpy as np\n",
    "\n",
    "# Prevent python from saving out .pyc files\n",
    "sys.dont_write_bytecode = True\n",
    "\n",
    "y_dim = 2\n",
    "seq_len = 2"
   ]
  },
  {
   "cell_type": "code",
   "execution_count": 100,
   "id": "942ff480-5d9f-4fde-9f26-8626a91d1a34",
   "metadata": {},
   "outputs": [
    {
     "data": {
      "text/plain": [
       "18810"
      ]
     },
     "execution_count": 100,
     "metadata": {},
     "output_type": "execute_result"
    }
   ],
   "source": [
    "# If m = 0, training and test sets are drawn from same set of shapes\n",
    "if(m_holdout == 0):\n",
    "    # Total number of possible trials\n",
    "    shapes_avail = n_shapes\n",
    "    total_trials = (shapes_avail * (shapes_avail - 1)) * 2\n",
    "    \n",
    "    # Proportion of training set size vs test set size\n",
    "    test_proportion = 1 - train_proportion\n",
    "    \n",
    "    # Create training/test set sizes\n",
    "    train_set_size = np.round(train_proportion * total_trials).astype(np.int32)\n",
    "    test_set_size = np.round(test_proportion * total_trials).astype(np.int32)\n",
    "    \n",
    "else: \n",
    "    # Ensure that there are enough potential trials for desired training set size (or change train set size)\n",
    "    shapes_avail = n_shapes - m_holdout\n",
    "    total_trials = (shapes_avail * (shapes_avail - 1)) * 2\n",
    "    \n",
    "    if(train_set_size > total_trials):\n",
    "        train_set_size = total_trials\n",
    "    \n",
    "    # Ensure that there are enough potential trials for desired test set size (or change test set size)\n",
    "    shapes_avail = n_shapes - (n_shapes - m_holdout)\n",
    "    total_trials = (shapes_avail * (shapes_avail - 1)) * 2\n",
    "    \n",
    "    if(test_set_size > total_trials):\n",
    "        test_set_size = total_trials\n",
    "\n",
    "train_set_size"
   ]
  },
  {
   "cell_type": "code",
   "execution_count": 101,
   "id": "911c61a0-4b07-43bc-bc19-3164d7394f55",
   "metadata": {},
   "outputs": [],
   "source": [
    "# If m = 0, training and test sets are drawn from same set of shapes\n",
    "if m_holdout == 0:\n",
    "    # Create all possible trials\n",
    "    same_trials = []\n",
    "    diff_trials = []\n",
    "    for shape1 in train_shapes:\n",
    "        for shape2 in train_shapes:\n",
    "            if shape1 == shape2:\n",
    "                same_trials.append([shape1, shape2])\n",
    "            else:\n",
    "                diff_trials.append([shape1, shape2])\n",
    "    # Shuffle\n",
    "    random.shuffle(same_trials)\n",
    "    random.shuffle(diff_trials)\n",
    "    # Split trials for train and test sets\n",
    "    same_trials_train = same_trials[:np.round(train_proportion * len(same_trials)).astype(np.int32)]\n",
    "    same_trials_test = same_trials[np.round(train_proportion * len(same_trials)).astype(np.int32):]\n",
    "    diff_trials_train = diff_trials[:np.round(train_proportion * len(diff_trials)).astype(np.int32)]\n",
    "    diff_trials_test = diff_trials[np.round(train_proportion * len(diff_trials)).astype(np.int32):]\n",
    "# Otherwise, training and test sets are completely disjoint (in terms of the shapes that are used), and can be generated separately\n",
    "else:\n",
    "    # Create all possible training trials\n",
    "    same_trials_train = []\n",
    "    diff_trials_train = []\n",
    "    for shape1 in train_shapes:\n",
    "        for shape2 in train_shapes:\n",
    "            if shape1 == shape2:\n",
    "                same_trials_train.append([shape1, shape2])\n",
    "            else:\n",
    "                diff_trials_train.append([shape1, shape2])\n",
    "    # Shuffle\n",
    "    random.shuffle(same_trials_train)\n",
    "    random.shuffle(diff_trials_train)\n",
    "    # Create all possible test trials\n",
    "    same_trials_test = []\n",
    "    diff_trials_test = []\n",
    "    for shape1 in test_shapes:\n",
    "        for shape2 in test_shapes:\n",
    "            if shape1 == shape2:\n",
    "                same_trials_test.append([shape1, shape2])\n",
    "            else:\n",
    "                diff_trials_test.append([shape1, shape2])\n",
    "    # Shuffle\n",
    "    random.shuffle(same_trials_test)\n",
    "    random.shuffle(diff_trials_test)"
   ]
  },
  {
   "cell_type": "code",
   "execution_count": 102,
   "id": "3511877e-acc2-4a90-a630-7249ff16b044",
   "metadata": {},
   "outputs": [],
   "source": [
    "# Duplicate 'same' trials to match number of 'different' trials\n",
    "same_trials_train_balanced = []\n",
    "for t in range(len(diff_trials_train)):\n",
    "    same_trials_train_balanced.append(same_trials_train[np.floor(np.random.rand()*len(same_trials_train)).astype(np.int32)])\n",
    "same_trials_test_balanced = []\n",
    "for t in range(len(diff_trials_test)):\n",
    "    same_trials_test_balanced.append(same_trials_test[np.floor(np.random.rand()*len(same_trials_test)).astype(np.int32)])\n",
    "# Combine all same and different trials for training set\n",
    "all_train_seq = []\n",
    "all_train_targ = []\n",
    "for t in range(len(same_trials_train_balanced)):\n",
    "    all_train_seq.append(same_trials_train_balanced[t])\n",
    "    all_train_targ.append(0)\n",
    "for t in range(len(diff_trials_train)):\n",
    "    all_train_seq.append(diff_trials_train[t])\n",
    "    all_train_targ.append(1)\n",
    "# Combine all same and different trials for test set\n",
    "all_test_seq = []\n",
    "all_test_targ = []\n",
    "for t in range(len(same_trials_test_balanced)):\n",
    "    all_test_seq.append(same_trials_test_balanced[t])\n",
    "    all_test_targ.append(0)\n",
    "for t in range(len(diff_trials_test)):\n",
    "    all_test_seq.append(diff_trials_test[t])\n",
    "    all_test_targ.append(1)\n",
    "# Shuffle trials in training set\n",
    "train_ind = np.arange(len(all_train_seq))\n",
    "np.random.shuffle(train_ind)\n",
    "all_train_seq = np.array(all_train_seq)[train_ind]\n",
    "all_train_targ = np.array(all_train_targ)[train_ind]\n",
    "# Shuffle trials in test set\n",
    "test_ind = np.arange(len(all_test_seq))\n",
    "np.random.shuffle(test_ind)\n",
    "all_test_seq = np.array(all_test_seq)[test_ind]\n",
    "all_test_targ = np.array(all_test_targ)[test_ind]\n",
    "# Select subset if desired dataset size is smaller than number of all possible trials\n",
    "if (train_set_size + test_set_size) < total_trials:\n",
    "    all_train_seq = all_train_seq[:train_set_size, :]\n",
    "    all_train_targ = all_train_targ[:train_set_size]\n",
    "    all_test_seq = all_test_seq[:test_set_size, :]\n",
    "    all_test_targ = all_test_targ[:test_set_size]\n"
   ]
  },
  {
   "cell_type": "code",
   "execution_count": 103,
   "id": "ca113dbb-26b3-4ea7-8b1d-7e1b9534c9f1",
   "metadata": {},
   "outputs": [],
   "source": [
    "# Create training and test sets\n",
    "train_set = {'seq_ind': all_train_seq, 'y': all_train_targ}\n",
    "test_set = {'seq_ind': all_test_seq, 'y': all_test_targ}"
   ]
  },
  {
   "cell_type": "code",
   "execution_count": 104,
   "id": "45bea5d9-7397-4f69-a907-ec6da1b64fa0",
   "metadata": {},
   "outputs": [],
   "source": [
    "#back to train and eval at line 197"
   ]
  },
  {
   "cell_type": "code",
   "execution_count": 105,
   "id": "f92d10c7-d5f1-4d4f-bef9-40e6bdb81b00",
   "metadata": {},
   "outputs": [],
   "source": [
    "# take mostly from like 25-35 \n",
    "# will liekly have to change\n",
    "#unneeded\n",
    "# class seq_dataset(tf.keras.datasets):\n",
    "# \tdef __init__(self, dset):\n",
    "# \t\tself.seq_ind = dset['seq_ind']\n",
    "# \t\tself.y = dset['y']\n",
    "# \t\tself.len = self.seq_ind.shape[0]\n",
    "# \tdef __len__(self):\n",
    "# \t\treturn self.len\n",
    "# \tdef __getitem__(self, idx):\n",
    "# \t\tseq_ind = self.seq_ind[idx]\n",
    "# \t\ty = self.y[idx]\n",
    "# \t\treturn seq_ind, y"
   ]
  },
  {
   "cell_type": "code",
   "execution_count": 106,
   "id": "92e00c82-f1fb-4565-a7c5-a39ec28242aa",
   "metadata": {},
   "outputs": [],
   "source": [
    "# also take so I don't lose it\n",
    "#unneeded\n",
    "# train_set = seq_dataset(train_set, args)\n",
    "# train_loader = DataLoader(train_set, batch_size=args.train_batch_size, shuffle=True)\n",
    "# test_set = seq_dataset(test_set, args)\n",
    "# test_loader = DataLoader(test_set, batch_size=args.test_batch_size, shuffle=True)"
   ]
  },
  {
   "cell_type": "code",
   "execution_count": 107,
   "id": "58a1a3c0-9b6f-400f-bb86-6044bb82e146",
   "metadata": {},
   "outputs": [
    {
     "data": {
      "text/plain": [
       "TensorShape([100, 32, 32])"
      ]
     },
     "execution_count": 107,
     "metadata": {},
     "output_type": "execute_result"
    }
   ],
   "source": [
    "#Load images \n",
    "all_imgs = []\n",
    "for i in range(n_shapes):\n",
    "    img_fname='../imgs/' + str(i) + '.png'\n",
    "    img = tf.convert_to_tensor(np.array(Image.open(img_fname)) / 255.)\n",
    "    all_imgs.append(img)\n",
    "all_imgs = tf.stack(all_imgs)\n",
    "all_imgs.shape"
   ]
  },
  {
   "cell_type": "code",
   "execution_count": 108,
   "id": "276bb5c8-ca20-4c34-b5ee-2dd559a53bb5",
   "metadata": {},
   "outputs": [
    {
     "data": {
      "image/png": "[encoded data removed]",
      "text/plain": [
       "<Figure size 432x288 with 1 Axes>"
      ]
     },
     "metadata": {
      "needs_background": "light"
     },
     "output_type": "display_data"
    }
   ],
   "source": [
    "plt.imshow(all_imgs[0])\n",
    "plt.show()"
   ]
  },
  {
   "cell_type": "code",
   "execution_count": 109,
   "id": "7163e327-6b7f-4594-9851-7f43c5e5357a",
   "metadata": {},
   "outputs": [
    {
     "data": {
      "text/plain": [
       "18810"
      ]
     },
     "execution_count": 109,
     "metadata": {},
     "output_type": "execute_result"
    }
   ],
   "source": [
    "#train_set['seq_ind'][0]\n",
    "train_set['seq_ind'].shape + all_imgs.shape[1:]\n",
    "\n",
    "train_set['seq_ind'].shape[0]"
   ]
  },
  {
   "cell_type": "code",
   "execution_count": 110,
   "id": "b592ccd5-7254-42c6-915a-feffab8d64e4",
   "metadata": {},
   "outputs": [],
   "source": [
    "x_train = np.empty(shape=train_set['seq_ind'].shape + all_imgs.shape[1:],\n",
    "                   dtype=float)\n",
    "\n",
    "for i in range(train_set['seq_ind'].shape[0]):\n",
    "    x_train[i][0] = all_imgs[train_set['seq_ind'][i][0]]\n",
    "    x_train[i][1] = all_imgs[train_set['seq_ind'][i][1]]"
   ]
  },
  {
   "cell_type": "code",
   "execution_count": 111,
   "id": "26d449e2-6b01-4c7e-8b3e-ad874d2fd83f",
   "metadata": {},
   "outputs": [
    {
     "data": {
      "text/plain": [
       "(18810, 2, 32, 32)"
      ]
     },
     "execution_count": 111,
     "metadata": {},
     "output_type": "execute_result"
    }
   ],
   "source": [
    "x_train.shape"
   ]
  },
  {
   "cell_type": "code",
   "execution_count": 129,
   "id": "200884cd-132b-430f-8c57-0170f611658d",
   "metadata": {},
   "outputs": [
    {
     "name": "stdout",
     "output_type": "stream",
     "text": [
      "differnt?  False\n"
     ]
    },
    {
     "data": {
      "text/plain": [
       "<Figure size 432x288 with 0 Axes>"
      ]
     },
     "metadata": {},
     "output_type": "display_data"
    },
    {
     "data": {
      "image/png": "[encoded data removed]",
      "text/plain": [
       "<Figure size 432x288 with 2 Axes>"
      ]
     },
     "metadata": {
      "needs_background": "light"
     },
     "output_type": "display_data"
    }
   ],
   "source": [
    "testi = 3\n",
    "plt.figure()\n",
    "\n",
    "#subplot(r,c) provide the no. of rows and columns\n",
    "f, axarr = plt.subplots(1,2) \n",
    "\n",
    "# use the created array to output your multiple images. In this case I have stacked 4 images vertically\n",
    "axarr[0].imshow(x_train[testi][0])\n",
    "axarr[1].imshow(x_train[testi][1])\n",
    "\n",
    "print(\"differnt? \", bool(train_set['y'][testi]))"
   ]
  },
  {
   "cell_type": "code",
   "execution_count": 155,
   "id": "e4ee8f14-d6c9-498c-a047-ff6548b04631",
   "metadata": {},
   "outputs": [
    {
     "name": "stdout",
     "output_type": "stream",
     "text": [
      "differnt?  True\n"
     ]
    },
    {
     "data": {
      "text/plain": [
       "<Figure size 432x288 with 0 Axes>"
      ]
     },
     "metadata": {},
     "output_type": "display_data"
    },
    {
     "data": {
      "image/png": "[encoded data removed]",
      "text/plain": [
       "<Figure size 432x288 with 2 Axes>"
      ]
     },
     "metadata": {
      "needs_background": "light"
     },
     "output_type": "display_data"
    }
   ],
   "source": [
    "testi = 0\n",
    "plt.figure()\n",
    "\n",
    "#subplot(r,c) provide the no. of rows and columns\n",
    "f, axarr = plt.subplots(1,2) \n",
    "\n",
    "# use the created array to output your multiple images. In this case I have stacked 4 images vertically\n",
    "axarr[0].imshow(x_train[testi][0])\n",
    "axarr[1].imshow(x_train[testi][1])\n",
    "\n",
    "print(\"differnt? \", bool(train_set['y'][testi]))"
   ]
  },
  {
   "cell_type": "markdown",
   "id": "105f733a-915d-4d9e-bf81-ce77e66b27de",
   "metadata": {},
   "source": [
    "## Model"
   ]
  },
  {
   "cell_type": "code",
   "execution_count": 198,
   "id": "dfa701c2-5275-45c7-824f-6f0adf6633c8",
   "metadata": {},
   "outputs": [],
   "source": [
    "x = keras.layers.Input(x_train.shape[1:])\n",
    "\n",
    "y = ESBN()(x)\n",
    "\n",
    "y = keras.layers.Flatten()(y)\n",
    "#y = tf.keras.layers.Softmax()(y)\n",
    "y = keras.layers.Dense(1, activation=keras.activations.sigmoid)(y)\n",
    "\n",
    "model = keras.Model(x, y)"
   ]
  },
  {
   "cell_type": "code",
   "execution_count": 189,
   "id": "be5e09b9-f467-4007-89b0-8f19d6ab933b",
   "metadata": {},
   "outputs": [
    {
     "data": {
      "image/png": "[encoded data removed]",
      "text/plain": [
       "<IPython.core.display.Image object>"
      ]
     },
     "execution_count": 189,
     "metadata": {},
     "output_type": "execute_result"
    }
   ],
   "source": [
    "keras.utils.plot_model(model, expand_nested=True, show_shapes=True)"
   ]
  },
  {
   "cell_type": "code",
   "execution_count": 205,
   "id": "5ca34d22-908d-4000-b295-edfc52785551",
   "metadata": {},
   "outputs": [],
   "source": [
    "model.compile(loss=keras.losses.BinaryCrossentropy,\n",
    "              optimizer=keras.optimizers.Adam(learning_rate=lr),\n",
    "              metrics=keras.metrics.BinaryAccuracy())"
   ]
  },
  {
   "cell_type": "code",
   "execution_count": 209,
   "id": "3e3a5126-f03f-4e69-a3f5-f08922530203",
   "metadata": {},
   "outputs": [
    {
     "data": {
      "text/plain": [
       "array([[0.7749645 ],\n",
       "       [0.7933645 ],\n",
       "       [0.7282216 ],\n",
       "       [0.72290325]], dtype=float32)"
      ]
     },
     "execution_count": 209,
     "metadata": {},
     "output_type": "execute_result"
    }
   ],
   "source": [
    "testi = 0\n",
    "prediction = model.predict(x_train[testi:testi+4])\n",
    "prediction\n",
    "# plt.figure()\n",
    "\n",
    "# f, axarr = plt.subplots(1,2) \n",
    "\n",
    "# axarr[0].imshow(prediction[0])\n",
    "# axarr[1].imshow(prediction[1])"
   ]
  },
  {
   "cell_type": "code",
   "execution_count": 212,
   "id": "7103dc07-c59a-4822-99b5-133fcf0d9ae3",
   "metadata": {},
   "outputs": [
    {
     "data": {
      "text/plain": [
       "array([1, 1, 1, 0])"
      ]
     },
     "execution_count": 212,
     "metadata": {},
     "output_type": "execute_result"
    }
   ],
   "source": [
    "train_set['y'][testi:testi+4]"
   ]
  },
  {
   "cell_type": "code",
   "execution_count": 213,
   "id": "10e43300-d3c8-4654-b6b8-64a2e3fda295",
   "metadata": {},
   "outputs": [
    {
     "data": {
      "text/plain": [
       "<tf.Tensor: shape=(), dtype=float32, numpy=0.75>"
      ]
     },
     "execution_count": 213,
     "metadata": {},
     "output_type": "execute_result"
    }
   ],
   "source": [
    "keras.metrics.BinaryAccuracy()(train_set['y'][testi:testi+4],prediction)"
   ]
  },
  {
   "cell_type": "code",
   "execution_count": 214,
   "id": "a7f8cf3d-0cd4-471f-a6d6-560a0d21e66e",
   "metadata": {},
   "outputs": [
    {
     "name": "stdout",
     "output_type": "stream",
     "text": [
      "Epoch 1/50\n"
     ]
    },
    {
     "ename": "TypeError",
     "evalue": "in user code:\n\n    File \"/opt/conda/lib/python3.10/site-packages/keras/engine/training.py\", line 1021, in train_function  *\n        return step_function(self, iterator)\n    File \"/opt/conda/lib/python3.10/site-packages/keras/engine/training.py\", line 1010, in step_function  **\n        outputs = model.distribute_strategy.run(run_step, args=(data,))\n    File \"/opt/conda/lib/python3.10/site-packages/keras/engine/training.py\", line 1000, in run_step  **\n        outputs = model.train_step(data)\n    File \"/opt/conda/lib/python3.10/site-packages/keras/engine/training.py\", line 860, in train_step\n        loss = self.compute_loss(x, y, y_pred, sample_weight)\n    File \"/opt/conda/lib/python3.10/site-packages/keras/engine/training.py\", line 918, in compute_loss\n        return self.compiled_loss(\n    File \"/opt/conda/lib/python3.10/site-packages/keras/engine/compile_utils.py\", line 201, in __call__\n        loss_value = loss_obj(y_t, y_p, sample_weight=sw)\n    File \"/opt/conda/lib/python3.10/site-packages/keras/losses.py\", line 142, in __call__\n        return losses_utils.compute_weighted_loss(\n    File \"/opt/conda/lib/python3.10/site-packages/keras/utils/losses_utils.py\", line 309, in compute_weighted_loss\n        losses = tf.convert_to_tensor(losses)\n\n    TypeError: Failed to convert elements of <keras.losses.BinaryCrossentropy object at 0x7f54bc7a00d0> to Tensor. Consider casting elements to a supported type. See https://www.tensorflow.org/api_docs/python/tf/dtypes for supported TF dtypes.\n",
     "output_type": "error",
     "traceback": [
      "\u001b[0;31m---------------------------------------------------------------------------\u001b[0m",
      "\u001b[0;31mTypeError\u001b[0m                                 Traceback (most recent call last)",
      "Input \u001b[0;32mIn [214]\u001b[0m, in \u001b[0;36m<cell line: 1>\u001b[0;34m()\u001b[0m\n\u001b[0;32m----> 1\u001b[0m history \u001b[38;5;241m=\u001b[39m \u001b[43mmodel\u001b[49m\u001b[38;5;241;43m.\u001b[39;49m\u001b[43mfit\u001b[49m\u001b[43m(\u001b[49m\u001b[43mx_train\u001b[49m\u001b[43m,\u001b[49m\u001b[43m \u001b[49m\u001b[43mtrain_set\u001b[49m\u001b[43m[\u001b[49m\u001b[38;5;124;43m'\u001b[39;49m\u001b[38;5;124;43my\u001b[39;49m\u001b[38;5;124;43m'\u001b[39;49m\u001b[43m]\u001b[49m\u001b[43m,\u001b[49m\n\u001b[1;32m      2\u001b[0m \u001b[43m                    \u001b[49m\u001b[43mbatch_size\u001b[49m\u001b[38;5;241;43m=\u001b[39;49m\u001b[43mtrain_batch_size\u001b[49m\u001b[43m,\u001b[49m\n\u001b[1;32m      3\u001b[0m \u001b[43m                    \u001b[49m\u001b[43mepochs\u001b[49m\u001b[38;5;241;43m=\u001b[39;49m\u001b[43mepochs\u001b[49m\u001b[43m,\u001b[49m\n\u001b[1;32m      4\u001b[0m \u001b[43m                    \u001b[49m\u001b[43mvalidation_split\u001b[49m\u001b[38;5;241;43m=\u001b[39;49m\u001b[38;5;241;43m1\u001b[39;49m\u001b[38;5;241;43m-\u001b[39;49m\u001b[43mtrain_proportion\u001b[49m\u001b[43m,\u001b[49m\n\u001b[1;32m      5\u001b[0m \u001b[43m                    \u001b[49m\u001b[43mverbose\u001b[49m\u001b[38;5;241;43m=\u001b[39;49m\u001b[38;5;241;43m1\u001b[39;49m\u001b[43m)\u001b[49m\n",
      "File \u001b[0;32m/opt/conda/lib/python3.10/site-packages/keras/utils/traceback_utils.py:67\u001b[0m, in \u001b[0;36mfilter_traceback.<locals>.error_handler\u001b[0;34m(*args, **kwargs)\u001b[0m\n\u001b[1;32m     65\u001b[0m \u001b[38;5;28;01mexcept\u001b[39;00m \u001b[38;5;167;01mException\u001b[39;00m \u001b[38;5;28;01mas\u001b[39;00m e:  \u001b[38;5;66;03m# pylint: disable=broad-except\u001b[39;00m\n\u001b[1;32m     66\u001b[0m   filtered_tb \u001b[38;5;241m=\u001b[39m _process_traceback_frames(e\u001b[38;5;241m.\u001b[39m__traceback__)\n\u001b[0;32m---> 67\u001b[0m   \u001b[38;5;28;01mraise\u001b[39;00m e\u001b[38;5;241m.\u001b[39mwith_traceback(filtered_tb) \u001b[38;5;28;01mfrom\u001b[39;00m \u001b[38;5;28mNone\u001b[39m\n\u001b[1;32m     68\u001b[0m \u001b[38;5;28;01mfinally\u001b[39;00m:\n\u001b[1;32m     69\u001b[0m   \u001b[38;5;28;01mdel\u001b[39;00m filtered_tb\n",
      "File \u001b[0;32m/opt/conda/lib/python3.10/site-packages/tensorflow/python/framework/func_graph.py:1147\u001b[0m, in \u001b[0;36mfunc_graph_from_py_func.<locals>.autograph_handler\u001b[0;34m(*args, **kwargs)\u001b[0m\n\u001b[1;32m   1145\u001b[0m \u001b[38;5;28;01mexcept\u001b[39;00m \u001b[38;5;167;01mException\u001b[39;00m \u001b[38;5;28;01mas\u001b[39;00m e:  \u001b[38;5;66;03m# pylint:disable=broad-except\u001b[39;00m\n\u001b[1;32m   1146\u001b[0m   \u001b[38;5;28;01mif\u001b[39;00m \u001b[38;5;28mhasattr\u001b[39m(e, \u001b[38;5;124m\"\u001b[39m\u001b[38;5;124mag_error_metadata\u001b[39m\u001b[38;5;124m\"\u001b[39m):\n\u001b[0;32m-> 1147\u001b[0m     \u001b[38;5;28;01mraise\u001b[39;00m e\u001b[38;5;241m.\u001b[39mag_error_metadata\u001b[38;5;241m.\u001b[39mto_exception(e)\n\u001b[1;32m   1148\u001b[0m   \u001b[38;5;28;01melse\u001b[39;00m:\n\u001b[1;32m   1149\u001b[0m     \u001b[38;5;28;01mraise\u001b[39;00m\n",
      "\u001b[0;31mTypeError\u001b[0m: in user code:\n\n    File \"/opt/conda/lib/python3.10/site-packages/keras/engine/training.py\", line 1021, in train_function  *\n        return step_function(self, iterator)\n    File \"/opt/conda/lib/python3.10/site-packages/keras/engine/training.py\", line 1010, in step_function  **\n        outputs = model.distribute_strategy.run(run_step, args=(data,))\n    File \"/opt/conda/lib/python3.10/site-packages/keras/engine/training.py\", line 1000, in run_step  **\n        outputs = model.train_step(data)\n    File \"/opt/conda/lib/python3.10/site-packages/keras/engine/training.py\", line 860, in train_step\n        loss = self.compute_loss(x, y, y_pred, sample_weight)\n    File \"/opt/conda/lib/python3.10/site-packages/keras/engine/training.py\", line 918, in compute_loss\n        return self.compiled_loss(\n    File \"/opt/conda/lib/python3.10/site-packages/keras/engine/compile_utils.py\", line 201, in __call__\n        loss_value = loss_obj(y_t, y_p, sample_weight=sw)\n    File \"/opt/conda/lib/python3.10/site-packages/keras/losses.py\", line 142, in __call__\n        return losses_utils.compute_weighted_loss(\n    File \"/opt/conda/lib/python3.10/site-packages/keras/utils/losses_utils.py\", line 309, in compute_weighted_loss\n        losses = tf.convert_to_tensor(losses)\n\n    TypeError: Failed to convert elements of <keras.losses.BinaryCrossentropy object at 0x7f54bc7a00d0> to Tensor. Consider casting elements to a supported type. See https://www.tensorflow.org/api_docs/python/tf/dtypes for supported TF dtypes.\n"
     ]
    }
   ],
   "source": [
    "history = model.fit(x_train, train_set['y'],\n",
    "                    batch_size=train_batch_size,\n",
    "                    epochs=epochs,\n",
    "                    validation_split=1-train_proportion,\n",
    "                    verbose=1)"
   ]
  },
  {
   "cell_type": "code",
   "execution_count": null,
   "id": "82257fe6-d89f-43f3-b14a-4c47397a0863",
   "metadata": {},
   "outputs": [],
   "source": []
  }
 ],
 "metadata": {
  "kernelspec": {
   "display_name": "Python 3 (ipykernel)",
   "language": "python",
   "name": "python3"
  },
  "language_info": {
   "codemirror_mode": {
    "name": "ipython",
    "version": 3
   },
   "file_extension": ".py",
   "mimetype": "text/x-python",
   "name": "python",
   "nbconvert_exporter": "python",
   "pygments_lexer": "ipython3",
   "version": "3.10.5"
  }
 },
 "nbformat": 4,
 "nbformat_minor": 5
}
