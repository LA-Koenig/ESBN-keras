{
 "cells": [
  {
   "cell_type": "code",
   "execution_count": 1,
   "id": "f0541b05-e153-4443-b28c-17231ae38bef",
   "metadata": {},
   "outputs": [],
   "source": [
    "import argparse\n",
    "import os\n",
    "import sys\n",
    "import time\n",
    "import numpy as np\n",
    "\n",
    "from PIL import Image\n",
    "\n",
    "import tensorflow as tf\n",
    "import tensorflow.keras as keras\n",
    "import matplotlib.pyplot as plt\n",
    "import urllib\n",
    "import time"
   ]
  },
  {
   "cell_type": "code",
   "execution_count": 2,
   "id": "2b6bf76d-4797-4eee-a7a7-e7729bb697c9",
   "metadata": {},
   "outputs": [],
   "source": [
    "import torch\n",
    "from functools import partial\n",
    "from torch import nn, einsum\n",
    "from einops import repeat, rearrange"
   ]
  },
  {
   "cell_type": "code",
   "execution_count": 3,
   "id": "7f47bfa2-8858-4fb9-bcfc-eddb7970abcc",
   "metadata": {},
   "outputs": [],
   "source": [
    "def exists(val):\n",
    "    return val is not Nonev"
   ]
  },
  {
   "cell_type": "code",
   "execution_count": 4,
   "id": "3bbcd8db-4a99-413f-ac58-ded542318ad9",
   "metadata": {},
   "outputs": [],
   "source": [
    "def map_fn(fn, *args, **kwargs):\n",
    "    def inner(*arr):\n",
    "        return map(lambda t: fn(t, *args, **kwargs), arr)\n",
    "    return inner"
   ]
  },
  {
   "cell_type": "code",
   "execution_count": 5,
   "id": "8a801550-7206-41e0-8e7c-f99d9534f9cc",
   "metadata": {},
   "outputs": [],
   "source": [
    "def safe_cat_tf(t, el, dim =0):\n",
    "    if not exists(t):\n",
    "        return el\n",
    "    return tf.concat((t, el), axis = dim)"
   ]
  },
  {
   "cell_type": "code",
   "execution_count": 6,
   "id": "ee7051bd-be3c-4b8a-8280-978f85a4d875",
   "metadata": {},
   "outputs": [],
   "source": [
    "def safe_cat_pt(t, el, dim = 0):\n",
    "    if not exists(t):\n",
    "        return el\n",
    "    return torch.cat((t, el), dim = dim) #concat"
   ]
  },
  {
   "cell_type": "markdown",
   "id": "5f933f94-04f6-41ba-9c12-1f613ebc0346",
   "metadata": {},
   "source": [
    "# tests"
   ]
  },
  {
   "cell_type": "code",
   "execution_count": 7,
   "id": "599dbb7e-4216-4f63-afb3-7280166d27ce",
   "metadata": {},
   "outputs": [],
   "source": [
    "value_dim = 64\n",
    "key_dim = 64\n",
    "hidden_dim = 512\n",
    "output_dim = 4\n",
    "encoder = None"
   ]
  },
  {
   "cell_type": "code",
   "execution_count": 8,
   "id": "0aa1e9f8-0660-4cc2-96fb-fde4dc1a41cb",
   "metadata": {},
   "outputs": [
    {
     "name": "stderr",
     "output_type": "stream",
     "text": [
      "2022-12-01 01:59:34.148174: W tensorflow/stream_executor/platform/default/dso_loader.cc:64] Could not load dynamic library 'libcuda.so.1'; dlerror: libcuda.so.1: cannot open shared object file: No such file or directory\n",
      "2022-12-01 01:59:34.148217: W tensorflow/stream_executor/cuda/cuda_driver.cc:269] failed call to cuInit: UNKNOWN ERROR (303)\n",
      "2022-12-01 01:59:34.148291: I tensorflow/stream_executor/cuda/cuda_diagnostics.cc:156] kernel driver does not appear to be running on this host (jupyter-la-2dkoenig): /proc/driver/nvidia/version does not exist\n",
      "2022-12-01 01:59:34.148681: I tensorflow/core/platform/cpu_feature_guard.cc:151] This TensorFlow binary is optimized with oneAPI Deep Neural Network Library (oneDNN) to use the following CPU instructions in performance-critical operations:  SSE4.1 SSE4.2 AVX FMA\n",
      "To enable them in other operations, rebuild TensorFlow with the appropriate compiler flags.\n"
     ]
    },
    {
     "data": {
      "text/plain": [
       "<tf.Tensor: shape=(10, 2), dtype=float32, numpy=\n",
       "array([[1., 1.],\n",
       "       [1., 1.],\n",
       "       [1., 1.],\n",
       "       [1., 1.],\n",
       "       [1., 1.],\n",
       "       [1., 1.],\n",
       "       [1., 1.],\n",
       "       [1., 1.],\n",
       "       [1., 1.],\n",
       "       [1., 1.]], dtype=float32)>"
      ]
     },
     "execution_count": 8,
     "metadata": {},
     "output_type": "execute_result"
    }
   ],
   "source": [
    "testA1 = tf.ones((10,2))\n",
    "testA2 = tf.constant(2.0, shape=(10, 2))\n",
    "testA1"
   ]
  },
  {
   "cell_type": "code",
   "execution_count": 9,
   "id": "fb7e7a3b-27f2-4e8c-ab7a-32448e1cd272",
   "metadata": {},
   "outputs": [
    {
     "data": {
      "text/plain": [
       "<tf.Tensor: shape=(10, 4), dtype=float32, numpy=\n",
       "array([[1., 1., 2., 2.],\n",
       "       [1., 1., 2., 2.],\n",
       "       [1., 1., 2., 2.],\n",
       "       [1., 1., 2., 2.],\n",
       "       [1., 1., 2., 2.],\n",
       "       [1., 1., 2., 2.],\n",
       "       [1., 1., 2., 2.],\n",
       "       [1., 1., 2., 2.],\n",
       "       [1., 1., 2., 2.],\n",
       "       [1., 1., 2., 2.]], dtype=float32)>"
      ]
     },
     "execution_count": 9,
     "metadata": {},
     "output_type": "execute_result"
    }
   ],
   "source": [
    "tfC = tf.keras.layers.concatenate([testA1,testA2], axis=-1)\n",
    "tfC"
   ]
  },
  {
   "cell_type": "code",
   "execution_count": 10,
   "id": "b747a706-6042-4350-b9aa-2a719c301047",
   "metadata": {},
   "outputs": [
    {
     "data": {
      "text/plain": [
       "<tf.Tensor: shape=(10, 4), dtype=float32, numpy=\n",
       "array([[2., 2., 4., 4.],\n",
       "       [2., 2., 4., 4.],\n",
       "       [2., 2., 4., 4.],\n",
       "       [2., 2., 4., 4.],\n",
       "       [2., 2., 4., 4.],\n",
       "       [2., 2., 4., 4.],\n",
       "       [2., 2., 4., 4.],\n",
       "       [2., 2., 4., 4.],\n",
       "       [2., 2., 4., 4.],\n",
       "       [2., 2., 4., 4.]], dtype=float32)>"
      ]
     },
     "execution_count": 10,
     "metadata": {},
     "output_type": "execute_result"
    }
   ],
   "source": [
    "tfWk = 2\n",
    "tfWk * tfC"
   ]
  },
  {
   "cell_type": "code",
   "execution_count": 11,
   "id": "798d9f6c-d22a-4e95-aa45-4d1d73ceb9e3",
   "metadata": {},
   "outputs": [
    {
     "data": {
      "text/plain": [
       "<tf.Tensor: shape=(10,), dtype=float32, numpy=array([12., 12., 12., 12., 12., 12., 12., 12., 12., 12.], dtype=float32)>"
      ]
     },
     "execution_count": 11,
     "metadata": {},
     "output_type": "execute_result"
    }
   ],
   "source": [
    "tf.math.reduce_sum(tfWk * tfC, axis = 1)"
   ]
  },
  {
   "cell_type": "code",
   "execution_count": 12,
   "id": "6bc2e9f4-bf57-479d-ac3c-5da1a735197d",
   "metadata": {},
   "outputs": [
    {
     "data": {
      "text/plain": [
       "<tf.Tensor: shape=(10, 4), dtype=float32, numpy=\n",
       "array([[1.5, 1.5, 3. , 3. ],\n",
       "       [1.5, 1.5, 3. , 3. ],\n",
       "       [1.5, 1.5, 3. , 3. ],\n",
       "       [1.5, 1.5, 3. , 3. ],\n",
       "       [1.5, 1.5, 3. , 3. ],\n",
       "       [1.5, 1.5, 3. , 3. ],\n",
       "       [1.5, 1.5, 3. , 3. ],\n",
       "       [1.5, 1.5, 3. , 3. ],\n",
       "       [1.5, 1.5, 3. , 3. ],\n",
       "       [1.5, 1.5, 3. , 3. ]], dtype=float32)>"
      ]
     },
     "execution_count": 12,
     "metadata": {},
     "output_type": "execute_result"
    }
   ],
   "source": [
    "c = tf.constant(1.5, shape=(10, 1))\n",
    "c * tfC"
   ]
  },
  {
   "cell_type": "code",
   "execution_count": 13,
   "id": "22ceebb4-fcb1-4c59-bca3-20890954cb1d",
   "metadata": {},
   "outputs": [
    {
     "data": {
      "text/plain": [
       "tensor([[1., 1.],\n",
       "        [1., 1.],\n",
       "        [1., 1.],\n",
       "        [1., 1.],\n",
       "        [1., 1.],\n",
       "        [1., 1.],\n",
       "        [1., 1.],\n",
       "        [1., 1.],\n",
       "        [1., 1.],\n",
       "        [1., 1.]])"
      ]
     },
     "execution_count": 13,
     "metadata": {},
     "output_type": "execute_result"
    }
   ],
   "source": [
    "torchA1 = torch.ones((10,2))\n",
    "torchA2 = torch.full((10,2),2.0)\n",
    "torchA1"
   ]
  },
  {
   "cell_type": "code",
   "execution_count": 14,
   "id": "0dc2d708-2961-4be8-92ba-45be8e335d74",
   "metadata": {},
   "outputs": [
    {
     "data": {
      "text/plain": [
       "tensor([[1., 1., 2., 2.],\n",
       "        [1., 1., 2., 2.],\n",
       "        [1., 1., 2., 2.],\n",
       "        [1., 1., 2., 2.],\n",
       "        [1., 1., 2., 2.],\n",
       "        [1., 1., 2., 2.],\n",
       "        [1., 1., 2., 2.],\n",
       "        [1., 1., 2., 2.],\n",
       "        [1., 1., 2., 2.],\n",
       "        [1., 1., 2., 2.]])"
      ]
     },
     "execution_count": 14,
     "metadata": {},
     "output_type": "execute_result"
    }
   ],
   "source": [
    "torchC = torch.cat((torchA1,torchA2), dim=-1)\n",
    "torchC"
   ]
  },
  {
   "cell_type": "code",
   "execution_count": 15,
   "id": "2af089c1-fdd6-4c2b-b88d-023fe337069e",
   "metadata": {},
   "outputs": [
    {
     "data": {
      "text/plain": [
       "tensor([[2., 2., 4., 4.],\n",
       "        [2., 2., 4., 4.],\n",
       "        [2., 2., 4., 4.],\n",
       "        [2., 2., 4., 4.],\n",
       "        [2., 2., 4., 4.],\n",
       "        [2., 2., 4., 4.],\n",
       "        [2., 2., 4., 4.],\n",
       "        [2., 2., 4., 4.],\n",
       "        [2., 2., 4., 4.],\n",
       "        [2., 2., 4., 4.]])"
      ]
     },
     "execution_count": 15,
     "metadata": {},
     "output_type": "execute_result"
    }
   ],
   "source": [
    "torchWk = 2\n",
    "torchWk * torchC"
   ]
  },
  {
   "cell_type": "code",
   "execution_count": 16,
   "id": "9811aab1-874c-4dc3-91e2-6a8b188dfc20",
   "metadata": {},
   "outputs": [
    {
     "data": {
      "text/plain": [
       "tensor([12., 12., 12., 12., 12., 12., 12., 12., 12., 12.])"
      ]
     },
     "execution_count": 16,
     "metadata": {},
     "output_type": "execute_result"
    }
   ],
   "source": [
    "(torchWk * torchC).sum(dim = 1)"
   ]
  },
  {
   "cell_type": "code",
   "execution_count": 17,
   "id": "4be6a5f3-b893-473d-9ac0-8b303122ad17",
   "metadata": {},
   "outputs": [
    {
     "data": {
      "text/plain": [
       "tensor([[1.5000, 1.5000, 3.0000, 3.0000],\n",
       "        [1.5000, 1.5000, 3.0000, 3.0000],\n",
       "        [1.5000, 1.5000, 3.0000, 3.0000],\n",
       "        [1.5000, 1.5000, 3.0000, 3.0000],\n",
       "        [1.5000, 1.5000, 3.0000, 3.0000],\n",
       "        [1.5000, 1.5000, 3.0000, 3.0000],\n",
       "        [1.5000, 1.5000, 3.0000, 3.0000],\n",
       "        [1.5000, 1.5000, 3.0000, 3.0000],\n",
       "        [1.5000, 1.5000, 3.0000, 3.0000],\n",
       "        [1.5000, 1.5000, 3.0000, 3.0000]])"
      ]
     },
     "execution_count": 17,
     "metadata": {},
     "output_type": "execute_result"
    }
   ],
   "source": [
    "twkt = torch.full((10,1),1.5)\n",
    "twkt * torchC"
   ]
  },
  {
   "cell_type": "code",
   "execution_count": 18,
   "id": "ee28c8f1-581c-4eb2-b747-14d73434d8cb",
   "metadata": {},
   "outputs": [
    {
     "data": {
      "text/plain": [
       "[tensor([[0.],\n",
       "         [0.],\n",
       "         [0.],\n",
       "         [0.],\n",
       "         [0.],\n",
       "         [0.],\n",
       "         [0.],\n",
       "         [0.],\n",
       "         [0.],\n",
       "         [0.]], dtype=torch.float64),\n",
       " tensor([[1.],\n",
       "         [1.],\n",
       "         [1.],\n",
       "         [1.],\n",
       "         [1.],\n",
       "         [1.],\n",
       "         [1.],\n",
       "         [1.],\n",
       "         [1.],\n",
       "         [1.]], dtype=torch.float64),\n",
       " tensor([[2.],\n",
       "         [2.],\n",
       "         [2.],\n",
       "         [2.],\n",
       "         [2.],\n",
       "         [2.],\n",
       "         [2.],\n",
       "         [2.],\n",
       "         [2.],\n",
       "         [2.]], dtype=torch.float64),\n",
       " tensor([[3.],\n",
       "         [3.],\n",
       "         [3.],\n",
       "         [3.],\n",
       "         [3.],\n",
       "         [3.],\n",
       "         [3.],\n",
       "         [3.],\n",
       "         [3.],\n",
       "         [3.]], dtype=torch.float64)]"
      ]
     },
     "execution_count": 18,
     "metadata": {},
     "output_type": "execute_result"
    }
   ],
   "source": [
    "tlist = []\n",
    "\n",
    "for i in range(0, 4):\n",
    "    tlist.append(torch.full((10,1),i, dtype=float))\n",
    "tlist"
   ]
  },
  {
   "cell_type": "code",
   "execution_count": 19,
   "id": "72d11f09-97c7-4fd8-875d-f8c5caa608bb",
   "metadata": {},
   "outputs": [
    {
     "data": {
      "text/plain": [
       "tensor([[[0.],\n",
       "         [0.],\n",
       "         [0.],\n",
       "         [0.],\n",
       "         [0.],\n",
       "         [0.],\n",
       "         [0.],\n",
       "         [0.],\n",
       "         [0.],\n",
       "         [0.]],\n",
       "\n",
       "        [[1.],\n",
       "         [1.],\n",
       "         [1.],\n",
       "         [1.],\n",
       "         [1.],\n",
       "         [1.],\n",
       "         [1.],\n",
       "         [1.],\n",
       "         [1.],\n",
       "         [1.]],\n",
       "\n",
       "        [[2.],\n",
       "         [2.],\n",
       "         [2.],\n",
       "         [2.],\n",
       "         [2.],\n",
       "         [2.],\n",
       "         [2.],\n",
       "         [2.],\n",
       "         [2.],\n",
       "         [2.]],\n",
       "\n",
       "        [[3.],\n",
       "         [3.],\n",
       "         [3.],\n",
       "         [3.],\n",
       "         [3.],\n",
       "         [3.],\n",
       "         [3.],\n",
       "         [3.],\n",
       "         [3.],\n",
       "         [3.]]], dtype=torch.float64)"
      ]
     },
     "execution_count": 19,
     "metadata": {},
     "output_type": "execute_result"
    }
   ],
   "source": [
    "torch.stack(tlist)"
   ]
  },
  {
   "cell_type": "code",
   "execution_count": 20,
   "id": "e9d49a52-4c1e-4aed-a3ae-f6a53473ec51",
   "metadata": {},
   "outputs": [
    {
     "data": {
      "text/plain": [
       "[<tf.Tensor: shape=(10, 1), dtype=float32, numpy=\n",
       " array([[0.],\n",
       "        [0.],\n",
       "        [0.],\n",
       "        [0.],\n",
       "        [0.],\n",
       "        [0.],\n",
       "        [0.],\n",
       "        [0.],\n",
       "        [0.],\n",
       "        [0.]], dtype=float32)>,\n",
       " <tf.Tensor: shape=(10, 1), dtype=float32, numpy=\n",
       " array([[1.],\n",
       "        [1.],\n",
       "        [1.],\n",
       "        [1.],\n",
       "        [1.],\n",
       "        [1.],\n",
       "        [1.],\n",
       "        [1.],\n",
       "        [1.],\n",
       "        [1.]], dtype=float32)>,\n",
       " <tf.Tensor: shape=(10, 1), dtype=float32, numpy=\n",
       " array([[2.],\n",
       "        [2.],\n",
       "        [2.],\n",
       "        [2.],\n",
       "        [2.],\n",
       "        [2.],\n",
       "        [2.],\n",
       "        [2.],\n",
       "        [2.],\n",
       "        [2.]], dtype=float32)>,\n",
       " <tf.Tensor: shape=(10, 1), dtype=float32, numpy=\n",
       " array([[3.],\n",
       "        [3.],\n",
       "        [3.],\n",
       "        [3.],\n",
       "        [3.],\n",
       "        [3.],\n",
       "        [3.],\n",
       "        [3.],\n",
       "        [3.],\n",
       "        [3.]], dtype=float32)>,\n",
       " <tf.Tensor: shape=(10, 1), dtype=float32, numpy=\n",
       " array([[4.],\n",
       "        [4.],\n",
       "        [4.],\n",
       "        [4.],\n",
       "        [4.],\n",
       "        [4.],\n",
       "        [4.],\n",
       "        [4.],\n",
       "        [4.],\n",
       "        [4.]], dtype=float32)>]"
      ]
     },
     "execution_count": 20,
     "metadata": {},
     "output_type": "execute_result"
    }
   ],
   "source": [
    "tflist = []\n",
    "\n",
    "for i in range(0,5):\n",
    "    tflist.append(tf.constant(i, shape=(10, 1), dtype=float))\n",
    "    \n",
    "tflist"
   ]
  },
  {
   "cell_type": "code",
   "execution_count": 21,
   "id": "6ef95f4a-3c6f-488e-8029-2530795d7603",
   "metadata": {},
   "outputs": [
    {
     "data": {
      "text/plain": [
       "<tf.Tensor: shape=(5, 10, 1), dtype=float32, numpy=\n",
       "array([[[0.],\n",
       "        [0.],\n",
       "        [0.],\n",
       "        [0.],\n",
       "        [0.],\n",
       "        [0.],\n",
       "        [0.],\n",
       "        [0.],\n",
       "        [0.],\n",
       "        [0.]],\n",
       "\n",
       "       [[1.],\n",
       "        [1.],\n",
       "        [1.],\n",
       "        [1.],\n",
       "        [1.],\n",
       "        [1.],\n",
       "        [1.],\n",
       "        [1.],\n",
       "        [1.],\n",
       "        [1.]],\n",
       "\n",
       "       [[2.],\n",
       "        [2.],\n",
       "        [2.],\n",
       "        [2.],\n",
       "        [2.],\n",
       "        [2.],\n",
       "        [2.],\n",
       "        [2.],\n",
       "        [2.],\n",
       "        [2.]],\n",
       "\n",
       "       [[3.],\n",
       "        [3.],\n",
       "        [3.],\n",
       "        [3.],\n",
       "        [3.],\n",
       "        [3.],\n",
       "        [3.],\n",
       "        [3.],\n",
       "        [3.],\n",
       "        [3.]],\n",
       "\n",
       "       [[4.],\n",
       "        [4.],\n",
       "        [4.],\n",
       "        [4.],\n",
       "        [4.],\n",
       "        [4.],\n",
       "        [4.],\n",
       "        [4.],\n",
       "        [4.],\n",
       "        [4.]]], dtype=float32)>"
      ]
     },
     "execution_count": 21,
     "metadata": {},
     "output_type": "execute_result"
    }
   ],
   "source": [
    "tf.stack(tflist)"
   ]
  },
  {
   "cell_type": "markdown",
   "id": "82f4de49-f63f-4833-86fd-7cfbdce60689",
   "metadata": {},
   "source": [
    "# img test"
   ]
  },
  {
   "cell_type": "code",
   "execution_count": 22,
   "id": "71bfd611-07fa-4adc-8e50-b318bf482a50",
   "metadata": {},
   "outputs": [
    {
     "data": {
      "text/plain": [
       "torch.Size([3, 32, 32])"
      ]
     },
     "execution_count": 22,
     "metadata": {},
     "output_type": "execute_result"
    }
   ],
   "source": [
    "allI = []\n",
    "for i in range(3):\n",
    "    img_fname = '../imgs/' + str(i) + '.png'\n",
    "    img = torch.Tensor(np.array(Image.open(img_fname))) / 255.\n",
    "    allI.append(img)\n",
    "allI = torch.stack(allI, 0)\n",
    "allI.shape"
   ]
  },
  {
   "cell_type": "code",
   "execution_count": 23,
   "id": "5cc95503-7327-4c04-b9dc-a1d9f56b2ff9",
   "metadata": {},
   "outputs": [
    {
     "data": {
      "text/plain": [
       "TensorShape([32, 32])"
      ]
     },
     "execution_count": 23,
     "metadata": {},
     "output_type": "execute_result"
    }
   ],
   "source": [
    "tfimg = tf.convert_to_tensor(np.array(Image.open(img_fname)) / 255.)\n",
    "tfimg.shape"
   ]
  },
  {
   "cell_type": "markdown",
   "id": "ddd1c68a-cc05-4eb7-a9ca-9fe8a66229c2",
   "metadata": {},
   "source": [
    "# Einsum test"
   ]
  },
  {
   "cell_type": "code",
   "execution_count": 26,
   "id": "c6912786-128b-4169-86b2-e962265aecd3",
   "metadata": {},
   "outputs": [
    {
     "ename": "NameError",
     "evalue": "name 'tf_test1' is not defined",
     "output_type": "error",
     "traceback": [
      "\u001b[0;31m---------------------------------------------------------------------------\u001b[0m",
      "\u001b[0;31mNameError\u001b[0m                                 Traceback (most recent call last)",
      "Input \u001b[0;32mIn [26]\u001b[0m, in \u001b[0;36m<cell line: 3>\u001b[0;34m()\u001b[0m\n\u001b[1;32m      1\u001b[0m tf_test_1 \u001b[38;5;241m=\u001b[39m np\u001b[38;5;241m.\u001b[39mrandom\u001b[38;5;241m.\u001b[39muniform(size\u001b[38;5;241m=\u001b[39m(\u001b[38;5;241m1\u001b[39m,\u001b[38;5;241m32\u001b[39m,\u001b[38;5;241m32\u001b[39m))\n\u001b[1;32m      2\u001b[0m tf_test_2 \u001b[38;5;241m=\u001b[39m np\u001b[38;5;241m.\u001b[39mrandom\u001b[38;5;241m.\u001b[39muniform(size\u001b[38;5;241m=\u001b[39m(\u001b[38;5;241m1\u001b[39m,\u001b[38;5;241m32\u001b[39m))\n\u001b[0;32m----> 3\u001b[0m \u001b[43mtf_test1\u001b[49m\u001b[38;5;241m.\u001b[39mshape\n",
      "\u001b[0;31mNameError\u001b[0m: name 'tf_test1' is not defined"
     ]
    }
   ],
   "source": [
    "tf_test_1 = np.random.uniform(size=(1,32,32))\n",
    "tf_test_2 = np.random.uniform(size=(1,32))\n",
    "tf_test1.shape"
   ]
  },
  {
   "cell_type": "code",
   "execution_count": 27,
   "id": "a17ad5ca-1388-405b-9c7e-a70f90856dc9",
   "metadata": {},
   "outputs": [
    {
     "data": {
      "text/plain": [
       "<tf.Tensor: shape=(1, 32), dtype=float64, numpy=\n",
       "array([[10.02943939,  8.14799901,  8.72288361,  7.65564583,  7.98988   ,\n",
       "         9.76207988,  9.56242772,  9.50701888,  9.40607796, 10.31015884,\n",
       "         9.07277309,  9.94455877, 10.25403429,  9.11970804, 11.34382705,\n",
       "        11.40559457,  9.91675205,  9.19788983, 10.86410939, 11.12031193,\n",
       "         9.96533638,  9.06565231,  9.13012947,  8.45070044,  8.24349484,\n",
       "        11.01577088, 10.5269025 ,  6.99731903, 10.20250775,  9.6150974 ,\n",
       "        10.43246785,  7.99250554]])>"
      ]
     },
     "execution_count": 27,
     "metadata": {},
     "output_type": "execute_result"
    }
   ],
   "source": [
    "sim = tf.einsum('b n d, b d -> b n',tf_test_1, tf_test_2)\n",
    "sim                                      "
   ]
  },
  {
   "cell_type": "code",
   "execution_count": 28,
   "id": "9646e796-34ad-412f-a173-ee9a0a92957b",
   "metadata": {},
   "outputs": [
    {
     "data": {
      "text/plain": [
       "tensor([[10.0294,  8.1480,  8.7229,  7.6556,  7.9899,  9.7621,  9.5624,  9.5070,\n",
       "          9.4061, 10.3102,  9.0728,  9.9446, 10.2540,  9.1197, 11.3438, 11.4056,\n",
       "          9.9168,  9.1979, 10.8641, 11.1203,  9.9653,  9.0657,  9.1301,  8.4507,\n",
       "          8.2435, 11.0158, 10.5269,  6.9973, 10.2025,  9.6151, 10.4325,  7.9925]],\n",
       "       dtype=torch.float64)"
      ]
     },
     "execution_count": 28,
     "metadata": {},
     "output_type": "execute_result"
    }
   ],
   "source": [
    "torch.einsum('b n d, b d -> b n',\n",
    "             torch.from_numpy(tf_test_1), \n",
    "             torch.from_numpy(tf_test_2))"
   ]
  },
  {
   "cell_type": "markdown",
   "id": "d441bb6c-c49b-448e-a78b-21bd521caf47",
   "metadata": {},
   "source": [
    "# TF Array TEst"
   ]
  },
  {
   "cell_type": "code",
   "execution_count": 36,
   "id": "bcf419fe-5638-45f5-b975-069db578e43c",
   "metadata": {},
   "outputs": [],
   "source": [
    "out = tf.TensorArray(dtype=tf.float32,\n",
    "                             size=2,\n",
    "                             dynamic_size=True)"
   ]
  },
  {
   "cell_type": "code",
   "execution_count": 37,
   "id": "e823b3a5-92ba-46f3-a50d-c5ffe847863f",
   "metadata": {},
   "outputs": [
    {
     "data": {
      "text/plain": [
       "<tf.Tensor: shape=(), dtype=int32, numpy=2>"
      ]
     },
     "execution_count": 37,
     "metadata": {},
     "output_type": "execute_result"
    }
   ],
   "source": [
    "out.size()"
   ]
  },
  {
   "cell_type": "code",
   "execution_count": 38,
   "id": "aaaa5968-57a1-4b24-9190-12fe9bfcff84",
   "metadata": {},
   "outputs": [
    {
     "data": {
      "text/plain": [
       "<tensorflow.python.ops.tensor_array_ops.TensorArray at 0x7f03f0512140>"
      ]
     },
     "execution_count": 38,
     "metadata": {},
     "output_type": "execute_result"
    }
   ],
   "source": [
    "out.write(0, (1,1))"
   ]
  },
  {
   "cell_type": "code",
   "execution_count": 39,
   "id": "69bbed73-0696-49aa-9408-2ce2cf7cecd3",
   "metadata": {},
   "outputs": [
    {
     "data": {
      "text/plain": [
       "<tensorflow.python.ops.tensor_array_ops.TensorArray at 0x7f03f048bdf0>"
      ]
     },
     "execution_count": 39,
     "metadata": {},
     "output_type": "execute_result"
    }
   ],
   "source": [
    "out.write(1,(2,2))"
   ]
  },
  {
   "cell_type": "code",
   "execution_count": 40,
   "id": "34b0200c-bc19-4211-a57e-faa0027caf79",
   "metadata": {},
   "outputs": [
    {
     "data": {
      "text/plain": [
       "<tf.Tensor: shape=(), dtype=int32, numpy=2>"
      ]
     },
     "execution_count": 40,
     "metadata": {},
     "output_type": "execute_result"
    }
   ],
   "source": [
    "out.size()"
   ]
  },
  {
   "cell_type": "code",
   "execution_count": 32,
   "id": "8f33eb2f-8b80-410f-a719-3f78b0e53eb6",
   "metadata": {},
   "outputs": [
    {
     "data": {
      "text/plain": [
       "<tf.Tensor: shape=(2, 2), dtype=float32, numpy=\n",
       "array([[1., 1.],\n",
       "       [2., 2.]], dtype=float32)>"
      ]
     },
     "execution_count": 32,
     "metadata": {},
     "output_type": "execute_result"
    }
   ],
   "source": [
    "#out.stack()"
   ]
  },
  {
   "cell_type": "code",
   "execution_count": null,
   "id": "bf90d764-f775-47a6-b161-201566a2951e",
   "metadata": {},
   "outputs": [],
   "source": []
  }
 ],
 "metadata": {
  "kernelspec": {
   "display_name": "Python 3 (ipykernel)",
   "language": "python",
   "name": "python3"
  },
  "language_info": {
   "codemirror_mode": {
    "name": "ipython",
    "version": 3
   },
   "file_extension": ".py",
   "mimetype": "text/x-python",
   "name": "python",
   "nbconvert_exporter": "python",
   "pygments_lexer": "ipython3",
   "version": "3.10.5"
  }
 },
 "nbformat": 4,
 "nbformat_minor": 5
}
