{
 "cells": [
  {
   "cell_type": "code",
   "execution_count": 501,
   "id": "4636998e-861c-4f42-9bfe-d937613a6bf8",
   "metadata": {},
   "outputs": [],
   "source": [
    "import argparse\n",
    "import os\n",
    "import sys\n",
    "import time\n",
    "import numpy as np\n",
    "from PIL import Image\n",
    "\n",
    "import tensorflow as tf\n",
    "import tensorflow.keras as keras\n",
    "import matplotlib.pyplot as plt\n",
    "import urllib\n",
    "import time\n",
    "\n",
    "from einops import repeat, rearrange\n",
    "\n",
    "import math"
   ]
  },
  {
   "cell_type": "markdown",
   "id": "33eb4c4c-a3c6-492e-bfdd-72e63d6db718",
   "metadata": {},
   "source": [
    "This is a transformer model using the same difference test and the same encoder"
   ]
  },
  {
   "cell_type": "markdown",
   "id": "e70066a3-cb25-4719-8859-656b3956b9ce",
   "metadata": {
    "jp-MarkdownHeadingCollapsed": true,
    "tags": []
   },
   "source": [
    "# Same-Difference"
   ]
  },
  {
   "cell_type": "code",
   "execution_count": 5,
   "id": "455fac36-4651-4157-85c4-f59b22e0c1f8",
   "metadata": {},
   "outputs": [],
   "source": [
    "#This is all part of the args mess in their code\n",
    "#initially setting this to be theri defaults\n",
    "\n",
    "#Model Settings\n",
    "model_name = 'ESBN'\n",
    "norm_type = 'contextnorm'\n",
    "encoder = 'conv'\n",
    "#Task settings\n",
    "task = 'same_diff'\n",
    "train_gen_mathod = 'full_space'\n",
    "n_shapes = 100 #total num of shapes available for training/testing\n",
    "m_holdout = 0 #number of objects (out of n) withheld during training\n",
    "#Training Settings\n",
    "train_batch_size = 32\n",
    "train_set_size = 10000\n",
    "train_proportion = 0.95\n",
    "lr = 5e-4\n",
    "epochs = 50\n",
    "log_interval = 10\n",
    "#Test settings\n",
    "test_batch_size = 100\n",
    "test_set_size = 10000\n",
    "#Device Settings\n",
    "no_cuda = False #Actions??? 'store_true'\n",
    "device = 0 \n",
    "#run number\n",
    "run = 1"
   ]
  },
  {
   "cell_type": "code",
   "execution_count": 6,
   "id": "77089001-151a-4d8e-9fc0-4d3c0346c97f",
   "metadata": {},
   "outputs": [
    {
     "data": {
      "text/plain": [
       "(100,)"
      ]
     },
     "execution_count": 6,
     "metadata": {},
     "output_type": "execute_result"
    }
   ],
   "source": [
    "all_shapes = np.arange(n_shapes)\n",
    "np.random.shuffle(all_shapes)\n",
    "all_shapes.shape"
   ]
  },
  {
   "cell_type": "code",
   "execution_count": 7,
   "id": "c044b016-27b4-4551-b9cf-2a4151330cdd",
   "metadata": {},
   "outputs": [
    {
     "data": {
      "text/plain": [
       "(100,)"
      ]
     },
     "execution_count": 7,
     "metadata": {},
     "output_type": "execute_result"
    }
   ],
   "source": [
    "if(m_holdout > 0):\n",
    "    train_shapes = all_shapes[m_holdout:]\n",
    "    test_shapes = all_shapes[:m_holdout]\n",
    "else:\n",
    "    train_shapes = all_shapes\n",
    "    test_shapes = all_shapes\n",
    "    \n",
    "train_shapes.shape"
   ]
  },
  {
   "cell_type": "code",
   "execution_count": 8,
   "id": "1a337030-5dca-41bf-a589-1a39d774eed7",
   "metadata": {},
   "outputs": [],
   "source": [
    "#now we're in their function\n",
    "import sys\n",
    "import random\n",
    "import numpy as np\n",
    "\n",
    "# Prevent python from saving out .pyc files\n",
    "sys.dont_write_bytecode = True\n",
    "\n",
    "y_dim = 2\n",
    "seq_len = 2"
   ]
  },
  {
   "cell_type": "code",
   "execution_count": 9,
   "id": "942ff480-5d9f-4fde-9f26-8626a91d1a34",
   "metadata": {},
   "outputs": [
    {
     "data": {
      "text/plain": [
       "18810"
      ]
     },
     "execution_count": 9,
     "metadata": {},
     "output_type": "execute_result"
    }
   ],
   "source": [
    "# If m = 0, training and test sets are drawn from same set of shapes\n",
    "if(m_holdout == 0):\n",
    "    # Total number of possible trials\n",
    "    shapes_avail = n_shapes\n",
    "    total_trials = (shapes_avail * (shapes_avail - 1)) * 2\n",
    "    \n",
    "    # Proportion of training set size vs test set size\n",
    "    test_proportion = 1 - train_proportion\n",
    "    \n",
    "    # Create training/test set sizes\n",
    "    train_set_size = np.round(train_proportion * total_trials).astype(np.int32)\n",
    "    test_set_size = np.round(test_proportion * total_trials).astype(np.int32)\n",
    "    \n",
    "else: \n",
    "    # Ensure that there are enough potential trials for desired training set size \n",
    "    # (or change train set size)\n",
    "    shapes_avail = n_shapes - m_holdout\n",
    "    total_trials = (shapes_avail * (shapes_avail - 1)) * 2\n",
    "    \n",
    "    if(train_set_size > total_trials):\n",
    "        train_set_size = total_trials\n",
    "    \n",
    "    # Ensure that there are enough potential trials for desired test set size \n",
    "    # (or change test set size)\n",
    "    shapes_avail = n_shapes - (n_shapes - m_holdout)\n",
    "    total_trials = (shapes_avail * (shapes_avail - 1)) * 2\n",
    "    \n",
    "    if(test_set_size > total_trials):\n",
    "        test_set_size = total_trials\n",
    "\n",
    "train_set_size"
   ]
  },
  {
   "cell_type": "code",
   "execution_count": 10,
   "id": "911c61a0-4b07-43bc-bc19-3164d7394f55",
   "metadata": {},
   "outputs": [],
   "source": [
    "# If m = 0, training and test sets are drawn from same set of shapes\n",
    "if m_holdout == 0:\n",
    "    # Create all possible trials\n",
    "    same_trials = []\n",
    "    diff_trials = []\n",
    "    for shape1 in train_shapes:\n",
    "        for shape2 in train_shapes:\n",
    "            if shape1 == shape2:\n",
    "                same_trials.append([shape1, shape2])\n",
    "            else:\n",
    "                diff_trials.append([shape1, shape2])\n",
    "    # Shuffle\n",
    "    random.shuffle(same_trials)\n",
    "    random.shuffle(diff_trials)\n",
    "    # Split trials for train and test sets\n",
    "    same_trials_train = same_trials[:np.round(train_proportion * len(same_trials)).astype(np.int32)]\n",
    "    same_trials_test = same_trials[np.round(train_proportion * len(same_trials)).astype(np.int32):]\n",
    "    diff_trials_train = diff_trials[:np.round(train_proportion * len(diff_trials)).astype(np.int32)]\n",
    "    diff_trials_test = diff_trials[np.round(train_proportion * len(diff_trials)).astype(np.int32):]\n",
    "# Otherwise, training and test sets are completely disjoint (in terms of the shapes that are used), and can be generated separately\n",
    "else:\n",
    "    # Create all possible training trials\n",
    "    same_trials_train = []\n",
    "    diff_trials_train = []\n",
    "    for shape1 in train_shapes:\n",
    "        for shape2 in train_shapes:\n",
    "            if shape1 == shape2:\n",
    "                same_trials_train.append([shape1, shape2])\n",
    "            else:\n",
    "                diff_trials_train.append([shape1, shape2])\n",
    "    # Shuffle\n",
    "    random.shuffle(same_trials_train)\n",
    "    random.shuffle(diff_trials_train)\n",
    "    # Create all possible test trials\n",
    "    same_trials_test = []\n",
    "    diff_trials_test = []\n",
    "    for shape1 in test_shapes:\n",
    "        for shape2 in test_shapes:\n",
    "            if shape1 == shape2:\n",
    "                same_trials_test.append([shape1, shape2])\n",
    "            else:\n",
    "                diff_trials_test.append([shape1, shape2])\n",
    "    # Shuffle\n",
    "    random.shuffle(same_trials_test)\n",
    "    random.shuffle(diff_trials_test)"
   ]
  },
  {
   "cell_type": "code",
   "execution_count": 11,
   "id": "3511877e-acc2-4a90-a630-7249ff16b044",
   "metadata": {},
   "outputs": [],
   "source": [
    "# Duplicate 'same' trials to match number of 'different' trials\n",
    "same_trials_train_balanced = []\n",
    "for t in range(len(diff_trials_train)):\n",
    "    same_trials_train_balanced.append(same_trials_train[np.floor(np.random.rand()*len(same_trials_train)).astype(np.int32)])\n",
    "same_trials_test_balanced = []\n",
    "for t in range(len(diff_trials_test)):\n",
    "    same_trials_test_balanced.append(same_trials_test[np.floor(np.random.rand()*len(same_trials_test)).astype(np.int32)])\n",
    "# Combine all same and different trials for training set\n",
    "all_train_seq = []\n",
    "all_train_targ = []\n",
    "for t in range(len(same_trials_train_balanced)):\n",
    "    all_train_seq.append(same_trials_train_balanced[t])\n",
    "    all_train_targ.append(0)\n",
    "for t in range(len(diff_trials_train)):\n",
    "    all_train_seq.append(diff_trials_train[t])\n",
    "    all_train_targ.append(1)\n",
    "# Combine all same and different trials for test set\n",
    "all_test_seq = []\n",
    "all_test_targ = []\n",
    "for t in range(len(same_trials_test_balanced)):\n",
    "    all_test_seq.append(same_trials_test_balanced[t])\n",
    "    all_test_targ.append(0)\n",
    "for t in range(len(diff_trials_test)):\n",
    "    all_test_seq.append(diff_trials_test[t])\n",
    "    all_test_targ.append(1)\n",
    "# Shuffle trials in training set\n",
    "train_ind = np.arange(len(all_train_seq))\n",
    "np.random.shuffle(train_ind)\n",
    "all_train_seq = np.array(all_train_seq)[train_ind]\n",
    "all_train_targ = np.array(all_train_targ)[train_ind]\n",
    "# Shuffle trials in test set\n",
    "test_ind = np.arange(len(all_test_seq))\n",
    "np.random.shuffle(test_ind)\n",
    "all_test_seq = np.array(all_test_seq)[test_ind]\n",
    "all_test_targ = np.array(all_test_targ)[test_ind]\n",
    "# Select subset if desired dataset size is smaller than number of all possible trials\n",
    "if (train_set_size + test_set_size) < total_trials:\n",
    "    all_train_seq = all_train_seq[:train_set_size, :]\n",
    "    all_train_targ = all_train_targ[:train_set_size]\n",
    "    all_test_seq = all_test_seq[:test_set_size, :]\n",
    "    all_test_targ = all_test_targ[:test_set_size]\n"
   ]
  },
  {
   "cell_type": "code",
   "execution_count": 12,
   "id": "ca113dbb-26b3-4ea7-8b1d-7e1b9534c9f1",
   "metadata": {},
   "outputs": [],
   "source": [
    "# Create training and test sets\n",
    "train_set = {'seq_ind': all_train_seq, 'y': all_train_targ}\n",
    "test_set = {'seq_ind': all_test_seq, 'y': all_test_targ}"
   ]
  },
  {
   "cell_type": "code",
   "execution_count": 13,
   "id": "0809985e-26d9-4bb1-89c4-e0066644a110",
   "metadata": {},
   "outputs": [
    {
     "data": {
      "text/plain": [
       "array([ 0,  1,  2,  3,  4,  5,  6,  7,  8,  9, 10, 11, 12, 13, 14, 15, 16,\n",
       "       17, 18, 19, 20, 21, 22, 23, 24, 25, 26, 27, 28, 29, 30, 31, 32, 33,\n",
       "       34, 35, 36, 37, 38, 39, 40, 41, 42, 43, 44, 45, 46, 47, 48, 49, 50,\n",
       "       51, 52, 53, 54, 55, 56, 57, 58, 59, 60, 61, 62, 63, 64, 65, 66, 67,\n",
       "       68, 69, 70, 71, 72, 73, 74, 75, 76, 77, 78, 79, 80, 81, 82, 83, 84,\n",
       "       85, 86, 87, 88, 89, 90, 91, 92, 93, 94, 95, 96, 97, 98, 99])"
      ]
     },
     "execution_count": 13,
     "metadata": {},
     "output_type": "execute_result"
    }
   ],
   "source": [
    "np.unique(train_set['seq_ind'])"
   ]
  },
  {
   "cell_type": "code",
   "execution_count": 14,
   "id": "6d7e0c85-bf9f-4fd4-9813-283eebcf9759",
   "metadata": {},
   "outputs": [
    {
     "data": {
      "text/plain": [
       "array([ 0,  1,  2,  3,  4,  5,  6,  7,  8,  9, 10, 11, 12, 13, 14, 15, 16,\n",
       "       17, 18, 19, 20, 21, 22, 23, 24, 25, 26, 27, 28, 29, 30, 31, 32, 33,\n",
       "       34, 35, 36, 37, 38, 39, 40, 41, 42, 43, 44, 45, 46, 47, 48, 49, 50,\n",
       "       51, 52, 53, 54, 55, 56, 57, 58, 59, 60, 61, 62, 63, 64, 65, 66, 67,\n",
       "       68, 69, 70, 71, 72, 73, 74, 75, 76, 77, 78, 79, 80, 81, 82, 83, 84,\n",
       "       85, 86, 87, 88, 89, 90, 91, 92, 93, 94, 95, 96, 97, 98, 99])"
      ]
     },
     "execution_count": 14,
     "metadata": {},
     "output_type": "execute_result"
    }
   ],
   "source": [
    "np.unique(test_set['seq_ind'])"
   ]
  },
  {
   "cell_type": "code",
   "execution_count": 15,
   "id": "45bea5d9-7397-4f69-a907-ec6da1b64fa0",
   "metadata": {},
   "outputs": [],
   "source": [
    "#back to train and eval at line 197\n"
   ]
  },
  {
   "cell_type": "code",
   "execution_count": 16,
   "id": "58a1a3c0-9b6f-400f-bb86-6044bb82e146",
   "metadata": {},
   "outputs": [
    {
     "name": "stderr",
     "output_type": "stream",
     "text": [
      "2022-12-04 13:46:40.109882: W tensorflow/stream_executor/platform/default/dso_loader.cc:64] Could not load dynamic library 'libcuda.so.1'; dlerror: libcuda.so.1: cannot open shared object file: No such file or directory\n",
      "2022-12-04 13:46:40.109932: W tensorflow/stream_executor/cuda/cuda_driver.cc:269] failed call to cuInit: UNKNOWN ERROR (303)\n",
      "2022-12-04 13:46:40.110014: I tensorflow/stream_executor/cuda/cuda_diagnostics.cc:156] kernel driver does not appear to be running on this host (jupyter-la-2dkoenig): /proc/driver/nvidia/version does not exist\n",
      "2022-12-04 13:46:40.110608: I tensorflow/core/platform/cpu_feature_guard.cc:151] This TensorFlow binary is optimized with oneAPI Deep Neural Network Library (oneDNN) to use the following CPU instructions in performance-critical operations:  SSE4.1 SSE4.2 AVX FMA\n",
      "To enable them in other operations, rebuild TensorFlow with the appropriate compiler flags.\n"
     ]
    },
    {
     "data": {
      "text/plain": [
       "TensorShape([100, 32, 32])"
      ]
     },
     "execution_count": 16,
     "metadata": {},
     "output_type": "execute_result"
    }
   ],
   "source": [
    "#Load images \n",
    "all_imgs = []\n",
    "for i in range(n_shapes):\n",
    "    img_fname='../imgs/' + str(i) + '.png'\n",
    "    img = tf.convert_to_tensor(np.array(Image.open(img_fname)) / 255.)\n",
    "    all_imgs.append(img)\n",
    "all_imgs = tf.stack(all_imgs)\n",
    "all_imgs.shape"
   ]
  },
  {
   "cell_type": "code",
   "execution_count": 17,
   "id": "276bb5c8-ca20-4c34-b5ee-2dd559a53bb5",
   "metadata": {},
   "outputs": [
    {
     "data": {
      "image/png": "[encoded data removed]",
      "text/plain": [
       "<Figure size 432x288 with 1 Axes>"
      ]
     },
     "metadata": {
      "needs_background": "light"
     },
     "output_type": "display_data"
    }
   ],
   "source": [
    "plt.imshow(all_imgs[0])\n",
    "plt.show()"
   ]
  },
  {
   "cell_type": "code",
   "execution_count": 18,
   "id": "7163e327-6b7f-4594-9851-7f43c5e5357a",
   "metadata": {},
   "outputs": [
    {
     "data": {
      "text/plain": [
       "18810"
      ]
     },
     "execution_count": 18,
     "metadata": {},
     "output_type": "execute_result"
    }
   ],
   "source": [
    "#train_set['seq_ind'][0]\n",
    "train_set['seq_ind'].shape + all_imgs.shape[1:]\n",
    "\n",
    "train_set['seq_ind'].shape[0]"
   ]
  },
  {
   "cell_type": "code",
   "execution_count": 19,
   "id": "b592ccd5-7254-42c6-915a-feffab8d64e4",
   "metadata": {},
   "outputs": [],
   "source": [
    "x_train = np.empty(shape=train_set['seq_ind'].shape + all_imgs.shape[1:],\n",
    "                   dtype=float)\n",
    "\n",
    "for i in range(train_set['seq_ind'].shape[0]):\n",
    "    x_train[i][0] = all_imgs[train_set['seq_ind'][i][0]]\n",
    "    x_train[i][1] = all_imgs[train_set['seq_ind'][i][1]]"
   ]
  },
  {
   "cell_type": "code",
   "execution_count": 20,
   "id": "a072c33e-1c33-4e66-8e35-f57fc795adb4",
   "metadata": {},
   "outputs": [
    {
     "data": {
      "text/plain": [
       "(990, 2, 32, 32)"
      ]
     },
     "execution_count": 20,
     "metadata": {},
     "output_type": "execute_result"
    }
   ],
   "source": [
    "x_test = np.empty(shape=test_set['seq_ind'].shape + all_imgs.shape[1:],\n",
    "                   dtype=float)\n",
    "\n",
    "for i in range(test_set['seq_ind'].shape[0]):\n",
    "    x_test[i][0] = all_imgs[test_set['seq_ind'][i][0]]\n",
    "    x_test[i][1] = all_imgs[test_set['seq_ind'][i][1]]\n",
    "    \n",
    "x_test.shape"
   ]
  },
  {
   "cell_type": "code",
   "execution_count": 21,
   "id": "26d449e2-6b01-4c7e-8b3e-ad874d2fd83f",
   "metadata": {},
   "outputs": [
    {
     "data": {
      "text/plain": [
       "(18810, 2, 32, 32)"
      ]
     },
     "execution_count": 21,
     "metadata": {},
     "output_type": "execute_result"
    }
   ],
   "source": [
    "x_train.shape"
   ]
  },
  {
   "cell_type": "code",
   "execution_count": 22,
   "id": "200884cd-132b-430f-8c57-0170f611658d",
   "metadata": {},
   "outputs": [
    {
     "name": "stdout",
     "output_type": "stream",
     "text": [
      "differnt?  True\n"
     ]
    },
    {
     "data": {
      "text/plain": [
       "<Figure size 432x288 with 0 Axes>"
      ]
     },
     "metadata": {},
     "output_type": "display_data"
    },
    {
     "data": {
      "image/png": "[encoded data removed]",
      "text/plain": [
       "<Figure size 432x288 with 2 Axes>"
      ]
     },
     "metadata": {
      "needs_background": "light"
     },
     "output_type": "display_data"
    }
   ],
   "source": [
    "testi = 0\n",
    "plt.figure()\n",
    "\n",
    "#subplot(r,c) provide the no. of rows and columns\n",
    "f, axarr = plt.subplots(1,2) \n",
    "\n",
    "# use the created array to output your multiple images. In this case I have stacked 4 images vertically\n",
    "axarr[0].imshow(x_train[testi][0])\n",
    "axarr[1].imshow(x_train[testi][1])\n",
    "\n",
    "print(\"differnt? \", bool(train_set['y'][testi]))"
   ]
  },
  {
   "cell_type": "code",
   "execution_count": 23,
   "id": "e4ee8f14-d6c9-498c-a047-ff6548b04631",
   "metadata": {},
   "outputs": [
    {
     "name": "stdout",
     "output_type": "stream",
     "text": [
      "differnt?  False\n"
     ]
    },
    {
     "data": {
      "text/plain": [
       "<Figure size 432x288 with 0 Axes>"
      ]
     },
     "metadata": {},
     "output_type": "display_data"
    },
    {
     "data": {
      "image/png": "[encoded data removed]",
      "text/plain": [
       "<Figure size 432x288 with 2 Axes>"
      ]
     },
     "metadata": {
      "needs_background": "light"
     },
     "output_type": "display_data"
    }
   ],
   "source": [
    "testi = 1\n",
    "plt.figure()\n",
    "\n",
    "#subplot(r,c) provide the no. of rows and columns\n",
    "f, axarr = plt.subplots(1,2) \n",
    "\n",
    "# use the created array to output your multiple images. In this case I have stacked 4 images vertically\n",
    "axarr[0].imshow(x_train[testi][0])\n",
    "axarr[1].imshow(x_train[testi][1])\n",
    "\n",
    "print(\"differnt? \", bool(train_set['y'][testi]))"
   ]
  },
  {
   "cell_type": "code",
   "execution_count": 2,
   "id": "de49f2c8-54ab-4771-ae9e-8b7f70339371",
   "metadata": {},
   "outputs": [],
   "source": [
    "def exists(val):\n",
    "    return val is not None"
   ]
  },
  {
   "cell_type": "code",
   "execution_count": 3,
   "id": "3282cc68-2d34-4a86-b38b-09f9c64c7f6b",
   "metadata": {},
   "outputs": [],
   "source": [
    "def safe_cat(t, el, dim =0):\n",
    "    if not exists(t):\n",
    "        return el\n",
    "    return tf.concat((t, el), axis = dim)"
   ]
  },
  {
   "cell_type": "code",
   "execution_count": 4,
   "id": "b1654469-6e43-46f8-8a6b-d556302d3e51",
   "metadata": {},
   "outputs": [],
   "source": [
    "def map_fn(fn, *args, **kwargs):\n",
    "    def inner(*arr):\n",
    "        return map(lambda t: fn(t, *args, **kwargs), arr)\n",
    "    return inner"
   ]
  },
  {
   "cell_type": "markdown",
   "id": "231585bf-7392-4bda-94ef-6438124b31e1",
   "metadata": {},
   "source": [
    "# Transfomer Stuff"
   ]
  },
  {
   "cell_type": "markdown",
   "id": "6805add8-3163-44bd-a342-b6e54110e931",
   "metadata": {},
   "source": [
    "### Transformer Block - similar to [Vaswani2017](https://arxiv.org/abs/1706.03762)"
   ]
  },
  {
   "cell_type": "code",
   "execution_count": 502,
   "id": "0808531d-c686-4178-b92f-274b0ec805b2",
   "metadata": {},
   "outputs": [],
   "source": [
    "class TransformerBlock(keras.layers.Layer):\n",
    "    def __init__(self, embed_dim, num_heads, ff_dim, rate=0.1):\n",
    "        super(TransformerBlock, self).__init__()\n",
    "        self.att = keras.layers.MultiHeadAttention(num_heads=num_heads,\n",
    "                                                   key_dim=embed_dim)\n",
    "        self.ffn = keras.Sequential(\n",
    "            [keras.layers.Dense(ff_dim, activation=\"gelu\"),\n",
    "             keras.layers.Dense(embed_dim),]\n",
    "        )\n",
    "        # self.ffn = keras.Sequential(\n",
    "        #     [keras.layers.Dense(ff_dim, activation=\"relu\"),\n",
    "        #      keras.layers.Dense(embed_dim),]\n",
    "        # )\n",
    "        self.layernorm1 = keras.layers.LayerNormalization(epsilon=1e-6)\n",
    "        self.layernorm2 = keras.layers.LayerNormalization(epsilon=1e-6)\n",
    "        self.dropout1 = keras.layers.Dropout(rate)\n",
    "        self.dropout2 = keras.layers.Dropout(rate)\n",
    "\n",
    "    def call(self, inputs, training):\n",
    "        attn_output = self.att(inputs, inputs)\n",
    "        attn_output = self.dropout1(attn_output, training=training)\n",
    "        out1 = self.layernorm1(inputs + attn_output)\n",
    "        ffn_output = self.ffn(out1)\n",
    "        ffn_output = self.dropout2(ffn_output, training=training)\n",
    "        return self.layernorm2(out1 + ffn_output)"
   ]
  },
  {
   "cell_type": "markdown",
   "id": "c6c093e3-65ed-4f7c-a5bd-5e90efa98c01",
   "metadata": {},
   "source": [
    "### Masked Transformer Block"
   ]
  },
  {
   "cell_type": "code",
   "execution_count": 45,
   "id": "f2942338-174d-43ad-8045-5c77894485bf",
   "metadata": {},
   "outputs": [],
   "source": [
    "class MaskedTransformerBlock(keras.layers.Layer):\n",
    "    def __init__(self, embed_dim, num_heads, ff_dim, rate=0.1):\n",
    "        super(MaskedTransformerBlock, self).__init__()\n",
    "        self.att1 = keras.layers.MultiHeadAttention(num_heads=num_heads,\n",
    "                                                    key_dim=embed_dim)\n",
    "        self.att2 = keras.layers.MultiHeadAttention(num_heads=num_heads,\n",
    "                                                    key_dim=embed_dim)\n",
    "        self.ffn = keras.Sequential(\n",
    "            [keras.layers.Dense(ff_dim, activation=\"gelu\"),\n",
    "             keras.layers.Dense(embed_dim),]\n",
    "        )\n",
    "        self.layernorm1 = keras.layers.LayerNormalization(epsilon=1e-6)\n",
    "        self.layernorm2 = keras.layers.LayerNormalization(epsilon=1e-6)\n",
    "        self.layernorm3 = keras.layers.LayerNormalization(epsilon=1e-6)\n",
    "        self.dropout1 = keras.layers.Dropout(rate)\n",
    "        self.dropout2 = keras.layers.Dropout(rate)\n",
    "        self.dropout3 = keras.layers.Dropout(rate)\n",
    "        \n",
    "    def causal_attention_mask(self, batch_size, n_dest, n_src, dtype):\n",
    "        \"\"\"Masks the upper half of the dot product matrix in self attention.\n",
    "        This prevents flow of information from future tokens to current token.\n",
    "        1's in the lower triangle, counting from the lower right corner.\n",
    "        \"\"\"\n",
    "        i = tf.range(n_dest)[:, None]\n",
    "        j = tf.range(n_src)\n",
    "        m = i >= j - n_src + n_dest\n",
    "        mask = tf.cast(m, dtype)\n",
    "        mask = tf.reshape(mask, [1, n_dest, n_src])\n",
    "        mult = tf.concat(\n",
    "            [tf.expand_dims(batch_size, -1), tf.constant([1, 1], dtype=tf.int32)], 0\n",
    "        )\n",
    "        return tf.tile(mask, mult)\n",
    "\n",
    "    def call(self, inputs, training):\n",
    "        input_shape = tf.shape(inputs[0])\n",
    "        batch_size = input_shape[0]\n",
    "        seq_len = input_shape[1]\n",
    "        mask = self.causal_attention_mask(batch_size,\n",
    "                                         seq_len, seq_len,\n",
    "                                         tf.bool)\n",
    "        attn_output1 = self.att1(inputs[0], inputs[0],\n",
    "                                 attention_mask = mask)\n",
    "        attn_output1 = self.dropout1(attn_output1, training=training)\n",
    "        out1 = self.layernorm1(inputs[0] + attn_output1)\n",
    "        attn_output2 = self.att2(out1, inputs[1])\n",
    "        attn_output2 = self.dropout2(attn_output2, training=training)\n",
    "        out2 = self.layernorm1(out1 + attn_output2)\n",
    "        ffn_output = self.ffn(out2)\n",
    "        ffn_output = self.dropout3(ffn_output, training=training)\n",
    "        return self.layernorm2(out2 + ffn_output)"
   ]
  },
  {
   "cell_type": "markdown",
   "id": "7d8af2d3-5523-4a15-9e0d-f014019438af",
   "metadata": {},
   "source": [
    "### Tokens + Positions (similar, paper reports just as good)"
   ]
  },
  {
   "cell_type": "code",
   "execution_count": 48,
   "id": "8f94405f-89f2-42a2-a6f6-1b1da85884bb",
   "metadata": {},
   "outputs": [],
   "source": [
    "class MaskedTokenAndPositionEmbedding(keras.layers.Layer):\n",
    "    def __init__(self, maxlen, vocab_size, embed_dim):\n",
    "        super(MaskedTokenAndPositionEmbedding, self).__init__()\n",
    "        self.token_emb = keras.layers.Embedding(input_dim=vocab_size,\n",
    "                                                output_dim=embed_dim,\n",
    "                                                mask_zero=True)\n",
    "        self.pos_emb = keras.layers.Embedding(input_dim=maxlen+1,\n",
    "                                              output_dim=embed_dim,\n",
    "                                              mask_zero=True)\n",
    "\n",
    "    def call(self, x):\n",
    "        maxlen = tf.shape(x)[-1]\n",
    "        positions = tf.range(start=1, limit=maxlen+1, delta=1)\n",
    "        positions = positions * tf.cast(tf.sign(x),tf.int32)\n",
    "        positions = self.pos_emb(positions)\n",
    "        x = self.token_emb(x)\n",
    "        return x + positions"
   ]
  },
  {
   "cell_type": "markdown",
   "id": "13198c16-ff18-4ad2-a4a8-1bbb99912ba5",
   "metadata": {},
   "source": [
    "### Custom loss/accuracy functions"
   ]
  },
  {
   "cell_type": "code",
   "execution_count": 47,
   "id": "21ad17a1-6426-4991-a736-4c13739aa438",
   "metadata": {},
   "outputs": [],
   "source": [
    "# Custom masked loss/accuracy functions\n",
    "loss_object = tf.keras.losses.SparseCategoricalCrossentropy(\n",
    "    from_logits=False, reduction='none')\n",
    "\n",
    "def MaskedSparseCategoricalCrossentropy(real, pred):\n",
    "    mask = tf.math.logical_not(tf.math.equal(real, 0))\n",
    "    loss_ = loss_object(real, pred)\n",
    "    mask = tf.cast(mask, dtype=loss_.dtype)\n",
    "    loss_ *= mask\n",
    "    return tf.reduce_sum(loss_)/tf.reduce_sum(mask)\n",
    "\n",
    "def MaskedSparseCategoricalAccuracy(real, pred):\n",
    "    accuracies = tf.equal(tf.cast(real,tf.int64), tf.argmax(pred, axis=2))\n",
    "    mask = tf.math.logical_not(tf.math.equal(real, 0))\n",
    "    accuracies = tf.math.logical_and(mask, accuracies)\n",
    "    accuracies = tf.cast(accuracies, dtype=tf.float32)\n",
    "    mask = tf.cast(mask, dtype=tf.float32)\n",
    "    return tf.reduce_sum(accuracies)/tf.reduce_sum(mask)"
   ]
  },
  {
   "cell_type": "markdown",
   "id": "04249940-80e2-41de-82be-c043621c5b93",
   "metadata": {},
   "source": [
    "# Dealing with the data"
   ]
  },
  {
   "cell_type": "code",
   "execution_count": 91,
   "id": "8e94130f-c1ca-4d42-89d5-208509fc0e64",
   "metadata": {},
   "outputs": [
    {
     "data": {
      "text/plain": [
       "(18810, 2, 32, 32)"
      ]
     },
     "execution_count": 91,
     "metadata": {},
     "output_type": "execute_result"
    }
   ],
   "source": [
    "x_train.shape"
   ]
  },
  {
   "cell_type": "code",
   "execution_count": null,
   "id": "9d05b591-08d6-490d-a739-60e21c533faa",
   "metadata": {},
   "outputs": [],
   "source": []
  },
  {
   "cell_type": "markdown",
   "id": "bc3cccdb-fc02-49c9-aa09-9e5fea9de15b",
   "metadata": {
    "tags": []
   },
   "source": [
    "# The Model"
   ]
  },
  {
   "cell_type": "code",
   "execution_count": 250,
   "id": "bdbaf26b-9134-470b-be25-59049a13bce8",
   "metadata": {},
   "outputs": [],
   "source": [
    "value_dim = 128 #64\n",
    "key_dim = 256 #64, #256?\n",
    "hidden_dim = 512\n",
    "output_dim = 1 #4\n",
    "\n",
    "embed_dim = value_dim#8  # Embedding size for each token\n",
    "num_heads = 8 #4  # Number of attention heads\n",
    "ff_dim = 512 #16  # Hidden layer size in feed forward network inside transformer\n",
    "stack = 4 "
   ]
  },
  {
   "cell_type": "code",
   "execution_count": 481,
   "id": "5e26be2f-36b3-4d07-bac1-fd77dceb5beb",
   "metadata": {},
   "outputs": [
    {
     "name": "stdout",
     "output_type": "stream",
     "text": [
      "Model: \"sequential_65\"\n",
      "_________________________________________________________________\n",
      " Layer (type)                Output Shape              Param #   \n",
      "=================================================================\n",
      " reshape_51 (Reshape)        (None, 32, 32, 1)         0         \n",
      "                                                                 \n",
      " conv2d_43 (Conv2D)          (None, 15, 15, 32)        544       \n",
      "                                                                 \n",
      " conv2d_44 (Conv2D)          (None, 6, 6, 32)          16416     \n",
      "                                                                 \n",
      " conv2d_45 (Conv2D)          (None, 2, 2, 32)          16416     \n",
      "                                                                 \n",
      " flatten_13 (Flatten)        (None, 128)               0         \n",
      "                                                                 \n",
      " dense_157 (Dense)           (None, 256)               33024     \n",
      "                                                                 \n",
      " dense_158 (Dense)           (None, 128)               32896     \n",
      "                                                                 \n",
      "=================================================================\n",
      "Total params: 99,296\n",
      "Trainable params: 99,296\n",
      "Non-trainable params: 0\n",
      "_________________________________________________________________\n"
     ]
    }
   ],
   "source": [
    "fe = tf.keras.Sequential()\n",
    "fe.add(keras.Input(shape=(x_train.shape[2:])))\n",
    "\n",
    "fe.add(tf.keras.layers.Reshape((32, 32, 1))) #to deal with shape issue\n",
    "\n",
    "fe.add(tf.keras.layers.Conv2D(32, kernel_size=4, strides=2, \n",
    "                                   activation=tf.keras.activations.relu))\n",
    "fe.add(tf.keras.layers.Conv2D(32, kernel_size=4, strides=2,\n",
    "                                   activation=tf.keras.activations.relu))\n",
    "fe.add(tf.keras.layers.Conv2D(32, kernel_size=4, strides=2,\n",
    "                                   activation=tf.keras.activations.relu))\n",
    "fe.add(tf.keras.layers.Flatten())\n",
    "fe.add(tf.keras.layers.Dense(key_dim))\n",
    "fe.add(tf.keras.layers.Dense(value_dim))\n",
    "\n",
    "fe.summary()"
   ]
  },
  {
   "cell_type": "code",
   "execution_count": 482,
   "id": "de759503-94b5-4d78-b298-d6a3733bdede",
   "metadata": {},
   "outputs": [],
   "source": [
    "#keras.utils.plot_model(fe, expand_nested=True, show_shapes=True)"
   ]
  },
  {
   "cell_type": "code",
   "execution_count": 483,
   "id": "838390db-690b-4d71-a5a8-aa06d6302344",
   "metadata": {},
   "outputs": [],
   "source": [
    "class PositionalEncodings(keras.layers.Layer):\n",
    "    def __init__(self, d_model, max_len=5000):\n",
    "        super().__init__()\n",
    "        pe = np.zeros((max_len, d_model))\n",
    "        position = tf.expand_dims(tf.range(0, max_len, dtype=tf.float32), axis=1)\n",
    "        #torch.arange(0, max_len, dtype=torch.float).unsqueeze(1)\n",
    "        div_term = tf.exp(tf.range(0, d_model, 2, dtype=tf.float32) * (-math.log(10000.0) / d_model))\n",
    "        #torch.exp(torch.arange(0, d_model, 2).float() * (-math.log(10000.0) / d_model))\n",
    "        pe[:, 0::2] = tf.sin(position * div_term)\n",
    "        pe[:, 1::2] = tf.cos(position * div_term)\n",
    "        pe = np.transpose(np.expand_dims(pe,axis=0),(1,0,2))\n",
    "        self.register_buffer = tf.Variable(pe, trainable=False)\n",
    "        def call(self, x):\n",
    "            x = x + self.pe[:x.size(0), :]\n",
    "            return x"
   ]
  },
  {
   "cell_type": "code",
   "execution_count": 484,
   "id": "d438f030-d6ea-4807-9dcf-4ebc46338071",
   "metadata": {},
   "outputs": [],
   "source": [
    "class contextNorm(keras.layers.Layer):\n",
    "    def __init__(self, z_size=128):\n",
    "        super().__init__()\n",
    "        self.gamma = tf.Variable(np.ones(128), trainable=True)\n",
    "        self.beta = tf.Variable(np.zeros(128), trainable=True)\n",
    "    \n",
    "    def apply_context_norm(z_seq):\n",
    "        eps = 1e-8\n",
    "        z_mu = tf.reduce_mean(z_seq, axis=1)\n",
    "        z_sigm = (tf.math.reduce_variance(z_seq, axis=1) + eps).sqrt()\n",
    "        z_seq = (z_seq - tf.expand_dims(z_mu, axis=1)) / tf.expand_dims(z_sigm, axis=1)\n",
    "        #z_seq = (z_seq * self.gamma) + self.beta\n",
    "        return z_seq\n",
    "    \n",
    "    def call(self, x):\n",
    "        return(apply_context_norm(x)) "
   ]
  },
  {
   "cell_type": "code",
   "execution_count": 526,
   "id": "dfa701c2-5275-45c7-824f-6f0adf6633c8",
   "metadata": {},
   "outputs": [],
   "source": [
    "x = keras.layers.Input(x_train.shape[1:])\n",
    "y = x\n",
    "\n",
    "y1 = fe(y[:,0,:,:])\n",
    "y2 = fe(y[:,1,:,:])\n",
    "\n",
    "# y1 = keras.layers.Normalization()(y1)\n",
    "# y2 = keras.layers.Normalization()(y2)\n",
    "\n",
    "# y1 = contextNorm(y1)\n",
    "# y2 = contextNorm(y2)\n",
    "#print(y1.shape)\n",
    "\n",
    "y = tf.keras.layers.concatenate([y2,y2], axis=1) #this is z_seq in thier code\n",
    "y = tf.keras.layers.Reshape((2,y1.shape[-1]))(y)\n",
    "\n",
    "#context norm????\n",
    "y = keras.layers.Normalization()(y)\n",
    "\n",
    "y = PositionalEncodings(y.shape[-1])(y)\n",
    "\n",
    "\n",
    "\n",
    "#transformer encodings\n",
    "y = TransformerBlock(embed_dim=embed_dim,\n",
    "                     num_heads=num_heads,\n",
    "                     ff_dim=ff_dim,\n",
    "                     rate=0.0)(y)\n",
    "\n",
    "#average\n",
    "y = tf.reduce_mean(y, axis=1)\n",
    "\n",
    "#hidden out\n",
    "y = tf.keras.layers.Dense(256,\n",
    "                          activation=keras.activations.relu)(y)\n",
    "\n",
    "#y_out\n",
    "y = tf.keras.layers.Dense(1, activation=keras.activations.sigmoid)(y)\n",
    "\n",
    "\n",
    "model= keras.Model(x, y)"
   ]
  },
  {
   "cell_type": "code",
   "execution_count": 527,
   "id": "be5e09b9-f467-4007-89b0-8f19d6ab933b",
   "metadata": {
    "scrolled": true,
    "tags": []
   },
   "outputs": [
    {
     "data": {
      "image/png": "[encoded data removed]",
      "text/plain": [
       "<IPython.core.display.Image object>"
      ]
     },
     "execution_count": 527,
     "metadata": {},
     "output_type": "execute_result"
    }
   ],
   "source": [
    "keras.utils.plot_model(model, expand_nested=False, show_shapes=True)"
   ]
  },
  {
   "cell_type": "code",
   "execution_count": 528,
   "id": "d3d3993d-d4dc-4701-9c0c-4ab9aa8da4ca",
   "metadata": {},
   "outputs": [
    {
     "name": "stdout",
     "output_type": "stream",
     "text": [
      "Model: \"model_18\"\n",
      "__________________________________________________________________________________________________\n",
      " Layer (type)                   Output Shape         Param #     Connected to                     \n",
      "==================================================================================================\n",
      " input_38 (InputLayer)          [(None, 2, 32, 32)]  0           []                               \n",
      "                                                                                                  \n",
      " tf.__operators__.getitem_48 (S  (None, 32, 32)      0           ['input_38[0][0]']               \n",
      " licingOpLambda)                                                                                  \n",
      "                                                                                                  \n",
      " sequential_14 (Sequential)     (None, 128)          131872      ['tf.__operators__.getitem_48[0][\n",
      "                                                                 0]']                             \n",
      "                                                                                                  \n",
      " concatenate_18 (Concatenate)   (None, 256)          0           ['sequential_14[21][0]',         \n",
      "                                                                  'sequential_14[21][0]']         \n",
      "                                                                                                  \n",
      " masked_token_and_position_embe  (None, 256, 128)    672896      ['concatenate_18[0][0]']         \n",
      " dding_3 (MaskedTokenAndPositio                                                                   \n",
      " nEmbedding)                                                                                      \n",
      "                                                                                                  \n",
      " transformer_block_7 (Transform  (None, 256, 128)    268560      ['masked_token_and_position_embed\n",
      " erBlock)                                                        ding_3[0][0]']                   \n",
      "                                                                                                  \n",
      " tf.math.reduce_mean (TFOpLambd  (None, 128)         0           ['transformer_block_7[0][0]']    \n",
      " a)                                                                                               \n",
      "                                                                                                  \n",
      "==================================================================================================\n",
      "Total params: 1,073,328\n",
      "Trainable params: 1,073,328\n",
      "Non-trainable params: 0\n",
      "__________________________________________________________________________________________________\n"
     ]
    }
   ],
   "source": [
    "encoder.summary()"
   ]
  },
  {
   "cell_type": "code",
   "execution_count": 529,
   "id": "5ca34d22-908d-4000-b295-edfc52785551",
   "metadata": {},
   "outputs": [],
   "source": [
    "#lr = 5e-4\n",
    "lr = 0.1\n",
    "# model.compile(loss=keras.losses.SparseCategoricalCrossentropy(from_logits=True),\n",
    "#               optimizer=keras.optimizers.Adam(lr),\n",
    "#               metrics=keras.metrics.SparseCategoricalAccuracy())\n",
    "\n",
    "model.compile(loss=keras.losses.BinaryCrossentropy(),\n",
    "              optimizer=keras.optimizers.Adam(lr), #keras.optimizers.Adam(lr),\n",
    "              metrics=keras.metrics.BinaryAccuracy())\n",
    "\n",
    "# model.compile(loss=MaskedSparseCategoricalCrossentropy,\n",
    "#               optimizer=keras.optimizers.Nadam(lr),\n",
    "#               metrics=[MaskedSparseCategoricalAccuracy])"
   ]
  },
  {
   "cell_type": "code",
   "execution_count": 530,
   "id": "3e3a5126-f03f-4e69-a3f5-f08922530203",
   "metadata": {},
   "outputs": [],
   "source": [
    "# testi = 0\n",
    "# prediction = model.predict(x_train[testi:testi+4])\n",
    "# prediction"
   ]
  },
  {
   "cell_type": "code",
   "execution_count": 531,
   "id": "7103dc07-c59a-4822-99b5-133fcf0d9ae3",
   "metadata": {},
   "outputs": [],
   "source": [
    "#train_set['y'][testi:testi+4]"
   ]
  },
  {
   "cell_type": "code",
   "execution_count": 532,
   "id": "10e43300-d3c8-4654-b6b8-64a2e3fda295",
   "metadata": {},
   "outputs": [],
   "source": [
    "#keras.metrics.BinaryAccuracy()(train_set['y'][testi:testi+4],prediction)"
   ]
  },
  {
   "cell_type": "code",
   "execution_count": 533,
   "id": "a7f8cf3d-0cd4-471f-a6d6-560a0d21e66e",
   "metadata": {
    "tags": []
   },
   "outputs": [
    {
     "name": "stdout",
     "output_type": "stream",
     "text": [
      "Epoch 1/20\n",
      "559/559 [==============================] - 15s 24ms/step - loss: 0.9537 - binary_accuracy: 0.5045 - val_loss: 0.6925 - val_binary_accuracy: 0.5228\n",
      "Epoch 2/20\n",
      "559/559 [==============================] - 13s 23ms/step - loss: 0.6949 - binary_accuracy: 0.5002 - val_loss: 0.6950 - val_binary_accuracy: 0.4772\n",
      "Epoch 3/20\n",
      "559/559 [==============================] - 13s 23ms/step - loss: 0.6955 - binary_accuracy: 0.4943 - val_loss: 0.6978 - val_binary_accuracy: 0.4772\n",
      "Epoch 4/20\n",
      "559/559 [==============================] - 13s 23ms/step - loss: 0.6947 - binary_accuracy: 0.4966 - val_loss: 0.6922 - val_binary_accuracy: 0.5228\n",
      "Epoch 5/20\n",
      "559/559 [==============================] - 13s 23ms/step - loss: 0.6952 - binary_accuracy: 0.5047 - val_loss: 0.7008 - val_binary_accuracy: 0.4772\n",
      "Epoch 6/20\n",
      "559/559 [==============================] - 17s 31ms/step - loss: 0.6960 - binary_accuracy: 0.4974 - val_loss: 0.6945 - val_binary_accuracy: 0.4772\n",
      "Epoch 7/20\n",
      "559/559 [==============================] - 21s 38ms/step - loss: 0.6949 - binary_accuracy: 0.5043 - val_loss: 0.6985 - val_binary_accuracy: 0.5228\n",
      "Epoch 8/20\n",
      "559/559 [==============================] - 21s 38ms/step - loss: 0.6954 - binary_accuracy: 0.4996 - val_loss: 0.6928 - val_binary_accuracy: 0.5228\n",
      "Epoch 9/20\n",
      "559/559 [==============================] - 21s 38ms/step - loss: 0.6944 - binary_accuracy: 0.5020 - val_loss: 0.7127 - val_binary_accuracy: 0.4772\n",
      "Epoch 10/20\n",
      "559/559 [==============================] - 21s 38ms/step - loss: 0.6950 - binary_accuracy: 0.4994 - val_loss: 0.7002 - val_binary_accuracy: 0.4772\n",
      "Epoch 11/20\n",
      "559/559 [==============================] - 21s 38ms/step - loss: 0.6949 - binary_accuracy: 0.5025 - val_loss: 0.6952 - val_binary_accuracy: 0.5228\n",
      "Epoch 12/20\n",
      "559/559 [==============================] - 21s 38ms/step - loss: 0.6959 - binary_accuracy: 0.4983 - val_loss: 0.6921 - val_binary_accuracy: 0.5228\n",
      "Epoch 13/20\n",
      "559/559 [==============================] - 21s 38ms/step - loss: 0.6952 - binary_accuracy: 0.5034 - val_loss: 0.6926 - val_binary_accuracy: 0.5228\n",
      "Epoch 14/20\n",
      "559/559 [==============================] - 21s 38ms/step - loss: 0.6955 - binary_accuracy: 0.4947 - val_loss: 0.6931 - val_binary_accuracy: 0.5228\n",
      "Epoch 15/20\n",
      "559/559 [==============================] - 21s 38ms/step - loss: 0.6948 - binary_accuracy: 0.5018 - val_loss: 0.6924 - val_binary_accuracy: 0.5228\n",
      "Epoch 16/20\n",
      "559/559 [==============================] - 17s 30ms/step - loss: 0.6947 - binary_accuracy: 0.5055 - val_loss: 0.6921 - val_binary_accuracy: 0.5228\n",
      "Epoch 17/20\n",
      "559/559 [==============================] - 13s 23ms/step - loss: 0.6950 - binary_accuracy: 0.5012 - val_loss: 0.7066 - val_binary_accuracy: 0.4772\n",
      "Epoch 18/20\n",
      "559/559 [==============================] - 13s 23ms/step - loss: 0.6954 - binary_accuracy: 0.4977 - val_loss: 0.6922 - val_binary_accuracy: 0.5228\n",
      "Epoch 19/20\n",
      "559/559 [==============================] - 13s 23ms/step - loss: 0.6947 - binary_accuracy: 0.5004 - val_loss: 0.6938 - val_binary_accuracy: 0.5228\n",
      "Epoch 20/20\n",
      "559/559 [==============================] - 13s 23ms/step - loss: 0.6952 - binary_accuracy: 0.4979 - val_loss: 0.6923 - val_binary_accuracy: 0.5228\n"
     ]
    }
   ],
   "source": [
    "epochs = 20\n",
    "history = model.fit(x_train, train_set['y'],\n",
    "                    batch_size=train_batch_size,\n",
    "                    epochs=epochs,\n",
    "                    validation_split=1-train_proportion,\n",
    "                    verbose=1)"
   ]
  },
  {
   "cell_type": "code",
   "execution_count": 534,
   "id": "73034722-c76c-465f-9576-a6579e270b7d",
   "metadata": {},
   "outputs": [
    {
     "data": {
      "text/plain": [
       "dict_keys(['loss', 'binary_accuracy', 'val_loss', 'val_binary_accuracy'])"
      ]
     },
     "execution_count": 534,
     "metadata": {},
     "output_type": "execute_result"
    }
   ],
   "source": [
    "history.history.keys()"
   ]
  },
  {
   "cell_type": "code",
   "execution_count": 535,
   "id": "580dd6aa-f58c-4148-a671-9ec8564d2736",
   "metadata": {},
   "outputs": [
    {
     "data": {
      "image/png": "[encoded data removed]",
      "text/plain": [
       "<Figure size 432x288 with 1 Axes>"
      ]
     },
     "metadata": {
      "needs_background": "light"
     },
     "output_type": "display_data"
    }
   ],
   "source": [
    "plt.plot(history.history['loss'], label='training')\n",
    "plt.plot(history.history['val_loss'],label='validation')\n",
    "plt.legend()\n",
    "plt.xlabel('Epoch')\n",
    "plt.ylabel('Loss')\n",
    "\n",
    "plt.show()"
   ]
  },
  {
   "cell_type": "code",
   "execution_count": 537,
   "id": "1c9688d1-bc76-4fae-a175-7a56bac2755f",
   "metadata": {},
   "outputs": [
    {
     "data": {
      "image/png": "[encoded data removed]",
      "text/plain": [
       "<Figure size 432x288 with 1 Axes>"
      ]
     },
     "metadata": {
      "needs_background": "light"
     },
     "output_type": "display_data"
    }
   ],
   "source": [
    "plt.plot(history.history['binary_accuracy'], label='training')\n",
    "plt.plot(history.history['val_binary_accuracy'], label='validation')\n",
    "plt.legend()\n",
    "plt.xlabel('Epoch')\n",
    "plt.ylabel('Accuracy (P)')\n",
    "plt.show()"
   ]
  },
  {
   "cell_type": "code",
   "execution_count": null,
   "id": "354e764d-543f-44d9-8f8b-b9cd7afda541",
   "metadata": {},
   "outputs": [],
   "source": []
  }
 ],
 "metadata": {
  "kernelspec": {
   "display_name": "Python 3 (ipykernel)",
   "language": "python",
   "name": "python3"
  },
  "language_info": {
   "codemirror_mode": {
    "name": "ipython",
    "version": 3
   },
   "file_extension": ".py",
   "mimetype": "text/x-python",
   "name": "python",
   "nbconvert_exporter": "python",
   "pygments_lexer": "ipython3",
   "version": "3.10.5"
  }
 },
 "nbformat": 4,
 "nbformat_minor": 5
}
